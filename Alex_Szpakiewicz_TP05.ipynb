{
 "cells": [
  {
   "cell_type": "markdown",
   "source": [
    "**Exercice 1 :**"
   ],
   "metadata": {
    "collapsed": false
   },
   "id": "c651cd98761c76f6"
  },
  {
   "cell_type": "code",
   "execution_count": 11,
   "id": "initial_id",
   "metadata": {
    "collapsed": true,
    "ExecuteTime": {
     "end_time": "2023-12-06T16:41:01.521815800Z",
     "start_time": "2023-12-06T16:41:01.448334900Z"
    }
   },
   "outputs": [
    {
     "data": {
      "text/plain": "(   sepal length (cm)  sepal width (cm)  petal length (cm)  petal width (cm)  \\\n 0                5.1               3.5                1.4               0.2   \n 1                4.9               3.0                1.4               0.2   \n 2                4.7               3.2                1.3               0.2   \n 3                4.6               3.1                1.5               0.2   \n 4                5.0               3.6                1.4               0.2   \n \n    target target_name  \n 0       0      setosa  \n 1       0      setosa  \n 2       0      setosa  \n 3       0      setosa  \n 4       0      setosa  ,\n array(['setosa', 'versicolor', 'virginica'], dtype='<U10'),\n array([0, 0, 0, 0, 0, 0, 0, 0, 0, 0, 0, 0, 0, 0, 0, 0, 0, 0, 0, 0, 0, 0,\n        0, 0, 0, 0, 0, 0, 0, 0, 0, 0, 0, 0, 0, 0, 0, 0, 0, 0, 0, 0, 0, 0,\n        0, 0, 0, 0, 0, 0, 1, 1, 1, 1, 1, 1, 1, 1, 1, 1, 1, 1, 1, 1, 1, 1,\n        1, 1, 1, 1, 1, 1, 1, 1, 1, 1, 1, 1, 1, 1, 1, 1, 1, 1, 1, 1, 1, 1,\n        1, 1, 1, 1, 1, 1, 1, 1, 1, 1, 1, 1, 2, 2, 2, 2, 2, 2, 2, 2, 2, 2,\n        2, 2, 2, 2, 2, 2, 2, 2, 2, 2, 2, 2, 2, 2, 2, 2, 2, 2, 2, 2, 2, 2,\n        2, 2, 2, 2, 2, 2, 2, 2, 2, 2, 2, 2, 2, 2, 2, 2, 2, 2]),\n 3)"
     },
     "execution_count": 11,
     "metadata": {},
     "output_type": "execute_result"
    }
   ],
   "source": [
    "from sklearn.datasets import load_iris\n",
    "import pandas as pd\n",
    "import numpy as np\n",
    "# Loading the Iris dataset\n",
    "iris = load_iris()\n",
    "\n",
    "# Extracting petal length and width\n",
    "X = iris.data[:, 2:4]  # Petal length and width are the third and fourth features\n",
    "\n",
    "# Creating a DataFrame for better visualization\n",
    "iris_df = pd.DataFrame(iris.data, columns=iris.feature_names)\n",
    "iris_df['target'] = iris.target\n",
    "iris_df['target_name'] = iris_df['target'].apply(lambda x: iris.target_names[x])\n",
    "\n",
    "# Printing the target variable's names, values and counting the number of classes\n",
    "target_names = iris.target_names\n",
    "target_values = iris.target\n",
    "class_count = len(set(target_values))\n",
    "\n",
    "iris_df.head(), target_names, target_values, class_count\n"
   ]
  },
  {
   "cell_type": "code",
   "execution_count": 12,
   "outputs": [
    {
     "data": {
      "text/plain": "DecisionTreeClassifier(max_depth=2)",
      "text/html": "<style>#sk-container-id-2 {color: black;}#sk-container-id-2 pre{padding: 0;}#sk-container-id-2 div.sk-toggleable {background-color: white;}#sk-container-id-2 label.sk-toggleable__label {cursor: pointer;display: block;width: 100%;margin-bottom: 0;padding: 0.3em;box-sizing: border-box;text-align: center;}#sk-container-id-2 label.sk-toggleable__label-arrow:before {content: \"▸\";float: left;margin-right: 0.25em;color: #696969;}#sk-container-id-2 label.sk-toggleable__label-arrow:hover:before {color: black;}#sk-container-id-2 div.sk-estimator:hover label.sk-toggleable__label-arrow:before {color: black;}#sk-container-id-2 div.sk-toggleable__content {max-height: 0;max-width: 0;overflow: hidden;text-align: left;background-color: #f0f8ff;}#sk-container-id-2 div.sk-toggleable__content pre {margin: 0.2em;color: black;border-radius: 0.25em;background-color: #f0f8ff;}#sk-container-id-2 input.sk-toggleable__control:checked~div.sk-toggleable__content {max-height: 200px;max-width: 100%;overflow: auto;}#sk-container-id-2 input.sk-toggleable__control:checked~label.sk-toggleable__label-arrow:before {content: \"▾\";}#sk-container-id-2 div.sk-estimator input.sk-toggleable__control:checked~label.sk-toggleable__label {background-color: #d4ebff;}#sk-container-id-2 div.sk-label input.sk-toggleable__control:checked~label.sk-toggleable__label {background-color: #d4ebff;}#sk-container-id-2 input.sk-hidden--visually {border: 0;clip: rect(1px 1px 1px 1px);clip: rect(1px, 1px, 1px, 1px);height: 1px;margin: -1px;overflow: hidden;padding: 0;position: absolute;width: 1px;}#sk-container-id-2 div.sk-estimator {font-family: monospace;background-color: #f0f8ff;border: 1px dotted black;border-radius: 0.25em;box-sizing: border-box;margin-bottom: 0.5em;}#sk-container-id-2 div.sk-estimator:hover {background-color: #d4ebff;}#sk-container-id-2 div.sk-parallel-item::after {content: \"\";width: 100%;border-bottom: 1px solid gray;flex-grow: 1;}#sk-container-id-2 div.sk-label:hover label.sk-toggleable__label {background-color: #d4ebff;}#sk-container-id-2 div.sk-serial::before {content: \"\";position: absolute;border-left: 1px solid gray;box-sizing: border-box;top: 0;bottom: 0;left: 50%;z-index: 0;}#sk-container-id-2 div.sk-serial {display: flex;flex-direction: column;align-items: center;background-color: white;padding-right: 0.2em;padding-left: 0.2em;position: relative;}#sk-container-id-2 div.sk-item {position: relative;z-index: 1;}#sk-container-id-2 div.sk-parallel {display: flex;align-items: stretch;justify-content: center;background-color: white;position: relative;}#sk-container-id-2 div.sk-item::before, #sk-container-id-2 div.sk-parallel-item::before {content: \"\";position: absolute;border-left: 1px solid gray;box-sizing: border-box;top: 0;bottom: 0;left: 50%;z-index: -1;}#sk-container-id-2 div.sk-parallel-item {display: flex;flex-direction: column;z-index: 1;position: relative;background-color: white;}#sk-container-id-2 div.sk-parallel-item:first-child::after {align-self: flex-end;width: 50%;}#sk-container-id-2 div.sk-parallel-item:last-child::after {align-self: flex-start;width: 50%;}#sk-container-id-2 div.sk-parallel-item:only-child::after {width: 0;}#sk-container-id-2 div.sk-dashed-wrapped {border: 1px dashed gray;margin: 0 0.4em 0.5em 0.4em;box-sizing: border-box;padding-bottom: 0.4em;background-color: white;}#sk-container-id-2 div.sk-label label {font-family: monospace;font-weight: bold;display: inline-block;line-height: 1.2em;}#sk-container-id-2 div.sk-label-container {text-align: center;}#sk-container-id-2 div.sk-container {/* jupyter's `normalize.less` sets `[hidden] { display: none; }` but bootstrap.min.css set `[hidden] { display: none !important; }` so we also need the `!important` here to be able to override the default hidden behavior on the sphinx rendered scikit-learn.org. See: https://github.com/scikit-learn/scikit-learn/issues/21755 */display: inline-block !important;position: relative;}#sk-container-id-2 div.sk-text-repr-fallback {display: none;}</style><div id=\"sk-container-id-2\" class=\"sk-top-container\"><div class=\"sk-text-repr-fallback\"><pre>DecisionTreeClassifier(max_depth=2)</pre><b>In a Jupyter environment, please rerun this cell to show the HTML representation or trust the notebook. <br />On GitHub, the HTML representation is unable to render, please try loading this page with nbviewer.org.</b></div><div class=\"sk-container\" hidden><div class=\"sk-item\"><div class=\"sk-estimator sk-toggleable\"><input class=\"sk-toggleable__control sk-hidden--visually\" id=\"sk-estimator-id-2\" type=\"checkbox\" checked><label for=\"sk-estimator-id-2\" class=\"sk-toggleable__label sk-toggleable__label-arrow\">DecisionTreeClassifier</label><div class=\"sk-toggleable__content\"><pre>DecisionTreeClassifier(max_depth=2)</pre></div></div></div></div></div>"
     },
     "execution_count": 12,
     "metadata": {},
     "output_type": "execute_result"
    }
   ],
   "source": [
    "from sklearn.tree import DecisionTreeClassifier,export_graphviz\n",
    "\n",
    "# Creating a DecisionTreeClassifier object with maximum depth of 2\n",
    "treeClassifier = DecisionTreeClassifier(max_depth=2)\n",
    "treeClassifier.fit(X, target_values)"
   ],
   "metadata": {
    "collapsed": false,
    "ExecuteTime": {
     "end_time": "2023-12-06T16:41:01.568642700Z",
     "start_time": "2023-12-06T16:41:01.461282200Z"
    }
   },
   "id": "9f053163badcb1b"
  },
  {
   "cell_type": "code",
   "execution_count": 13,
   "outputs": [],
   "source": [
    "# Export the decision tree to a .dot file\n",
    "export_graphviz(treeClassifier, \n",
    "                out_file=\"IrisDTree.dot\",\n",
    "                feature_names=iris.feature_names[2:],  # Using petal length and width\n",
    "                class_names=iris.target_names,\n",
    "                rounded=True,\n",
    "                filled=True)"
   ],
   "metadata": {
    "collapsed": false,
    "ExecuteTime": {
     "end_time": "2023-12-06T16:41:01.571664Z",
     "start_time": "2023-12-06T16:41:01.467938700Z"
    }
   },
   "id": "71712dcebc83fada"
  },
  {
   "cell_type": "markdown",
   "source": [
    "![Visualize the decision tree](graphviz.png)\n"
   ],
   "metadata": {
    "collapsed": false
   },
   "id": "f8476008bbd64396"
  },
  {
   "cell_type": "markdown",
   "source": [
    "**Exercice 2 :**"
   ],
   "metadata": {
    "collapsed": false
   },
   "id": "d7e3bcb22df78a14"
  },
  {
   "cell_type": "code",
   "execution_count": 14,
   "outputs": [
    {
     "data": {
      "text/plain": "(0.6666666666666667, 0.3333333333333333, 0.3333333333333333)"
     },
     "execution_count": 14,
     "metadata": {},
     "output_type": "execute_result"
    }
   ],
   "source": [
    "# Calculating the Gini impurity for the entire dataset (root node)\n",
    "total_samples = len(iris.target)\n",
    "gini_root = 1 - sum([(np.count_nonzero(iris.target == c) / total_samples)**2 for c in np.unique(iris.target)])\n",
    "\n",
    "# Recalculating the Gini impurity for petal length and petal width using the entire dataset\n",
    "def calculate_gini_for_entire_dataset(feature_index):\n",
    "    # Initialize counts for each class for each feature threshold\n",
    "    thresholds = np.unique(iris.data[:, feature_index])\n",
    "    best_gini = 1.0\n",
    "\n",
    "    for threshold in thresholds:\n",
    "        left_classes = iris.target[iris.data[:, feature_index] <= threshold]\n",
    "        right_classes = iris.target[iris.data[:, feature_index] > threshold]\n",
    "\n",
    "        # Handle case where a node (left or right) has no samples\n",
    "        if len(left_classes) == 0 or len(right_classes) == 0:\n",
    "            continue\n",
    "\n",
    "        # Calculate Gini for left and right nodes\n",
    "        gini_left = 1.0 - sum([(np.count_nonzero(left_classes == c) / len(left_classes))**2 for c in np.unique(iris.target)]) if len(left_classes) > 0 else 0\n",
    "        gini_right = 1.0 - sum([(np.count_nonzero(right_classes == c) / len(right_classes))**2 for c in np.unique(iris.target)]) if len(right_classes) > 0 else 0\n",
    "\n",
    "        # Weighted average of Gini impurity\n",
    "        gini = (len(left_classes) / total_samples) * gini_left + (len(right_classes) / total_samples) * gini_right\n",
    "\n",
    "        best_gini = min(best_gini, gini)\n",
    "\n",
    "    return best_gini\n",
    "\n",
    "gini_petal_length_entire = calculate_gini_for_entire_dataset(2)  # Petal length\n",
    "gini_petal_width_entire = calculate_gini_for_entire_dataset(3)  # Petal width\n",
    "\n",
    "gini_root, gini_petal_length_entire, gini_petal_width_entire\n",
    "\n"
   ],
   "metadata": {
    "collapsed": false,
    "ExecuteTime": {
     "end_time": "2023-12-06T16:41:01.589641200Z",
     "start_time": "2023-12-06T16:41:01.480521900Z"
    }
   },
   "id": "3805c13d516c50a8"
  },
  {
   "cell_type": "code",
   "execution_count": 15,
   "outputs": [
    {
     "data": {
      "text/plain": "array([[0.        , 0.90740741, 0.09259259]])"
     },
     "execution_count": 15,
     "metadata": {},
     "output_type": "execute_result"
    }
   ],
   "source": [
    "# Estimating the class probabilities for a flower with petals 5 cm long and 1.5 cm wide\n",
    "flower = np.array([[5.0, 1.5]])  # Petal length = 5 cm, Petal width = 1.5 cm\n",
    "probabilities = treeClassifier.predict_proba(flower)\n",
    "probabilities\n"
   ],
   "metadata": {
    "collapsed": false,
    "ExecuteTime": {
     "end_time": "2023-12-06T16:41:01.590642400Z",
     "start_time": "2023-12-06T16:41:01.492855900Z"
    }
   },
   "id": "194dc37c83bc47aa"
  },
  {
   "cell_type": "markdown",
   "source": [
    "1. **Start at the Root Node**: The root node of the decision tree typically asks a question about one of the features. In your case, you mentioned a threshold of petal length being smaller or greater than 0.8 cm. Since our flower's petal length is 5 cm, which is greater than 0.8 cm, we move to the right child of the root node.\n",
    "\n",
    "2. **Follow the Tree Path**: At each subsequent node, a similar decision is made based on the thresholds for petal length or width defined by the tree. We continue this process, moving left or right at each node, depending on how our flower's measurements compare to the thresholds at each node.\n",
    "\n",
    "3. **Reach the Final Leaf Node**: The process continues until we reach a leaf node. Each leaf node in a decision tree represents a class prediction or a probability distribution over the classes. In our case, the final leaf node where we end up will give us the probability distribution for the classes.\n",
    "\n",
    "   - Since our flower has a petal length of 5 cm and petal width of 1.5 cm, it's likely that the path taken in the tree led us to a leaf node where Iris versicolor is the most probable class, given the high probability (90.74%) estimated for this class.\n",
    "\n",
    "4. **Interpreting the Leaf Node**: The final leaf node's prediction aligns with the highest probability class estimated by the model. In our example, the leaf node we reach through this process indicates that the flower is most likely an Iris versicolor, which is consistent with the `predict_proba` function's output.\n"
   ],
   "metadata": {
    "collapsed": false
   },
   "id": "b0c33aa6e95da129"
  },
  {
   "cell_type": "code",
   "execution_count": 16,
   "outputs": [
    {
     "data": {
      "text/plain": "array([1])"
     },
     "execution_count": 16,
     "metadata": {},
     "output_type": "execute_result"
    }
   ],
   "source": [
    "# Predicting the class for a flower with petals 5 cm long and 1.5 cm wide\n",
    "predicted_class = treeClassifier.predict(flower)\n",
    "predicted_class"
   ],
   "metadata": {
    "collapsed": false,
    "ExecuteTime": {
     "end_time": "2023-12-06T16:41:01.590642400Z",
     "start_time": "2023-12-06T16:41:01.497061700Z"
    }
   },
   "id": "20f6f8f49ba4d476"
  },
  {
   "cell_type": "markdown",
   "source": [
    "**Exercice 3 :**"
   ],
   "metadata": {
    "collapsed": false
   },
   "id": "4dcb2bcd1a2e98cd"
  },
  {
   "cell_type": "code",
   "execution_count": 17,
   "outputs": [],
   "source": [
    "from sklearn.model_selection import KFold\n",
    "from sklearn.metrics import accuracy_score\n",
    "def kfoldCrossValidation(X, y, k, M):\n",
    "    # Set up k-fold cross-validation\n",
    "    kfold = KFold(n_splits=k, shuffle=True, random_state=42)\n",
    "    scores = []\n",
    "    # Perform k-fold cross-validation\n",
    "    for train_index, test_index in kfold.split(X):\n",
    "        X_train, X_test = X[train_index], X[test_index]\n",
    "        y_train, y_test = y[train_index], y[test_index]\n",
    "        # Fit the classifier on the training data\n",
    "        M.fit(X_train, y_train)\n",
    "        # Predict on the test data\n",
    "        y_pred = M.predict(X_test)\n",
    "        # Calculate accuracy and store in scores list\n",
    "        accuracy = accuracy_score(y_test, y_pred)\n",
    "        scores.append(accuracy)\n",
    "    return scores"
   ],
   "metadata": {
    "collapsed": false,
    "ExecuteTime": {
     "end_time": "2023-12-06T16:41:01.591641500Z",
     "start_time": "2023-12-06T16:41:01.503763300Z"
    }
   },
   "id": "e44afc55e624a29c"
  },
  {
   "cell_type": "code",
   "execution_count": 18,
   "outputs": [],
   "source": [
    "# Implementing the average accuracy\n",
    "def average_accuracy(X, y, k, M):\n",
    "    scores = kfoldCrossValidation(X, y, k, M)\n",
    "    return sum(scores) / len(scores)"
   ],
   "metadata": {
    "collapsed": false,
    "ExecuteTime": {
     "end_time": "2023-12-06T16:41:01.591641500Z",
     "start_time": "2023-12-06T16:41:01.511091800Z"
    }
   },
   "id": "3b28e2a36257cd10"
  },
  {
   "cell_type": "code",
   "execution_count": 19,
   "outputs": [
    {
     "name": "stdout",
     "output_type": "stream",
     "text": [
      "Average accuracies for max depth of 2: [0.9333333333333333, 0.94, 0.9466666666666667, 0.9466666666666669]\n"
     ]
    }
   ],
   "source": [
    "# Applying average accuracy on the trained tree with different values of k\n",
    "X = iris.data  # Using all features this time\n",
    "y = iris.target\n",
    "k_values = [2, 3, 5, 10]\n",
    "\n",
    "# Tree with max depth of 2\n",
    "treeClassifierMax2 = DecisionTreeClassifier(max_depth=2)\n",
    "avg_accuracies_max2 = [average_accuracy(X, y, k, treeClassifierMax2) for k in k_values]\n",
    "print(\"Accuracy using gini and kfold:\")\n",
    "print(\"Average accuracies for max depth of 2:\", avg_accuracies_max2)"
   ],
   "metadata": {
    "collapsed": false,
    "ExecuteTime": {
     "end_time": "2023-12-06T16:41:01.592642700Z",
     "start_time": "2023-12-06T16:41:01.515610200Z"
    }
   },
   "id": "7a161c0635c8f15"
  },
  {
   "cell_type": "markdown",
   "source": [
    "**Exercice 4 :**"
   ],
   "metadata": {
    "collapsed": false
   },
   "id": "e8d1dfe98d7a1bc5"
  },
  {
   "cell_type": "code",
   "execution_count": 21,
   "outputs": [
    {
     "name": "stdout",
     "output_type": "stream",
     "text": [
      "Accuracy using entropy: 0.978\n"
     ]
    }
   ],
   "source": [
    "from sklearn.model_selection import train_test_split\n",
    "\n",
    "# Tree using entropy as the impurity measure\n",
    "dt_entropy = DecisionTreeClassifier(criterion='entropy', max_depth=2, random_state=42)\n",
    "Xtrain, Xtest, ytrain, ytest = train_test_split(X, y, test_size=0.3, random_state=42)\n",
    "dt_entropy.fit(Xtrain, ytrain)\n",
    "\n",
    "accuracy = dt_entropy.score(Xtest,ytest)\n",
    "print(f\"Accuracy using entropy: {accuracy:.3f}\")"
   ],
   "metadata": {
    "collapsed": false,
    "ExecuteTime": {
     "end_time": "2023-12-06T16:41:28.707863900Z",
     "start_time": "2023-12-06T16:41:28.702118900Z"
    }
   },
   "id": "3e0f34f7f0a1e9ab"
  },
  {
   "cell_type": "code",
   "execution_count": null,
   "outputs": [],
   "source": [
    "# Applying average accuracy on the trained tree with different values of k\n",
    "X = iris.data  # Using all features this time\n",
    "y = iris.target\n",
    "k_values = [2, 3, 5, 10]\n",
    "\n",
    "# Tree with max depth of 2\n",
    "treeClassifierMax2 = DecisionTreeClassifier(max_depth=2)\n",
    "avg_accuracies_entropy = [average_accuracy(X, y, k, dt_entropy) for k in k_values]\n",
    "print(\"Accuracy using entropy and kfold:\")\n",
    "print(\"Average accuracies for max depth of 2:\", avg_accuracies_entropy)"
   ],
   "metadata": {
    "collapsed": false
   },
   "id": "9075f2f478a3e40f"
  }
 ],
 "metadata": {
  "kernelspec": {
   "display_name": "Python 3",
   "language": "python",
   "name": "python3"
  },
  "language_info": {
   "codemirror_mode": {
    "name": "ipython",
    "version": 2
   },
   "file_extension": ".py",
   "mimetype": "text/x-python",
   "name": "python",
   "nbconvert_exporter": "python",
   "pygments_lexer": "ipython2",
   "version": "2.7.6"
  }
 },
 "nbformat": 4,
 "nbformat_minor": 5
}
