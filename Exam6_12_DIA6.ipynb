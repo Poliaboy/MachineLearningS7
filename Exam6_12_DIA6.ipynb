{
 "nbformat": 4,
 "nbformat_minor": 0,
 "metadata": {
  "colab": {
   "provenance": []
  },
  "kernelspec": {
   "name": "python3",
   "display_name": "Python 3"
  },
  "language_info": {
   "name": "python"
  }
 },
 "cells": [
  {
   "cell_type": "markdown",
   "source": [
    "# PW Final Exam\n",
    "# 12/1/2023\n",
    "# By Nédra Mellouli @devinci.fr\n",
    "ChatGPT is forbidden\n",
    "\n",
    "Moodle resources are available"
   ],
   "metadata": {
    "id": "_QXbHMMdnXvh"
   }
  },
  {
   "cell_type": "markdown",
   "source": [
    "# Exercise 1 (10 pts)\n",
    "Given  blood transfusion dataset, we are lokking to classify between blood donated and not.\n",
    "\n",
    "\n",
    "1.Load the data from csv with the correct seperator and store it in a dataframe format\n",
    "1. print the data information\n",
    "\n",
    "1.   Define the list of input features (as your explanatory variables) and the target features for a classification task\n",
    "2.   plot  histogramms of the input features and the box plot of your data\n",
    "\n",
    "1.   Plot the correlation matrix\n",
    "1.   define a feature_columns variable composed by the name of all the explanatory varaibels\n",
    "\n",
    "1.  Build a new dataframe called \"data\" containing only the values associated to feature_columns.\n",
    "2. Determine the missing data  and plot the rate of missing values by feature.\n",
    "\n",
    "\n",
    "2. Explain your process  to clean the data  \n",
    "\n",
    "2. Code your cleaning process\n",
    "1. Display features distribution for each class and the feature's correlation matrix.\n",
    "1. Comment the data\n",
    "\n",
    "\n",
    "\n",
    "   \n",
    "\n",
    "\n",
    "\n",
    "\n",
    "\n",
    "\n",
    "\n"
   ],
   "metadata": {
    "id": "9Z9wkrLmnd-_"
   }
  },
  {
   "cell_type": "code",
   "execution_count": null,
   "outputs": [],
   "source": [
    "import pandas as pd\n",
    "import matplotlib.pyplot as plt\n",
    "import seaborn as sns"
   ],
   "metadata": {
    "collapsed": false
   }
  },
  {
   "cell_type": "markdown",
   "source": [
    "# Exercise 1 (10 pts)"
   ],
   "metadata": {
    "collapsed": false
   }
  },
  {
   "cell_type": "code",
   "execution_count": null,
   "outputs": [],
   "source": [
    "# Task 1: Load the data\n",
    "data_path = 'path_to_citrus.csv'  # Replace with the correct path\n",
    "citrus_data = pd.read_csv(data_path, sep=',')  # Adjust the separator if needed\n",
    "\n",
    "# Task 2: Print data information\n",
    "print(citrus_data.info())\n",
    "\n",
    "# Task 3: Define input and target features\n",
    "input_features = ['feature1', 'feature2', 'feature3']  # Replace with actual feature names\n",
    "target_feature = 'target'  # Replace with the name of the target feature\n",
    "\n",
    "# Task 4: Plot histograms and box plots of input features\n",
    "for feature in input_features:\n",
    "    plt.figure(figsize=(10, 4))\n",
    "    plt.subplot(1, 2, 1)\n",
    "    citrus_data[feature].hist()\n",
    "    plt.title(f'Histogram of {feature}')\n",
    "    \n",
    "    plt.subplot(1, 2, 2)\n",
    "    citrus_data.boxplot(column=[feature])\n",
    "    plt.title(f'Box Plot of {feature}')\n",
    "    plt.show()\n",
    "\n",
    "# Task 5: Plot the correlation matrix\n",
    "plt.figure(figsize=(10, 8))\n",
    "sns.heatmap(citrus_data[input_features].corr(), annot=True, cmap='coolwarm')\n",
    "plt.title('Correlation Matrix')\n",
    "plt.show()\n",
    "\n",
    "# Task 6: Define feature_columns and create a new dataframe\n",
    "feature_columns = input_features.copy()\n",
    "data = citrus_data[feature_columns]\n",
    "\n",
    "# Task 7: Determine and plot missing data rates\n",
    "missing_data = data.isnull().mean()\n",
    "plt.figure(figsize=(10, 4))\n",
    "missing_data.plot(kind='bar')\n",
    "plt.title('Rate of Missing Values by Feature')\n",
    "plt.show()\n",
    "\n",
    "# Task 8: Print 20 head samples with missing values\n",
    "print(data[data.isnull().any(axis=1)].head(20))\n",
    "\n",
    "# Task 9: Explain the data cleaning process (this should be a textual explanation)\n",
    "\n",
    "# Task 10: Code the data cleaning process\n",
    "# Example: data.fillna(method='ffill', inplace=True)\n",
    "\n",
    "# Task 11: Display features distribution for each class\n",
    "for feature in input_features:\n",
    "    plt.figure(figsize=(10, 4))\n",
    "    sns.boxplot(x=target_feature, y=feature, data=citrus_data)\n",
    "    plt.title(f'Feature Distribution for Each Class - {feature}')\n",
    "    plt.show()\n",
    "\n",
    "# Task 12: Comment on the data (this should be a textual commentary)\n"
   ],
   "metadata": {
    "collapsed": false
   }
  },
  {
   "cell_type": "markdown",
   "source": [
    "# Exercise 2 (10 points)\n",
    "\n",
    "On the cleaned blood transfusion dataset, we are looking to build a Machine learning model allowing as to distinguish between different classes.\n",
    "\n",
    "Here are the explanatory features:\n",
    "\n",
    "*  Recency: the time in months since the last time a person intended to give blood\n",
    "*   Frequency: the number of time a person intended to give blood in the past\n",
    "\n",
    "*   Monetary: the amount of blood given in the past\n",
    "*   Time: the time in months since the first time a person intended to give blood\n",
    "1.  # Exercise 2 (10 points)\n",
    "\n",
    "On the cleaned data , we are looking to build a Machine learning model allowing as to distinguish between  categories.\n",
    "\n",
    "\n",
    "\n",
    "1.   Use a decision tree model  with gini criteria, max_depth=2 after splitting the dataset into 80% for traing and 20% for test.\n",
    "2.   Evaluate the trained decision tree on the test dataset and display its accuracy\n",
    "1.Create a second decision tree classifier with a max_depth=2   using the k-fold cross validation. Hint: take 60% data to train model using k-fold cross validation.  \n",
    "2.  Compute the accuracy of the decision tree on the 40% of the rest of the data  step.\n",
    "1.   Compute the accuracy of the decision tree on the testing data\n",
    "2.Plot the tree and select the most impure node at the level 1. Justify your answer\n",
    "1.   Take the samples belonging to the most impure node and apply a DBSCAN to discover more discrimate properties on these samples, take epsilon=0.5.\n",
    "\n",
    "\n",
    "\n",
    "\n",
    "\n",
    "\n",
    "\n",
    "\n",
    "\n",
    "\n"
   ],
   "metadata": {
    "id": "QJXsKLF_nin2"
   }
  }
 ]
}
