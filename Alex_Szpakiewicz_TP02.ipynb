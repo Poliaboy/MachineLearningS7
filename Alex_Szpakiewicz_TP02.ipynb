{
 "cells": [
  {
   "cell_type": "code",
   "execution_count": 54,
   "id": "initial_id",
   "metadata": {
    "collapsed": true,
    "ExecuteTime": {
     "end_time": "2023-10-05T20:27:45.974923100Z",
     "start_time": "2023-10-05T20:27:45.809855600Z"
    }
   },
   "outputs": [],
   "source": [
    "import pandas as pd\n",
    "import numpy as np"
   ]
  },
  {
   "cell_type": "markdown",
   "source": [
    "<h1>Part I: Data management with Pandas</h1>\n",
    "\n",
    "<h2>Exercise 1: Pandss Series data structure</h2>"
   ],
   "metadata": {
    "collapsed": false
   },
   "id": "141f7d8272eff9a8"
  },
  {
   "cell_type": "code",
   "execution_count": 55,
   "outputs": [
    {
     "data": {
      "text/plain": "0     Football\n1     Handball\n2    SnowSport\ndtype: object"
     },
     "metadata": {},
     "output_type": "display_data"
    }
   ],
   "source": [
    "sports = pd.Series(['Football', 'Handball', 'SnowSport'])\n",
    "display(sports)"
   ],
   "metadata": {
    "collapsed": false,
    "ExecuteTime": {
     "end_time": "2023-10-05T20:27:46.049948600Z",
     "start_time": "2023-10-05T20:27:45.823947400Z"
    }
   },
   "id": "6bbaf528dc73ef39"
  },
  {
   "cell_type": "markdown",
   "source": [
    "Each element of the list is an object."
   ],
   "metadata": {
    "collapsed": false
   },
   "id": "77fe73ff4ed3e4a6"
  },
  {
   "cell_type": "code",
   "execution_count": 56,
   "outputs": [
    {
     "data": {
      "text/plain": "0    1\n1    2\n2    3\n3    4\n4    5\ndtype: int64"
     },
     "metadata": {},
     "output_type": "display_data"
    }
   ],
   "source": [
    "numeric = pd.Series([1, 2, 3, 4, 5])\n",
    "display(numeric)"
   ],
   "metadata": {
    "collapsed": false,
    "ExecuteTime": {
     "end_time": "2023-10-05T20:27:46.276716100Z",
     "start_time": "2023-10-05T20:27:45.834239200Z"
    }
   },
   "id": "57e28a602b7d460d"
  },
  {
   "cell_type": "markdown",
   "source": [
    "The elements of the list are integers. "
   ],
   "metadata": {
    "collapsed": false
   },
   "id": "29d270f9a022ddf7"
  },
  {
   "cell_type": "code",
   "execution_count": 57,
   "outputs": [
    {
     "data": {
      "text/plain": "0     Football\n1     Handball\n2    SnowSport\n3         None\ndtype: object"
     },
     "metadata": {},
     "output_type": "display_data"
    },
    {
     "data": {
      "text/plain": "0    1.0\n1    2.0\n2    3.0\n3    4.0\n4    5.0\n5    NaN\ndtype: float64"
     },
     "metadata": {},
     "output_type": "display_data"
    }
   ],
   "source": [
    "sports = pd.Series(['Football', 'Handball', 'SnowSport',None])\n",
    "display(sports)\n",
    "numeric = pd.Series([1, 2, 3, 4, 5, None])\n",
    "display(numeric)"
   ],
   "metadata": {
    "collapsed": false,
    "ExecuteTime": {
     "end_time": "2023-10-05T20:27:46.346176100Z",
     "start_time": "2023-10-05T20:27:45.842291800Z"
    }
   },
   "id": "dd19df2d7c71319a"
  },
  {
   "cell_type": "markdown",
   "source": [
    "The elements of the list sports didn't change, but the elements of the list numeric changed to floats."
   ],
   "metadata": {
    "collapsed": false
   },
   "id": "5df0e71fb2bb6efa"
  },
  {
   "cell_type": "code",
   "execution_count": 58,
   "outputs": [
    {
     "data": {
      "text/plain": "0     Football\n1     Handball\n2    SnowSport\n3          NaN\ndtype: object"
     },
     "metadata": {},
     "output_type": "display_data"
    },
    {
     "data": {
      "text/plain": "0    1.0\n1    2.0\n2    3.0\n3    4.0\n4    5.0\n5    NaN\ndtype: float64"
     },
     "metadata": {},
     "output_type": "display_data"
    }
   ],
   "source": [
    "np.isnan(np.nan)\n",
    "sports = pd.Series(['Football', 'Handball', 'SnowSport', np.nan])\n",
    "display(sports)\n",
    "numeric = pd.Series([1, 2, 3, 4, 5, np.nan])\n",
    "display(numeric)"
   ],
   "metadata": {
    "collapsed": false,
    "ExecuteTime": {
     "end_time": "2023-10-05T20:27:46.347188300Z",
     "start_time": "2023-10-05T20:27:45.853369600Z"
    }
   },
   "id": "ede4aa13bd9b29f2"
  },
  {
   "cell_type": "code",
   "execution_count": 59,
   "outputs": [
    {
     "data": {
      "text/plain": "1    BasketBall\n2      HandBall\n3     Snowsport\n4      baseBall\n5      Swimming\ndtype: object"
     },
     "metadata": {},
     "output_type": "display_data"
    },
    {
     "data": {
      "text/plain": "Index([1, 2, 3, 4, 5], dtype='int64')"
     },
     "execution_count": 59,
     "metadata": {},
     "output_type": "execute_result"
    }
   ],
   "source": [
    "sIndex = pd.Series({1:'BasketBall',  2:'HandBall',  3:'Snowsport',4:'baseBall', 5:'Swimming'})\n",
    "display(sIndex)\n",
    "sIndex.index"
   ],
   "metadata": {
    "collapsed": false,
    "ExecuteTime": {
     "end_time": "2023-10-05T20:27:46.390817900Z",
     "start_time": "2023-10-05T20:27:45.862663300Z"
    }
   },
   "id": "603b79051c87e4e3"
  },
  {
   "cell_type": "markdown",
   "source": [
    "<h2>Exercise 2: Series Querying</h2>"
   ],
   "metadata": {
    "collapsed": false
   },
   "id": "31ec5b8624e4833b"
  },
  {
   "cell_type": "code",
   "execution_count": 60,
   "outputs": [
    {
     "data": {
      "text/plain": "bask    BasketBall\nhand      HandBall\nsnow     Snowsport\nbase      baseBall\nswim      Swimming\ndtype: object"
     },
     "metadata": {},
     "output_type": "display_data"
    },
    {
     "data": {
      "text/plain": "Index(['bask', 'hand', 'snow', 'base', 'swim'], dtype='object')"
     },
     "execution_count": 60,
     "metadata": {},
     "output_type": "execute_result"
    }
   ],
   "source": [
    "np.isnan(np.nan)\n",
    "sports={'bask': 'BasketBall', 'hand': 'HandBall', 'snow': 'Snowsport', 'base': 'baseBall','swim': 'Swimming'}\n",
    "#cast the list on a serie\n",
    "sIndex=pd.Series(sports)\n",
    "#display the serie\n",
    "display(sIndex)\n",
    "sIndex.index"
   ],
   "metadata": {
    "collapsed": false,
    "ExecuteTime": {
     "end_time": "2023-10-05T20:27:46.414169600Z",
     "start_time": "2023-10-05T20:27:45.872100400Z"
    }
   },
   "id": "283f2f7d74157c93"
  },
  {
   "cell_type": "code",
   "execution_count": 61,
   "outputs": [
    {
     "data": {
      "text/plain": "'HandBall'"
     },
     "metadata": {},
     "output_type": "display_data"
    },
    {
     "data": {
      "text/plain": "'Snowsport'"
     },
     "metadata": {},
     "output_type": "display_data"
    }
   ],
   "source": [
    "display(sIndex.iloc[1])\n",
    "display(sIndex.loc['snow'])"
   ],
   "metadata": {
    "collapsed": false,
    "ExecuteTime": {
     "end_time": "2023-10-05T20:27:46.454073200Z",
     "start_time": "2023-10-05T20:27:45.880542700Z"
    }
   },
   "id": "7a8eb91833a4da14"
  },
  {
   "cell_type": "code",
   "execution_count": 62,
   "outputs": [
    {
     "name": "stdout",
     "output_type": "stream",
     "text": [
      "72.2 µs ± 12.9 µs per loop (mean ± std. dev. of 7 runs, 10,000 loops each)\n"
     ]
    }
   ],
   "source": [
    "sIndex.str.upper()\n",
    "%timeit sIndex.str.upper()"
   ],
   "metadata": {
    "collapsed": false,
    "ExecuteTime": {
     "end_time": "2023-10-05T20:27:51.952203100Z",
     "start_time": "2023-10-05T20:27:45.892592Z"
    }
   },
   "id": "d16a76cb88ca5260"
  },
  {
   "cell_type": "code",
   "execution_count": 63,
   "outputs": [
    {
     "name": "stdout",
     "output_type": "stream",
     "text": [
      "BASKETBALL\n",
      "HANDBALL\n",
      "SNOWSPORT\n",
      "BASEBALL\n",
      "SWIMMING\n",
      "309 ns ± 5.07 ns per loop (mean ± std. dev. of 7 runs, 1,000,000 loops each)\n"
     ]
    }
   ],
   "source": [
    "for i in sports.values():\n",
    "    i = i.upper()\n",
    "    print(i)\n",
    "%timeit for i in sports.values(): i = i.upper()"
   ],
   "metadata": {
    "collapsed": false,
    "ExecuteTime": {
     "end_time": "2023-10-05T20:27:54.460343700Z",
     "start_time": "2023-10-05T20:27:51.946163500Z"
    }
   },
   "id": "e75f4177eaff59cd"
  },
  {
   "cell_type": "code",
   "execution_count": 64,
   "outputs": [
    {
     "name": "stdout",
     "output_type": "stream",
     "text": [
      "57.5\n",
      "25 µs ± 820 ns per loop (mean ± std. dev. of 7 runs, 10,000 loops each)\n",
      "57.5\n",
      "16.7 ns ± 0.25 ns per loop (mean ± std. dev. of 7 runs, 100,000,000 loops each)\n"
     ]
    }
   ],
   "source": [
    "#Solution 1 with vectorisation using np.mean ( )\n",
    "numeric=(None, 15, 100)\n",
    " # cast list as a Series\n",
    "num=pd.Series(numeric)\n",
    "meanValue=np.mean(num)\n",
    "print (meanValue)\n",
    "%timeit np.mean(num)\n",
    "#Solution 2 using a loop\n",
    "meanValue = 0\n",
    "sum=0\n",
    "length =0\n",
    "for item in num:\n",
    "    if not np.isnan(item):\n",
    "        sum=sum+item\n",
    "        length=length+1\n",
    "meanValue=sum/length\n",
    "print (meanValue)\n",
    "testcode = '''\n",
    "meanValue = 0\n",
    "sum=0\n",
    "length =0\n",
    "for item in num:\n",
    "    if not np.isnan(item):\n",
    "        sum=sum+item\n",
    "        length=length+1\n",
    "meanValue=sum/length\n",
    "'''\n",
    "%timeit testcode"
   ],
   "metadata": {
    "collapsed": false,
    "ExecuteTime": {
     "end_time": "2023-10-05T20:28:10.083927700Z",
     "start_time": "2023-10-05T20:27:54.464913400Z"
    }
   },
   "id": "9beaa912101dad51"
  },
  {
   "cell_type": "markdown",
   "source": [
    "It is faster to use vectorisation than a loop because the loop is executed for each element of the list, thus taking more iterations than the vectorisation."
   ],
   "metadata": {
    "collapsed": false
   },
   "id": "a3e8bb53dfd5652e"
  },
  {
   "cell_type": "markdown",
   "source": [
    "<h1>Part II: data checking</h1>"
   ],
   "metadata": {
    "collapsed": false
   },
   "id": "5c5e1a4b6f8f65ee"
  },
  {
   "cell_type": "markdown",
   "source": [
    "<h2>Exercise 3: From CSV to DataFrame data structure</h2>"
   ],
   "metadata": {
    "collapsed": false
   },
   "id": "33adfb2ba0b28f7f"
  },
  {
   "cell_type": "code",
   "execution_count": 65,
   "outputs": [],
   "source": [
    "pearson_Data = pd.read_csv('Pw2 Datasets/Pearsons.csv')"
   ],
   "metadata": {
    "collapsed": false,
    "ExecuteTime": {
     "end_time": "2023-10-05T20:28:10.137082300Z",
     "start_time": "2023-10-05T20:28:10.078930200Z"
    }
   },
   "id": "6fb9fa1b50f9fea6"
  },
  {
   "cell_type": "code",
   "execution_count": 66,
   "outputs": [
    {
     "name": "stdout",
     "output_type": "stream",
     "text": [
      "(10000, 15)\n"
     ]
    },
    {
     "data": {
      "text/plain": "                                                name  \\\n0                                       Deonte Stark   \n1                                     Faustino Boyer   \n2  Eddy Bogisich,33431 Dollie Squares Apt. 654,Po...   \n3                                     Mervyn Kreiger   \n4  Katlyn Doyle,4650 Beer Crossing Suite 848,Nort...   \n\n                        address             city           state         zip  \\\n0            278 Mueller Plains       North Euna         Alabama  03404-4384   \n1  70244 Skiles Falls Suite 030  North Altohaven      California  01522-1310   \n2                           NaN              NaN             NaN         NaN   \n3            376 Dorinda Stream     Shaniquafort  South Carolina  39347-4438   \n4                           NaN              NaN             NaN         NaN   \n\n                 phone                          email           work  \\\n0   (180)940-9676x4495           shanna73@hotmail.com     Hahn-Mayer   \n1  (308)699-6239x81011            ferrell81@gmail.com  Buckridge Inc   \n2                  NaN                            NaN            NaN   \n3         869-985-6299  emmerich.griselda@hotmail.com    Witting PLC   \n4                  NaN                            NaN            NaN   \n\n                     work address       work city work state work zipcode  \\\n0  8177 Weber Throughway Apt. 341        Jaronton      Maine   51589-1424   \n1              236 Kessler Center  New Gavynshire   Missouri   52234-6972   \n2                             NaN             NaN        NaN          NaN   \n3               521 Kemmer Manors        Nerytown   Kentucky        68774   \n4                             NaN             NaN        NaN          NaN   \n\n          work phone                 work email   account created on  \n0        01240240340  heller.kirstin@glover.com  2001-09-06 06:15:24  \n1  (486)896-6855x446   esta.dicki@bechtelar.com           1983-04-25  \n2                NaN                        NaN                  NaN  \n3      (212)169-8190        greyson39@purdy.com  1971-04-27 14:05:06  \n4                NaN                        NaN                  NaN  ",
      "text/html": "<div>\n<style scoped>\n    .dataframe tbody tr th:only-of-type {\n        vertical-align: middle;\n    }\n\n    .dataframe tbody tr th {\n        vertical-align: top;\n    }\n\n    .dataframe thead th {\n        text-align: right;\n    }\n</style>\n<table border=\"1\" class=\"dataframe\">\n  <thead>\n    <tr style=\"text-align: right;\">\n      <th></th>\n      <th>name</th>\n      <th>address</th>\n      <th>city</th>\n      <th>state</th>\n      <th>zip</th>\n      <th>phone</th>\n      <th>email</th>\n      <th>work</th>\n      <th>work address</th>\n      <th>work city</th>\n      <th>work state</th>\n      <th>work zipcode</th>\n      <th>work phone</th>\n      <th>work email</th>\n      <th>account created on</th>\n    </tr>\n  </thead>\n  <tbody>\n    <tr>\n      <th>0</th>\n      <td>Deonte Stark</td>\n      <td>278 Mueller Plains</td>\n      <td>North Euna</td>\n      <td>Alabama</td>\n      <td>03404-4384</td>\n      <td>(180)940-9676x4495</td>\n      <td>shanna73@hotmail.com</td>\n      <td>Hahn-Mayer</td>\n      <td>8177 Weber Throughway Apt. 341</td>\n      <td>Jaronton</td>\n      <td>Maine</td>\n      <td>51589-1424</td>\n      <td>01240240340</td>\n      <td>heller.kirstin@glover.com</td>\n      <td>2001-09-06 06:15:24</td>\n    </tr>\n    <tr>\n      <th>1</th>\n      <td>Faustino Boyer</td>\n      <td>70244 Skiles Falls Suite 030</td>\n      <td>North Altohaven</td>\n      <td>California</td>\n      <td>01522-1310</td>\n      <td>(308)699-6239x81011</td>\n      <td>ferrell81@gmail.com</td>\n      <td>Buckridge Inc</td>\n      <td>236 Kessler Center</td>\n      <td>New Gavynshire</td>\n      <td>Missouri</td>\n      <td>52234-6972</td>\n      <td>(486)896-6855x446</td>\n      <td>esta.dicki@bechtelar.com</td>\n      <td>1983-04-25</td>\n    </tr>\n    <tr>\n      <th>2</th>\n      <td>Eddy Bogisich,33431 Dollie Squares Apt. 654,Po...</td>\n      <td>NaN</td>\n      <td>NaN</td>\n      <td>NaN</td>\n      <td>NaN</td>\n      <td>NaN</td>\n      <td>NaN</td>\n      <td>NaN</td>\n      <td>NaN</td>\n      <td>NaN</td>\n      <td>NaN</td>\n      <td>NaN</td>\n      <td>NaN</td>\n      <td>NaN</td>\n      <td>NaN</td>\n    </tr>\n    <tr>\n      <th>3</th>\n      <td>Mervyn Kreiger</td>\n      <td>376 Dorinda Stream</td>\n      <td>Shaniquafort</td>\n      <td>South Carolina</td>\n      <td>39347-4438</td>\n      <td>869-985-6299</td>\n      <td>emmerich.griselda@hotmail.com</td>\n      <td>Witting PLC</td>\n      <td>521 Kemmer Manors</td>\n      <td>Nerytown</td>\n      <td>Kentucky</td>\n      <td>68774</td>\n      <td>(212)169-8190</td>\n      <td>greyson39@purdy.com</td>\n      <td>1971-04-27 14:05:06</td>\n    </tr>\n    <tr>\n      <th>4</th>\n      <td>Katlyn Doyle,4650 Beer Crossing Suite 848,Nort...</td>\n      <td>NaN</td>\n      <td>NaN</td>\n      <td>NaN</td>\n      <td>NaN</td>\n      <td>NaN</td>\n      <td>NaN</td>\n      <td>NaN</td>\n      <td>NaN</td>\n      <td>NaN</td>\n      <td>NaN</td>\n      <td>NaN</td>\n      <td>NaN</td>\n      <td>NaN</td>\n      <td>NaN</td>\n    </tr>\n  </tbody>\n</table>\n</div>"
     },
     "metadata": {},
     "output_type": "display_data"
    }
   ],
   "source": [
    "print(pearson_Data.shape)\n",
    "display(pearson_Data.head())"
   ],
   "metadata": {
    "collapsed": false,
    "ExecuteTime": {
     "end_time": "2023-10-05T20:28:10.152737100Z",
     "start_time": "2023-10-05T20:28:10.140088Z"
    }
   },
   "id": "7346aa04a7baa469"
  },
  {
   "cell_type": "code",
   "execution_count": 67,
   "outputs": [
    {
     "data": {
      "text/plain": "Index(['name', 'address', 'city', 'state', 'zip', 'phone', 'email', 'work',\n       'work address', 'work city', 'work state', 'work zipcode', 'work phone',\n       'work email', 'account created on'],\n      dtype='object')"
     },
     "metadata": {},
     "output_type": "display_data"
    }
   ],
   "source": [
    "display(pearson_Data.columns)"
   ],
   "metadata": {
    "collapsed": false,
    "ExecuteTime": {
     "end_time": "2023-10-05T20:28:10.161335100Z",
     "start_time": "2023-10-05T20:28:10.153732Z"
    }
   },
   "id": "d5128fc3c7c212ee"
  },
  {
   "cell_type": "markdown",
   "source": [
    "<h2>Exercise 4: Check missing values</h2>"
   ],
   "metadata": {
    "collapsed": false
   },
   "id": "a0bbc4d0ce76c6fb"
  },
  {
   "cell_type": "code",
   "execution_count": 68,
   "outputs": [
    {
     "data": {
      "text/plain": "name                    81\naddress               3365\ncity                  3374\nstate                 3365\nzip                   3362\nphone                 3366\nemail                 3363\nwork                  3390\nwork address          3383\nwork city             3378\nwork state            3390\nwork zipcode          3378\nwork phone            3377\nwork email            3359\naccount created on    3368\ndtype: int64"
     },
     "execution_count": 68,
     "metadata": {},
     "output_type": "execute_result"
    }
   ],
   "source": [
    "pearson_Data.isnull().sum()"
   ],
   "metadata": {
    "collapsed": false,
    "ExecuteTime": {
     "end_time": "2023-10-05T20:28:10.225730900Z",
     "start_time": "2023-10-05T20:28:10.161335100Z"
    }
   },
   "id": "9afcde5ee6dcdf4f"
  },
  {
   "cell_type": "code",
   "execution_count": 69,
   "outputs": [
    {
     "data": {
      "text/plain": "     name                          address              city           state  \\\n148   NaN     558 Brycen Mission Suite 152        Cristmouth        Arkansas   \n273   NaN       0481 Sanford Lake Apt. 439     Bashirianberg  North Carolina   \n300   NaN    38689 Kimora Groves Suite 807    New Nadiahaven         Vermont   \n330   NaN       077 Walsh Summit Suite 123        Rogahnfurt         Indiana   \n467   NaN              87140 Loma Crescent   North Dixieport        Michigan   \n...   ...                              ...               ...             ...   \n9316  NaN               054 Aubrie Corners    East Genevieve   New Hampshire   \n9487  NaN       9957 Rempel Wells Apt. 081         New Micky         Alabama   \n9745  NaN  6277 Schneider Common Suite 939         Port Aura    North Dakota   \n9816  NaN               986 Brianne Shoals  Port Wilbertstad     Mississippi   \n9834  NaN             19233 Kreiger Meadow        Kleinville        Michigan   \n\n             zip               phone                            email  \\\n148   52585-7480    +03(6)2449148729               corene08@gmail.com   \n273   61948-9865  (967)713-7747x7329  hermiston.jenniffer@hotmail.com   \n300   99133-2546  595.341.7775x50639               sfritsch@yahoo.com   \n330        81369    +38(1)3931574807             tdenesik@hotmail.com   \n467   32196-8397    +65(0)2946604451              lucille69@gmail.com   \n...          ...                 ...                              ...   \n9316       92371    296-242-9406x586         enrico.kuvalis@yahoo.com   \n9487       24013        522-665-0735              rylan47@hotmail.com   \n9745       10127        127.858.7550                 kacy29@gmail.com   \n9816       99396    953.475.7297x373         ritchie.hadley@yahoo.com   \n9834  42537-0382   (894)710-7706x071            hjalmer14@hotmail.com   \n\n                   work                  work address         work city  \\\n148           Braun PLC    8795 Carissa Land Apt. 884  South Arachester   \n273           Grant LLC                7375 Lynn Fork      Wuckerthaven   \n300       Purdy-Farrell              29365 Nyah Flats     West Isabella   \n330        Corwin-Fahey  717 Karol Stravenue Apt. 964      Trantowhaven   \n467         Monahan Ltd         99220 Murphy Motorway     East Reyhaven   \n...                 ...                           ...               ...   \n9316      Schneider LLC          53056 Gaige Motorway    North Audriana   \n9487  Bergnaum and Sons   60120 Klocko Alley Apt. 615       Adalineport   \n9745         Becker PLC           186 Armstrong Lakes      East Rosalyn   \n9816       Kautzer-Batz  22243 Feil Terrace Suite 469      New Catofurt   \n9834        Beer-Ledner            48801 Bobbye Roads        West Tylor   \n\n        work state work zipcode          work phone  \\\n148     New Mexico   68070-4086         09359769734   \n273           Ohio   89342-4989        419-132-5389   \n300        Florida        06342    +66(4)7117753075   \n330           Utah   49873-6641   882.577.0021x2495   \n467   Rhode Island        50641        773.245.8906   \n...            ...          ...                 ...   \n9316      Arkansas        73816        605.101.0879   \n9487      Maryland   37182-8209   289.393.5802x9949   \n9745          Ohio        07576  1-924-436-1559x850   \n9816     Wisconsin        62178         09723145605   \n9834      Arkansas        60338    849.567.9201x682   \n\n                              work email   account created on  \n148   hezzie.hettinger@mcglynnlarson.com           1999-12-12  \n273                 colin.walsh@hane.com  1995-08-07 19:52:30  \n300                     ocrooks@mohr.net           1975-04-07  \n330          mschaden@gerholdschultz.net           03/10/2010  \n467            parisian.willard@feil.org           04/29/1986  \n...                                  ...                  ...  \n9316         cephus.conroy@schroeder.com           01/21/2000  \n9487                    mwolf@corwin.net           2000-09-07  \n9745         kunde.carry@auerweimann.org  1995-08-13 11:03:45  \n9816           thompson.eulalie@mann.com  1970-01-27 16:26:56  \n9834            hsatterfield@bradtke.com  2015-10-13 23:24:40  \n\n[81 rows x 15 columns]",
      "text/html": "<div>\n<style scoped>\n    .dataframe tbody tr th:only-of-type {\n        vertical-align: middle;\n    }\n\n    .dataframe tbody tr th {\n        vertical-align: top;\n    }\n\n    .dataframe thead th {\n        text-align: right;\n    }\n</style>\n<table border=\"1\" class=\"dataframe\">\n  <thead>\n    <tr style=\"text-align: right;\">\n      <th></th>\n      <th>name</th>\n      <th>address</th>\n      <th>city</th>\n      <th>state</th>\n      <th>zip</th>\n      <th>phone</th>\n      <th>email</th>\n      <th>work</th>\n      <th>work address</th>\n      <th>work city</th>\n      <th>work state</th>\n      <th>work zipcode</th>\n      <th>work phone</th>\n      <th>work email</th>\n      <th>account created on</th>\n    </tr>\n  </thead>\n  <tbody>\n    <tr>\n      <th>148</th>\n      <td>NaN</td>\n      <td>558 Brycen Mission Suite 152</td>\n      <td>Cristmouth</td>\n      <td>Arkansas</td>\n      <td>52585-7480</td>\n      <td>+03(6)2449148729</td>\n      <td>corene08@gmail.com</td>\n      <td>Braun PLC</td>\n      <td>8795 Carissa Land Apt. 884</td>\n      <td>South Arachester</td>\n      <td>New Mexico</td>\n      <td>68070-4086</td>\n      <td>09359769734</td>\n      <td>hezzie.hettinger@mcglynnlarson.com</td>\n      <td>1999-12-12</td>\n    </tr>\n    <tr>\n      <th>273</th>\n      <td>NaN</td>\n      <td>0481 Sanford Lake Apt. 439</td>\n      <td>Bashirianberg</td>\n      <td>North Carolina</td>\n      <td>61948-9865</td>\n      <td>(967)713-7747x7329</td>\n      <td>hermiston.jenniffer@hotmail.com</td>\n      <td>Grant LLC</td>\n      <td>7375 Lynn Fork</td>\n      <td>Wuckerthaven</td>\n      <td>Ohio</td>\n      <td>89342-4989</td>\n      <td>419-132-5389</td>\n      <td>colin.walsh@hane.com</td>\n      <td>1995-08-07 19:52:30</td>\n    </tr>\n    <tr>\n      <th>300</th>\n      <td>NaN</td>\n      <td>38689 Kimora Groves Suite 807</td>\n      <td>New Nadiahaven</td>\n      <td>Vermont</td>\n      <td>99133-2546</td>\n      <td>595.341.7775x50639</td>\n      <td>sfritsch@yahoo.com</td>\n      <td>Purdy-Farrell</td>\n      <td>29365 Nyah Flats</td>\n      <td>West Isabella</td>\n      <td>Florida</td>\n      <td>06342</td>\n      <td>+66(4)7117753075</td>\n      <td>ocrooks@mohr.net</td>\n      <td>1975-04-07</td>\n    </tr>\n    <tr>\n      <th>330</th>\n      <td>NaN</td>\n      <td>077 Walsh Summit Suite 123</td>\n      <td>Rogahnfurt</td>\n      <td>Indiana</td>\n      <td>81369</td>\n      <td>+38(1)3931574807</td>\n      <td>tdenesik@hotmail.com</td>\n      <td>Corwin-Fahey</td>\n      <td>717 Karol Stravenue Apt. 964</td>\n      <td>Trantowhaven</td>\n      <td>Utah</td>\n      <td>49873-6641</td>\n      <td>882.577.0021x2495</td>\n      <td>mschaden@gerholdschultz.net</td>\n      <td>03/10/2010</td>\n    </tr>\n    <tr>\n      <th>467</th>\n      <td>NaN</td>\n      <td>87140 Loma Crescent</td>\n      <td>North Dixieport</td>\n      <td>Michigan</td>\n      <td>32196-8397</td>\n      <td>+65(0)2946604451</td>\n      <td>lucille69@gmail.com</td>\n      <td>Monahan Ltd</td>\n      <td>99220 Murphy Motorway</td>\n      <td>East Reyhaven</td>\n      <td>Rhode Island</td>\n      <td>50641</td>\n      <td>773.245.8906</td>\n      <td>parisian.willard@feil.org</td>\n      <td>04/29/1986</td>\n    </tr>\n    <tr>\n      <th>...</th>\n      <td>...</td>\n      <td>...</td>\n      <td>...</td>\n      <td>...</td>\n      <td>...</td>\n      <td>...</td>\n      <td>...</td>\n      <td>...</td>\n      <td>...</td>\n      <td>...</td>\n      <td>...</td>\n      <td>...</td>\n      <td>...</td>\n      <td>...</td>\n      <td>...</td>\n    </tr>\n    <tr>\n      <th>9316</th>\n      <td>NaN</td>\n      <td>054 Aubrie Corners</td>\n      <td>East Genevieve</td>\n      <td>New Hampshire</td>\n      <td>92371</td>\n      <td>296-242-9406x586</td>\n      <td>enrico.kuvalis@yahoo.com</td>\n      <td>Schneider LLC</td>\n      <td>53056 Gaige Motorway</td>\n      <td>North Audriana</td>\n      <td>Arkansas</td>\n      <td>73816</td>\n      <td>605.101.0879</td>\n      <td>cephus.conroy@schroeder.com</td>\n      <td>01/21/2000</td>\n    </tr>\n    <tr>\n      <th>9487</th>\n      <td>NaN</td>\n      <td>9957 Rempel Wells Apt. 081</td>\n      <td>New Micky</td>\n      <td>Alabama</td>\n      <td>24013</td>\n      <td>522-665-0735</td>\n      <td>rylan47@hotmail.com</td>\n      <td>Bergnaum and Sons</td>\n      <td>60120 Klocko Alley Apt. 615</td>\n      <td>Adalineport</td>\n      <td>Maryland</td>\n      <td>37182-8209</td>\n      <td>289.393.5802x9949</td>\n      <td>mwolf@corwin.net</td>\n      <td>2000-09-07</td>\n    </tr>\n    <tr>\n      <th>9745</th>\n      <td>NaN</td>\n      <td>6277 Schneider Common Suite 939</td>\n      <td>Port Aura</td>\n      <td>North Dakota</td>\n      <td>10127</td>\n      <td>127.858.7550</td>\n      <td>kacy29@gmail.com</td>\n      <td>Becker PLC</td>\n      <td>186 Armstrong Lakes</td>\n      <td>East Rosalyn</td>\n      <td>Ohio</td>\n      <td>07576</td>\n      <td>1-924-436-1559x850</td>\n      <td>kunde.carry@auerweimann.org</td>\n      <td>1995-08-13 11:03:45</td>\n    </tr>\n    <tr>\n      <th>9816</th>\n      <td>NaN</td>\n      <td>986 Brianne Shoals</td>\n      <td>Port Wilbertstad</td>\n      <td>Mississippi</td>\n      <td>99396</td>\n      <td>953.475.7297x373</td>\n      <td>ritchie.hadley@yahoo.com</td>\n      <td>Kautzer-Batz</td>\n      <td>22243 Feil Terrace Suite 469</td>\n      <td>New Catofurt</td>\n      <td>Wisconsin</td>\n      <td>62178</td>\n      <td>09723145605</td>\n      <td>thompson.eulalie@mann.com</td>\n      <td>1970-01-27 16:26:56</td>\n    </tr>\n    <tr>\n      <th>9834</th>\n      <td>NaN</td>\n      <td>19233 Kreiger Meadow</td>\n      <td>Kleinville</td>\n      <td>Michigan</td>\n      <td>42537-0382</td>\n      <td>(894)710-7706x071</td>\n      <td>hjalmer14@hotmail.com</td>\n      <td>Beer-Ledner</td>\n      <td>48801 Bobbye Roads</td>\n      <td>West Tylor</td>\n      <td>Arkansas</td>\n      <td>60338</td>\n      <td>849.567.9201x682</td>\n      <td>hsatterfield@bradtke.com</td>\n      <td>2015-10-13 23:24:40</td>\n    </tr>\n  </tbody>\n</table>\n<p>81 rows × 15 columns</p>\n</div>"
     },
     "execution_count": 69,
     "metadata": {},
     "output_type": "execute_result"
    }
   ],
   "source": [
    "pearson_Data[pearson_Data['name'].isnull()]"
   ],
   "metadata": {
    "collapsed": false,
    "ExecuteTime": {
     "end_time": "2023-10-05T20:28:10.301217300Z",
     "start_time": "2023-10-05T20:28:10.173345800Z"
    }
   },
   "id": "59c6c940bcefdf24"
  },
  {
   "cell_type": "code",
   "execution_count": 70,
   "outputs": [
    {
     "data": {
      "text/plain": "name                    81\naddress               3365\ncity                  3374\nstate                 3365\nzip                   3362\nphone                 3366\nemail                 3363\nwork                  3390\nwork address          3383\nwork city             3378\nwork state            3390\nwork zipcode          3378\nwork phone            3377\nwork email            3359\naccount created on    3368\ndtype: int64"
     },
     "execution_count": 70,
     "metadata": {},
     "output_type": "execute_result"
    }
   ],
   "source": [
    "pearson_Data.dropna(how='all', inplace=True)\n",
    "pearson_Data.isnull().sum()\n"
   ],
   "metadata": {
    "collapsed": false,
    "ExecuteTime": {
     "end_time": "2023-10-05T20:28:10.302218600Z",
     "start_time": "2023-10-05T20:28:10.191342Z"
    }
   },
   "id": "939bd3f0b6101061"
  },
  {
   "cell_type": "code",
   "execution_count": 71,
   "outputs": [
    {
     "data": {
      "text/plain": "name                  0\naddress               0\ncity                  0\nstate                 0\nzip                   0\nphone                 0\nemail                 0\nwork                  0\nwork address          0\nwork city             0\nwork state            0\nwork zipcode          0\nwork phone            0\nwork email            0\naccount created on    0\ndtype: int64"
     },
     "execution_count": 71,
     "metadata": {},
     "output_type": "execute_result"
    }
   ],
   "source": [
    "pearson_Data.dropna(inplace=True, axis = 0)\n",
    "pearson_Data.isnull().sum()"
   ],
   "metadata": {
    "collapsed": false,
    "ExecuteTime": {
     "end_time": "2023-10-05T20:28:10.303217500Z",
     "start_time": "2023-10-05T20:28:10.209357100Z"
    }
   },
   "id": "82fe965f92cc006"
  },
  {
   "cell_type": "markdown",
   "source": [
    "Both methods are equivalent. The first one is more explicit."
   ],
   "metadata": {
    "collapsed": false
   },
   "id": "6a9751daf7b9f7c4"
  },
  {
   "cell_type": "markdown",
   "source": [
    "<h2>Exercise 5: Ensure that values have the right format/type</h2>"
   ],
   "metadata": {
    "collapsed": false
   },
   "id": "f8aee31f9554a3d7"
  },
  {
   "cell_type": "code",
   "execution_count": 72,
   "outputs": [
    {
     "data": {
      "text/plain": "name                  object\naddress               object\ncity                  object\nstate                 object\nzip                   object\nphone                 object\nemail                 object\nwork                  object\nwork address          object\nwork city             object\nwork state            object\nwork zipcode          object\nwork phone            object\nwork email            object\naccount created on    object\ndtype: object"
     },
     "execution_count": 72,
     "metadata": {},
     "output_type": "execute_result"
    }
   ],
   "source": [
    "pearson_Data.dtypes"
   ],
   "metadata": {
    "collapsed": false,
    "ExecuteTime": {
     "end_time": "2023-10-05T20:28:10.325625300Z",
     "start_time": "2023-10-05T20:28:10.225730900Z"
    }
   },
   "id": "13100d3109de4bff"
  },
  {
   "cell_type": "code",
   "execution_count": 73,
   "outputs": [
    {
     "data": {
      "text/plain": "                   name                          address                 city  \\\n0          Deonte Stark               278 Mueller Plains           North Euna   \n1        Faustino Boyer     70244 Skiles Falls Suite 030      North Altohaven   \n3        Mervyn Kreiger               376 Dorinda Stream         Shaniquafort   \n5        Daquan Leffler      43142 Howell Ports Apt. 953           West Emory   \n6       Jace Konopelski       963 Senger Points Apt. 992           Lake Fonda   \n8          Katlin Robel     6151 Feeney Forest Suite 872             Langbury   \n11           Irva Brown      71102 Hallie Hill Suite 295         McGlynnville   \n15        Whit Shanahan                 213 Brown Island      Lake Dorianland   \n16         Vere Effertz                4948 Hoppe Shores          Taniyahbury   \n17    Fitzgerald Bednar      5272 Bosco Shoals Suite 776          Labadieberg   \n18           Arvid Mohr                  644 Jamel Creek       New Melvynbury   \n19           Arden Ryan      5913 Gutmann Trail Apt. 393         Reinoborough   \n22     Justin Hermiston       235 Deedee Skyway Apt. 669           Jaidyntown   \n23      Anitra Schmeler  32392 Pacocha Overpass Apt. 998          Murazikfurt   \n24        Rosalyn Fahey      89545 O'Kon Field Suite 436   South Brittnyshire   \n25       Maverick Purdy     12722 Deidre Bypass Apt. 900          Joellemouth   \n26     Macey Rutherford    204 Tawanna Viaduct Suite 395  North Carlosborough   \n27        Marilynn Wiza               94523 Bode Passage           Tyquanbury   \n28        Darrick Lakin  354 Pricilla Motorway Suite 140           Kittyhaven   \n30          Braiden Orn              20794 Birdella Cape        Guadalupefurt   \n32       Lucina Stanton               25687 Glover Track           Jewessland   \n33   Georgeann Franecki      0427 Lexis Harbor Suite 578       Port Tasiafort   \n37          Jerri Klein                   861 Lynch Mews             Dovetown   \n38       Danyell Rogahn       40467 Gaston Park Apt. 590          North Jamey   \n41          Raven Ebert       5049 Beier Island Apt. 959         Kilbackshire   \n45           Orra Blick       1749 Treutel Ways Apt. 400        Maritachester   \n47        Hester Lehner              200 Henery Motorway            Bergebury   \n49      Bridger Cormier                 289 Katlyn Spurs          Port Karlee   \n50      Sylvester Frami    85015 Lubowitz Lake Suite 158     South Rainahaven   \n51     Celina Jaskolski     0423 Batz Causeway Suite 226              Hahnton   \n53    Armstead Schulist          80460 Kreiger Stravenue   East Sanjuanamouth   \n57        London Hammes      318 Connelly Fords Apt. 361            New Franz   \n58       Osvaldo Wisozk                 170 Wisoky River          Chasitystad   \n59     Lavelle Homenick                11205 Jean Bridge       New Elissaberg   \n62        Kaaren Herman              2224 Koelpin Estate           Tyrekburgh   \n63       Antony Quigley       22181 Stefani Key Apt. 893  Lake Shawntechester   \n64           Mozell Fay       013 Cailyn Tunnel Apt. 252         Franeckiland   \n65        Heber Weimann               6419 Trantow Flats       West Anaisstad   \n66      Bobbye Nikolaus               798 McKenzie Lodge          West Manson   \n67      Mardell Waelchi  01896 Cummerata Street Apt. 989       East Logantown   \n68      Fremont Watsica               0990 Cedrick Place            Hosiefurt   \n73         Bria Padberg      67874 Aja Station Suite 502         West Blossom   \n78          Hurley Ward                  99542 Von Creek         Kingstonstad   \n79        Daphne Harris                22683 Phil Skyway    South Lelandshire   \n83          Malaki Haag                240 Cydney Branch              Toybury   \n84           Veta Grady        9783 Jannie Cape Apt. 708          Hirtheburgh   \n86          Caryn Wyman        0982 Rath Hollow Apt. 894           Schummfort   \n88        Lorelei Kiehn       047 Marks Island Suite 922          Lednerburgh   \n89    Hildegard Watsica  509 Jaskolski Station Suite 213        Kassandrafurt   \n90      Spenser Kerluke           157 Mann Isle Apt. 875          North Alver   \n\n             state         zip                 phone  \\\n0          Alabama  03404-4384    (180)940-9676x4495   \n1       California  01522-1310   (308)699-6239x81011   \n3   South Carolina  39347-4438          869-985-6299   \n5      Connecticut  08086-5571          874-576-0739   \n6     North Dakota       15581    (083)182-4626x8012   \n8         Delaware       46090         (389)982-6324   \n11         Georgia  23489-3472         (280)962-2286   \n15   Massachusetts       64916          521-889-8920   \n16        Maryland       34427    1-047-570-1897x480   \n17     Mississippi       66799         (835)065-4191   \n18        Nebraska       56470         (529)583-2566   \n19        Colorado       05571          012.486.9436   \n22         Wyoming       75649           00629957247   \n23      California  59627-7792        1-857-529-8637   \n24      New Mexico  35208-5889        1-255-927-2069   \n25     Mississippi       77674     335-017-7162x4106   \n26           Texas       61741      267.921.6251x044   \n27    Rhode Island       39381      292-196-3431x968   \n28          Alaska  93601-8076    (365)490-8351x1966   \n30        Virginia       15258   1-184-989-1024x8406   \n32        Missouri       54041     810.396.1483x2571   \n33            Utah       22109     567.721.6920x7127   \n37    North Dakota  62966-2596     129-097-7617x8297   \n38      New Jersey  00345-1411      +01(9)6029374309   \n41   West Virginia  27237-2029  1-734-031-7070x39183   \n45   West Virginia       21307        1-961-909-2105   \n47          Kansas  28601-4961    127-873-1321x25586   \n49         Florida  98190-1095    (635)032-8847x7451   \n50     Connecticut  31969-8294     (386)355-4939x668   \n51           Idaho  56178-0335          056.639.0919   \n53          Kansas  00103-0491      +52(8)6713748523   \n57     Connecticut  11491-4604           07612860813   \n58         Vermont       82681    1-564-603-5784x366   \n59           Idaho       88311           05267585753   \n62         Wyoming  55091-9853         (711)975-8232   \n63       Wisconsin       15040      323.403.7401x796   \n64        Virginia  11772-7169   1-827-058-8398x6544   \n65      California  11070-9852      555.445.8971x163   \n66       Tennessee       73860           07401671174   \n67      New Mexico       64097   (421)334-3662x76561   \n68           Maine       37947         (659)159-0689   \n73          Hawaii       55372     (640)290-0249x974   \n78         Montana       03115      +17(3)9233121597   \n79    South Dakota  68819-7808   1-444-871-5539x6311   \n83     Connecticut       39987      862.993.7617x214   \n84           Maine       48084  1-649-341-2704x12890   \n86    South Dakota  08458-1545          199.935.1826   \n88           Maine       04883        1-095-375-5902   \n89        Illinois  27564-6047           01261907757   \n90        Colorado       35254     150.128.5598x5072   \n\n                            email                work  \\\n0            shanna73@hotmail.com          Hahn-Mayer   \n1             ferrell81@gmail.com       Buckridge Inc   \n3   emmerich.griselda@hotmail.com         Witting PLC   \n5         natosha.kutch@yahoo.com    Christiansen Ltd   \n6    langosh.mathilde@hotmail.com         Glover-Howe   \n8          herman.paris@gmail.com          Murray Inc   \n11      senger.marnie@hotmail.com    Leuschke-Schmitt   \n15             inga79@hotmail.com       Dickinson Inc   \n16        lucindy.kuhic@gmail.com     Bode-Vandervort   \n17       blaise.jenkins@yahoo.com       Prohaska-Roob   \n18     jewess.alfredo@hotmail.com          Heller Ltd   \n19       bartell.collin@yahoo.com      Fisher-Hegmann   \n22          frami.arlyn@yahoo.com     Schaden-Schmidt   \n23   gislason.suzanna@hotmail.com         Douglas Inc   \n24         jeryl.parker@gmail.com           Kiehn LLC   \n25                pkris@yahoo.com  Reichert-Bahringer   \n26          grant.jules@gmail.com      Corwin-Lockman   \n27        johnson.linda@gmail.com   Hodkiewicz-Barton   \n28   trantow.brittnay@hotmail.com         Barrows PLC   \n30       wunsch.zackary@gmail.com      Murazik-Klocko   \n32           cary.huels@yahoo.com        Nienow-Sipes   \n33          dach.juluis@yahoo.com        Stamm-Corwin   \n37              mwillms@yahoo.com           Berge Inc   \n38         hahn.sofia@hotmail.com     Langworth-Hintz   \n41          zachariah17@yahoo.com       Witting-Blick   \n45          von.petra@hotmail.com        Murphy-Berge   \n47       leannon.jazlyn@gmail.com       Schroeder Ltd   \n49              sinda79@yahoo.com       Mohr and Sons   \n50            fklocko@hotmail.com      Runolfsson LLC   \n51      yundt.nikolas@hotmail.com          Rice Group   \n53              ddare@hotmail.com      Schumm-Quigley   \n57              mfeeney@gmail.com          Lehner LLC   \n58          birt.dach@hotmail.com        Emmerich PLC   \n59               ikub@hotmail.com      Collier-Corwin   \n62           llebsack@hotmail.com       Hegmann Group   \n63                zwiza@yahoo.com    Gleason-Ondricka   \n64               noel12@gmail.com   Homenick and Sons   \n65           bishop54@hotmail.com       Roob and Sons   \n66             sade25@hotmail.com          Renner Inc   \n67       fadel.stanford@gmail.com    Kilback and Sons   \n68      mcclure.kadence@gmail.com   Senger-Wintheiser   \n73            bfranecki@gmail.com    Anderson-Kessler   \n78     emmerich.christy@gmail.com      Lakin-Emmerich   \n79                jdare@yahoo.com       Hahn-O'Reilly   \n83          kirstin02@hotmail.com     Jacobson-Turner   \n84          henrietta55@gmail.com  Schinner-Cummerata   \n86        nelly.farrell@gmail.com         Boehm-Nolan   \n88            jaden92@hotmail.com        Nitzsche LLC   \n89       willms.bradley@gmail.com      Jacobson Group   \n90              jkemmer@yahoo.com     Gleichner-Jones   \n\n                        work address           work city      work state  \\\n0     8177 Weber Throughway Apt. 341            Jaronton           Maine   \n1                 236 Kessler Center      New Gavynshire        Missouri   \n3                  521 Kemmer Manors            Nerytown        Kentucky   \n5      3136 Jered Junction Suite 993         West Mallie   New Hampshire   \n6               87986 Harvey Islands       South Zackary        Kentucky   \n8                  8486 Felipa Forks           Jerdetown         Montana   \n11               443 Ephraim Harbors           Haleyland         Alabama   \n15               7129 Salina Station           Lake Lige       Louisiana   \n16                9497 Botsford Isle            Port Nan          Alaska   \n17    8113 Wiegand Harbors Suite 493       Cedricborough        Michigan   \n18               3386 Koelpin Plains      Meghannborough           Texas   \n19               9955 Patrice Shoals         Larkinshire    Rhode Island   \n22          6212 Dusty View Apt. 908        Kandiceville        Oklahoma   \n23              968 McLaughlin Brook   West Hymenborough          Nevada   \n24                  8108 Jaylan Mill         Mullermouth     Mississippi   \n25                74466 Arianna Neck        Laurancebury   New Hampshire   \n26                555 Jacobi Landing         Port Brooks        Arkansas   \n27       8573 Noreen Rapid Suite 339        South Kassie          Nevada   \n28        461 Kirstin Neck Suite 868         Port Nicola      New Jersey   \n30               53588 Feeney Divide   Port Lempiborough    South Dakota   \n32                   740 Borer Vista        Schimmeltown     Mississippi   \n33               548 Lehner Mountain          Lake Stone     Connecticut   \n37           2138 Carmella Mountains     South Eligeside        Missouri   \n38                  13729 Eula Mount     McCulloughshire    North Dakota   \n41                   356 Huels Union          West Amare      Washington   \n45     38763 Iver Junction Suite 576        North Keisha       Louisiana   \n47      354 Pagac Causeway Suite 349         Quigleystad    Pennsylvania   \n49                 29420 Ebba Harbor      Lake Jeanmarie       Louisiana   \n50          9554 Kihn Path Suite 818  North Lemonchester   Massachusetts   \n51              930 Bergnaum Parkway           Kylerport            Ohio   \n53       8323 Wiegand Cliff Apt. 050         Rosaleeport    North Dakota   \n57     95708 Howe Junctions Apt. 521            New Miya        Kentucky   \n58               124 Anderson Tunnel     New Redmondstad           Maine   \n59                  38028 Lakin Isle          Dooleyport            Ohio   \n62       8022 Lynch Shoals Suite 829    New Kristynmouth           Texas   \n63      7738 Kassie Islands Apt. 154         Port Wenzel       Tennessee   \n64       735 Kilback Harbor Apt. 206    Port Paraleeberg         Georgia   \n65        962 Kathrine Pike Apt. 083     Port Rivermouth           Idaho   \n66                  05538 Niki Views            New Aric            Ohio   \n67                   0542 Etter Walk          Dooleytown         Georgia   \n68      20772 Walsh Summit Suite 244           Ahmadtown      Washington   \n73              030 Oberbrunner Camp         North Reece  North Carolina   \n78        231 Beahan Manor Suite 196           Beaumouth        Oklahoma   \n79               82092 Turner Valley         New Elamton     Connecticut   \n83                  338 Mikhail Dale         Parkerhaven          Nevada   \n84        81950 Paris Ramp Suite 939          New Donell        Oklahoma   \n86    8507 Garland Prairie Suite 212       West Francies        Arkansas   \n88          565 Marry Pine Suite 236     Leuschkeborough         Indiana   \n89  9566 Bernadette Streets Apt. 246  West Johnathanview       Wisconsin   \n90                2825 Klein Harbors      Augustineshire         Vermont   \n\n   work zipcode            work phone                            work email  \\\n0    51589-1424           01240240340             heller.kirstin@glover.com   \n1    52234-6972     (486)896-6855x446              esta.dicki@bechtelar.com   \n3         68774         (212)169-8190                   greyson39@purdy.com   \n5    40778-7891      215.605.7824x844            anderson.gifford@nader.com   \n6    75232-9391         (270)125-2639               kassulke.fate@hills.com   \n8         42616    848.167.8691x84803           katherin61@bartellkutch.com   \n11   99964-2124      155-817-9065x251                    jerrad15@upton.com   \n15   99068-5399         (824)000-3146                 vmann@klockobruen.com   \n16   72083-8368     362.712.8612x5533                      salena07@kub.com   \n17        83592      299-038-2068x803            gottlieb.nila@rolfson.info   \n18        14718          286-794-9474                quinton44@eichmann.biz   \n19        65071   (657)623-1115x21681             cathrine.schmitt@funk.com   \n22        25522      +62(7)2640575842           kassandra72@schamberger.com   \n23        85868         (425)065-6143            donnell.monahan@paucek.org   \n24   22134-5680      871.480.3982x412            ohermann@spencercorwin.net   \n25        17564          314.172.2089       schumm.gabriela@jonesledner.net   \n26        69033      009-599-0417x500             leeroy.walter@schaden.com   \n27   54936-4309          059-612-4192              anice.weimann@walter.com   \n28        33017     (868)073-8055x069    connelly.arvid@beattyankunding.com   \n30        99988     (336)869-2766x042  alonzo.dibbert@mayertsatterfield.com   \n32   48537-0013          240.200.7625             rodriguez.effa@abbott.com   \n33        70048      090-313-3081x116                 grant.lara@corwin.com   \n37        54580          810.715.2139                    candy42@sipes.info   \n38   36203-0817      417-385-2823x785                    malia16@hessel.com   \n41        82780          545.113.8412           danna.schiller@turcotte.net   \n45   96948-0751     735-912-8187x7497     waelchi.shelby@cormiertrantow.net   \n47   54112-9867    102.898.5233x92382     botsford.logan@bednarweissnat.biz   \n49   84866-4607     (415)754-8547x442         eichmann.felicity@corkery.com   \n50        31068     (058)417-2497x746                  arodriguez@block.biz   \n51   77767-6116         (017)873-9165          feeney.gertha@jakubowski.org   \n53   42529-7516    1-526-215-9117x784     rogahn.allyssa@cartwrightdare.com   \n57   63063-1267           05266401668                    arnold97@wolff.net   \n58        60355      111-740-3401x434          strosin.marco@corwinmraz.com   \n59   29109-1265          536.537.2854     kemmer.dorinda@schmidtleffler.com   \n62   31477-7294      +04(8)2591586061              nigel.steuber@kemmer.com   \n63   05844-4186   (381)160-9911x15514             vicente88@satterfield.com   \n64   55295-5840    553-201-2350x59565       beer.ashlee@okunevaeffertz.info   \n65        09076   (213)992-4145x37215          kfahey@heaneyheidenreich.com   \n66   89065-8855  1-991-653-5705x95477           nayeli.sawayn@jaskolski.com   \n67   62314-6827          881.369.1832               leannon.jule@upton.info   \n68        69287      +84(6)0483052301             abshire.moshe@leannon.com   \n73        04794    (978)029-4734x3684                  ukreiger@dickens.net   \n78        96406   1-171-256-2471x2530          cremin.melanie@wisozktoy.com   \n79        65705         (275)862-4612                      fbode@ernser.com   \n83        85874     (010)069-5336x384             weimann.maida@cormier.com   \n84        22117          676-453-2958                    odoyle@schultz.net   \n86        86640   1-502-062-7378x9617              arkie.kertzmann@wolf.com   \n88        75023        1-195-789-5038               juliet83@runolfsson.com   \n89        59435          999-449-0625  chelsie.emard@marquardtgreenholt.org   \n90        54563          577-615-1102                   ebert.abdul@toy.com   \n\n     account created on  First Name   Last Name  \n0   2001-09-06 06:15:24      Deonte       Stark  \n1            1983-04-25    Faustino       Boyer  \n3   1971-04-27 14:05:06      Mervyn     Kreiger  \n5   2014-01-15 23:15:43      Daquan     Leffler  \n6            05/20/2004        Jace  Konopelski  \n8            1974-12-19      Katlin       Robel  \n11  1983-04-21 12:41:18        Irva       Brown  \n15           1973-09-02        Whit    Shanahan  \n16           06/23/1970        Vere     Effertz  \n17  2003-10-15 00:05:01  Fitzgerald      Bednar  \n18  2013-10-18 11:24:56       Arvid        Mohr  \n19  1980-03-28 02:14:22       Arden        Ryan  \n22           2003-12-29      Justin   Hermiston  \n23  1970-12-24 18:40:32      Anitra    Schmeler  \n24           1985-11-12     Rosalyn       Fahey  \n25           06/18/1986    Maverick       Purdy  \n26           1974-08-30       Macey  Rutherford  \n27           2014-08-13    Marilynn        Wiza  \n28           2002-08-01     Darrick       Lakin  \n30  2013-08-07 08:12:54     Braiden         Orn  \n32           1996-05-03      Lucina     Stanton  \n33           07/05/2010   Georgeann    Franecki  \n37           09/07/2001       Jerri       Klein  \n38           10/04/1970     Danyell      Rogahn  \n41           10/15/1991       Raven       Ebert  \n45           03/23/1992        Orra       Blick  \n47  1979-06-20 21:03:11      Hester      Lehner  \n49  2007-11-27 18:21:13     Bridger     Cormier  \n50  1978-04-27 15:58:39   Sylvester       Frami  \n51           10/29/1981      Celina   Jaskolski  \n53           1970-05-09    Armstead    Schulist  \n57  1992-07-26 02:19:02      London      Hammes  \n58  1977-06-28 10:27:21     Osvaldo      Wisozk  \n59           1986-02-21     Lavelle    Homenick  \n62           09/15/2000      Kaaren      Herman  \n63           07/21/1987      Antony     Quigley  \n64           1977-09-26      Mozell         Fay  \n65           1999-11-26       Heber     Weimann  \n66           1995-03-04      Bobbye    Nikolaus  \n67           12/01/1996     Mardell     Waelchi  \n68           1980-04-29     Fremont     Watsica  \n73           05/28/1976        Bria     Padberg  \n78           09/24/2007      Hurley        Ward  \n79  2009-08-18 19:43:49      Daphne      Harris  \n83  2005-08-23 17:52:57      Malaki        Haag  \n84  1978-04-02 13:12:28        Veta       Grady  \n86  2015-02-04 08:13:57       Caryn       Wyman  \n88           11/14/1989     Lorelei       Kiehn  \n89           12/18/1977   Hildegard     Watsica  \n90           1984-02-06     Spenser     Kerluke  ",
      "text/html": "<div>\n<style scoped>\n    .dataframe tbody tr th:only-of-type {\n        vertical-align: middle;\n    }\n\n    .dataframe tbody tr th {\n        vertical-align: top;\n    }\n\n    .dataframe thead th {\n        text-align: right;\n    }\n</style>\n<table border=\"1\" class=\"dataframe\">\n  <thead>\n    <tr style=\"text-align: right;\">\n      <th></th>\n      <th>name</th>\n      <th>address</th>\n      <th>city</th>\n      <th>state</th>\n      <th>zip</th>\n      <th>phone</th>\n      <th>email</th>\n      <th>work</th>\n      <th>work address</th>\n      <th>work city</th>\n      <th>work state</th>\n      <th>work zipcode</th>\n      <th>work phone</th>\n      <th>work email</th>\n      <th>account created on</th>\n      <th>First Name</th>\n      <th>Last Name</th>\n    </tr>\n  </thead>\n  <tbody>\n    <tr>\n      <th>0</th>\n      <td>Deonte Stark</td>\n      <td>278 Mueller Plains</td>\n      <td>North Euna</td>\n      <td>Alabama</td>\n      <td>03404-4384</td>\n      <td>(180)940-9676x4495</td>\n      <td>shanna73@hotmail.com</td>\n      <td>Hahn-Mayer</td>\n      <td>8177 Weber Throughway Apt. 341</td>\n      <td>Jaronton</td>\n      <td>Maine</td>\n      <td>51589-1424</td>\n      <td>01240240340</td>\n      <td>heller.kirstin@glover.com</td>\n      <td>2001-09-06 06:15:24</td>\n      <td>Deonte</td>\n      <td>Stark</td>\n    </tr>\n    <tr>\n      <th>1</th>\n      <td>Faustino Boyer</td>\n      <td>70244 Skiles Falls Suite 030</td>\n      <td>North Altohaven</td>\n      <td>California</td>\n      <td>01522-1310</td>\n      <td>(308)699-6239x81011</td>\n      <td>ferrell81@gmail.com</td>\n      <td>Buckridge Inc</td>\n      <td>236 Kessler Center</td>\n      <td>New Gavynshire</td>\n      <td>Missouri</td>\n      <td>52234-6972</td>\n      <td>(486)896-6855x446</td>\n      <td>esta.dicki@bechtelar.com</td>\n      <td>1983-04-25</td>\n      <td>Faustino</td>\n      <td>Boyer</td>\n    </tr>\n    <tr>\n      <th>3</th>\n      <td>Mervyn Kreiger</td>\n      <td>376 Dorinda Stream</td>\n      <td>Shaniquafort</td>\n      <td>South Carolina</td>\n      <td>39347-4438</td>\n      <td>869-985-6299</td>\n      <td>emmerich.griselda@hotmail.com</td>\n      <td>Witting PLC</td>\n      <td>521 Kemmer Manors</td>\n      <td>Nerytown</td>\n      <td>Kentucky</td>\n      <td>68774</td>\n      <td>(212)169-8190</td>\n      <td>greyson39@purdy.com</td>\n      <td>1971-04-27 14:05:06</td>\n      <td>Mervyn</td>\n      <td>Kreiger</td>\n    </tr>\n    <tr>\n      <th>5</th>\n      <td>Daquan Leffler</td>\n      <td>43142 Howell Ports Apt. 953</td>\n      <td>West Emory</td>\n      <td>Connecticut</td>\n      <td>08086-5571</td>\n      <td>874-576-0739</td>\n      <td>natosha.kutch@yahoo.com</td>\n      <td>Christiansen Ltd</td>\n      <td>3136 Jered Junction Suite 993</td>\n      <td>West Mallie</td>\n      <td>New Hampshire</td>\n      <td>40778-7891</td>\n      <td>215.605.7824x844</td>\n      <td>anderson.gifford@nader.com</td>\n      <td>2014-01-15 23:15:43</td>\n      <td>Daquan</td>\n      <td>Leffler</td>\n    </tr>\n    <tr>\n      <th>6</th>\n      <td>Jace Konopelski</td>\n      <td>963 Senger Points Apt. 992</td>\n      <td>Lake Fonda</td>\n      <td>North Dakota</td>\n      <td>15581</td>\n      <td>(083)182-4626x8012</td>\n      <td>langosh.mathilde@hotmail.com</td>\n      <td>Glover-Howe</td>\n      <td>87986 Harvey Islands</td>\n      <td>South Zackary</td>\n      <td>Kentucky</td>\n      <td>75232-9391</td>\n      <td>(270)125-2639</td>\n      <td>kassulke.fate@hills.com</td>\n      <td>05/20/2004</td>\n      <td>Jace</td>\n      <td>Konopelski</td>\n    </tr>\n    <tr>\n      <th>8</th>\n      <td>Katlin Robel</td>\n      <td>6151 Feeney Forest Suite 872</td>\n      <td>Langbury</td>\n      <td>Delaware</td>\n      <td>46090</td>\n      <td>(389)982-6324</td>\n      <td>herman.paris@gmail.com</td>\n      <td>Murray Inc</td>\n      <td>8486 Felipa Forks</td>\n      <td>Jerdetown</td>\n      <td>Montana</td>\n      <td>42616</td>\n      <td>848.167.8691x84803</td>\n      <td>katherin61@bartellkutch.com</td>\n      <td>1974-12-19</td>\n      <td>Katlin</td>\n      <td>Robel</td>\n    </tr>\n    <tr>\n      <th>11</th>\n      <td>Irva Brown</td>\n      <td>71102 Hallie Hill Suite 295</td>\n      <td>McGlynnville</td>\n      <td>Georgia</td>\n      <td>23489-3472</td>\n      <td>(280)962-2286</td>\n      <td>senger.marnie@hotmail.com</td>\n      <td>Leuschke-Schmitt</td>\n      <td>443 Ephraim Harbors</td>\n      <td>Haleyland</td>\n      <td>Alabama</td>\n      <td>99964-2124</td>\n      <td>155-817-9065x251</td>\n      <td>jerrad15@upton.com</td>\n      <td>1983-04-21 12:41:18</td>\n      <td>Irva</td>\n      <td>Brown</td>\n    </tr>\n    <tr>\n      <th>15</th>\n      <td>Whit Shanahan</td>\n      <td>213 Brown Island</td>\n      <td>Lake Dorianland</td>\n      <td>Massachusetts</td>\n      <td>64916</td>\n      <td>521-889-8920</td>\n      <td>inga79@hotmail.com</td>\n      <td>Dickinson Inc</td>\n      <td>7129 Salina Station</td>\n      <td>Lake Lige</td>\n      <td>Louisiana</td>\n      <td>99068-5399</td>\n      <td>(824)000-3146</td>\n      <td>vmann@klockobruen.com</td>\n      <td>1973-09-02</td>\n      <td>Whit</td>\n      <td>Shanahan</td>\n    </tr>\n    <tr>\n      <th>16</th>\n      <td>Vere Effertz</td>\n      <td>4948 Hoppe Shores</td>\n      <td>Taniyahbury</td>\n      <td>Maryland</td>\n      <td>34427</td>\n      <td>1-047-570-1897x480</td>\n      <td>lucindy.kuhic@gmail.com</td>\n      <td>Bode-Vandervort</td>\n      <td>9497 Botsford Isle</td>\n      <td>Port Nan</td>\n      <td>Alaska</td>\n      <td>72083-8368</td>\n      <td>362.712.8612x5533</td>\n      <td>salena07@kub.com</td>\n      <td>06/23/1970</td>\n      <td>Vere</td>\n      <td>Effertz</td>\n    </tr>\n    <tr>\n      <th>17</th>\n      <td>Fitzgerald Bednar</td>\n      <td>5272 Bosco Shoals Suite 776</td>\n      <td>Labadieberg</td>\n      <td>Mississippi</td>\n      <td>66799</td>\n      <td>(835)065-4191</td>\n      <td>blaise.jenkins@yahoo.com</td>\n      <td>Prohaska-Roob</td>\n      <td>8113 Wiegand Harbors Suite 493</td>\n      <td>Cedricborough</td>\n      <td>Michigan</td>\n      <td>83592</td>\n      <td>299-038-2068x803</td>\n      <td>gottlieb.nila@rolfson.info</td>\n      <td>2003-10-15 00:05:01</td>\n      <td>Fitzgerald</td>\n      <td>Bednar</td>\n    </tr>\n    <tr>\n      <th>18</th>\n      <td>Arvid Mohr</td>\n      <td>644 Jamel Creek</td>\n      <td>New Melvynbury</td>\n      <td>Nebraska</td>\n      <td>56470</td>\n      <td>(529)583-2566</td>\n      <td>jewess.alfredo@hotmail.com</td>\n      <td>Heller Ltd</td>\n      <td>3386 Koelpin Plains</td>\n      <td>Meghannborough</td>\n      <td>Texas</td>\n      <td>14718</td>\n      <td>286-794-9474</td>\n      <td>quinton44@eichmann.biz</td>\n      <td>2013-10-18 11:24:56</td>\n      <td>Arvid</td>\n      <td>Mohr</td>\n    </tr>\n    <tr>\n      <th>19</th>\n      <td>Arden Ryan</td>\n      <td>5913 Gutmann Trail Apt. 393</td>\n      <td>Reinoborough</td>\n      <td>Colorado</td>\n      <td>05571</td>\n      <td>012.486.9436</td>\n      <td>bartell.collin@yahoo.com</td>\n      <td>Fisher-Hegmann</td>\n      <td>9955 Patrice Shoals</td>\n      <td>Larkinshire</td>\n      <td>Rhode Island</td>\n      <td>65071</td>\n      <td>(657)623-1115x21681</td>\n      <td>cathrine.schmitt@funk.com</td>\n      <td>1980-03-28 02:14:22</td>\n      <td>Arden</td>\n      <td>Ryan</td>\n    </tr>\n    <tr>\n      <th>22</th>\n      <td>Justin Hermiston</td>\n      <td>235 Deedee Skyway Apt. 669</td>\n      <td>Jaidyntown</td>\n      <td>Wyoming</td>\n      <td>75649</td>\n      <td>00629957247</td>\n      <td>frami.arlyn@yahoo.com</td>\n      <td>Schaden-Schmidt</td>\n      <td>6212 Dusty View Apt. 908</td>\n      <td>Kandiceville</td>\n      <td>Oklahoma</td>\n      <td>25522</td>\n      <td>+62(7)2640575842</td>\n      <td>kassandra72@schamberger.com</td>\n      <td>2003-12-29</td>\n      <td>Justin</td>\n      <td>Hermiston</td>\n    </tr>\n    <tr>\n      <th>23</th>\n      <td>Anitra Schmeler</td>\n      <td>32392 Pacocha Overpass Apt. 998</td>\n      <td>Murazikfurt</td>\n      <td>California</td>\n      <td>59627-7792</td>\n      <td>1-857-529-8637</td>\n      <td>gislason.suzanna@hotmail.com</td>\n      <td>Douglas Inc</td>\n      <td>968 McLaughlin Brook</td>\n      <td>West Hymenborough</td>\n      <td>Nevada</td>\n      <td>85868</td>\n      <td>(425)065-6143</td>\n      <td>donnell.monahan@paucek.org</td>\n      <td>1970-12-24 18:40:32</td>\n      <td>Anitra</td>\n      <td>Schmeler</td>\n    </tr>\n    <tr>\n      <th>24</th>\n      <td>Rosalyn Fahey</td>\n      <td>89545 O'Kon Field Suite 436</td>\n      <td>South Brittnyshire</td>\n      <td>New Mexico</td>\n      <td>35208-5889</td>\n      <td>1-255-927-2069</td>\n      <td>jeryl.parker@gmail.com</td>\n      <td>Kiehn LLC</td>\n      <td>8108 Jaylan Mill</td>\n      <td>Mullermouth</td>\n      <td>Mississippi</td>\n      <td>22134-5680</td>\n      <td>871.480.3982x412</td>\n      <td>ohermann@spencercorwin.net</td>\n      <td>1985-11-12</td>\n      <td>Rosalyn</td>\n      <td>Fahey</td>\n    </tr>\n    <tr>\n      <th>25</th>\n      <td>Maverick Purdy</td>\n      <td>12722 Deidre Bypass Apt. 900</td>\n      <td>Joellemouth</td>\n      <td>Mississippi</td>\n      <td>77674</td>\n      <td>335-017-7162x4106</td>\n      <td>pkris@yahoo.com</td>\n      <td>Reichert-Bahringer</td>\n      <td>74466 Arianna Neck</td>\n      <td>Laurancebury</td>\n      <td>New Hampshire</td>\n      <td>17564</td>\n      <td>314.172.2089</td>\n      <td>schumm.gabriela@jonesledner.net</td>\n      <td>06/18/1986</td>\n      <td>Maverick</td>\n      <td>Purdy</td>\n    </tr>\n    <tr>\n      <th>26</th>\n      <td>Macey Rutherford</td>\n      <td>204 Tawanna Viaduct Suite 395</td>\n      <td>North Carlosborough</td>\n      <td>Texas</td>\n      <td>61741</td>\n      <td>267.921.6251x044</td>\n      <td>grant.jules@gmail.com</td>\n      <td>Corwin-Lockman</td>\n      <td>555 Jacobi Landing</td>\n      <td>Port Brooks</td>\n      <td>Arkansas</td>\n      <td>69033</td>\n      <td>009-599-0417x500</td>\n      <td>leeroy.walter@schaden.com</td>\n      <td>1974-08-30</td>\n      <td>Macey</td>\n      <td>Rutherford</td>\n    </tr>\n    <tr>\n      <th>27</th>\n      <td>Marilynn Wiza</td>\n      <td>94523 Bode Passage</td>\n      <td>Tyquanbury</td>\n      <td>Rhode Island</td>\n      <td>39381</td>\n      <td>292-196-3431x968</td>\n      <td>johnson.linda@gmail.com</td>\n      <td>Hodkiewicz-Barton</td>\n      <td>8573 Noreen Rapid Suite 339</td>\n      <td>South Kassie</td>\n      <td>Nevada</td>\n      <td>54936-4309</td>\n      <td>059-612-4192</td>\n      <td>anice.weimann@walter.com</td>\n      <td>2014-08-13</td>\n      <td>Marilynn</td>\n      <td>Wiza</td>\n    </tr>\n    <tr>\n      <th>28</th>\n      <td>Darrick Lakin</td>\n      <td>354 Pricilla Motorway Suite 140</td>\n      <td>Kittyhaven</td>\n      <td>Alaska</td>\n      <td>93601-8076</td>\n      <td>(365)490-8351x1966</td>\n      <td>trantow.brittnay@hotmail.com</td>\n      <td>Barrows PLC</td>\n      <td>461 Kirstin Neck Suite 868</td>\n      <td>Port Nicola</td>\n      <td>New Jersey</td>\n      <td>33017</td>\n      <td>(868)073-8055x069</td>\n      <td>connelly.arvid@beattyankunding.com</td>\n      <td>2002-08-01</td>\n      <td>Darrick</td>\n      <td>Lakin</td>\n    </tr>\n    <tr>\n      <th>30</th>\n      <td>Braiden Orn</td>\n      <td>20794 Birdella Cape</td>\n      <td>Guadalupefurt</td>\n      <td>Virginia</td>\n      <td>15258</td>\n      <td>1-184-989-1024x8406</td>\n      <td>wunsch.zackary@gmail.com</td>\n      <td>Murazik-Klocko</td>\n      <td>53588 Feeney Divide</td>\n      <td>Port Lempiborough</td>\n      <td>South Dakota</td>\n      <td>99988</td>\n      <td>(336)869-2766x042</td>\n      <td>alonzo.dibbert@mayertsatterfield.com</td>\n      <td>2013-08-07 08:12:54</td>\n      <td>Braiden</td>\n      <td>Orn</td>\n    </tr>\n    <tr>\n      <th>32</th>\n      <td>Lucina Stanton</td>\n      <td>25687 Glover Track</td>\n      <td>Jewessland</td>\n      <td>Missouri</td>\n      <td>54041</td>\n      <td>810.396.1483x2571</td>\n      <td>cary.huels@yahoo.com</td>\n      <td>Nienow-Sipes</td>\n      <td>740 Borer Vista</td>\n      <td>Schimmeltown</td>\n      <td>Mississippi</td>\n      <td>48537-0013</td>\n      <td>240.200.7625</td>\n      <td>rodriguez.effa@abbott.com</td>\n      <td>1996-05-03</td>\n      <td>Lucina</td>\n      <td>Stanton</td>\n    </tr>\n    <tr>\n      <th>33</th>\n      <td>Georgeann Franecki</td>\n      <td>0427 Lexis Harbor Suite 578</td>\n      <td>Port Tasiafort</td>\n      <td>Utah</td>\n      <td>22109</td>\n      <td>567.721.6920x7127</td>\n      <td>dach.juluis@yahoo.com</td>\n      <td>Stamm-Corwin</td>\n      <td>548 Lehner Mountain</td>\n      <td>Lake Stone</td>\n      <td>Connecticut</td>\n      <td>70048</td>\n      <td>090-313-3081x116</td>\n      <td>grant.lara@corwin.com</td>\n      <td>07/05/2010</td>\n      <td>Georgeann</td>\n      <td>Franecki</td>\n    </tr>\n    <tr>\n      <th>37</th>\n      <td>Jerri Klein</td>\n      <td>861 Lynch Mews</td>\n      <td>Dovetown</td>\n      <td>North Dakota</td>\n      <td>62966-2596</td>\n      <td>129-097-7617x8297</td>\n      <td>mwillms@yahoo.com</td>\n      <td>Berge Inc</td>\n      <td>2138 Carmella Mountains</td>\n      <td>South Eligeside</td>\n      <td>Missouri</td>\n      <td>54580</td>\n      <td>810.715.2139</td>\n      <td>candy42@sipes.info</td>\n      <td>09/07/2001</td>\n      <td>Jerri</td>\n      <td>Klein</td>\n    </tr>\n    <tr>\n      <th>38</th>\n      <td>Danyell Rogahn</td>\n      <td>40467 Gaston Park Apt. 590</td>\n      <td>North Jamey</td>\n      <td>New Jersey</td>\n      <td>00345-1411</td>\n      <td>+01(9)6029374309</td>\n      <td>hahn.sofia@hotmail.com</td>\n      <td>Langworth-Hintz</td>\n      <td>13729 Eula Mount</td>\n      <td>McCulloughshire</td>\n      <td>North Dakota</td>\n      <td>36203-0817</td>\n      <td>417-385-2823x785</td>\n      <td>malia16@hessel.com</td>\n      <td>10/04/1970</td>\n      <td>Danyell</td>\n      <td>Rogahn</td>\n    </tr>\n    <tr>\n      <th>41</th>\n      <td>Raven Ebert</td>\n      <td>5049 Beier Island Apt. 959</td>\n      <td>Kilbackshire</td>\n      <td>West Virginia</td>\n      <td>27237-2029</td>\n      <td>1-734-031-7070x39183</td>\n      <td>zachariah17@yahoo.com</td>\n      <td>Witting-Blick</td>\n      <td>356 Huels Union</td>\n      <td>West Amare</td>\n      <td>Washington</td>\n      <td>82780</td>\n      <td>545.113.8412</td>\n      <td>danna.schiller@turcotte.net</td>\n      <td>10/15/1991</td>\n      <td>Raven</td>\n      <td>Ebert</td>\n    </tr>\n    <tr>\n      <th>45</th>\n      <td>Orra Blick</td>\n      <td>1749 Treutel Ways Apt. 400</td>\n      <td>Maritachester</td>\n      <td>West Virginia</td>\n      <td>21307</td>\n      <td>1-961-909-2105</td>\n      <td>von.petra@hotmail.com</td>\n      <td>Murphy-Berge</td>\n      <td>38763 Iver Junction Suite 576</td>\n      <td>North Keisha</td>\n      <td>Louisiana</td>\n      <td>96948-0751</td>\n      <td>735-912-8187x7497</td>\n      <td>waelchi.shelby@cormiertrantow.net</td>\n      <td>03/23/1992</td>\n      <td>Orra</td>\n      <td>Blick</td>\n    </tr>\n    <tr>\n      <th>47</th>\n      <td>Hester Lehner</td>\n      <td>200 Henery Motorway</td>\n      <td>Bergebury</td>\n      <td>Kansas</td>\n      <td>28601-4961</td>\n      <td>127-873-1321x25586</td>\n      <td>leannon.jazlyn@gmail.com</td>\n      <td>Schroeder Ltd</td>\n      <td>354 Pagac Causeway Suite 349</td>\n      <td>Quigleystad</td>\n      <td>Pennsylvania</td>\n      <td>54112-9867</td>\n      <td>102.898.5233x92382</td>\n      <td>botsford.logan@bednarweissnat.biz</td>\n      <td>1979-06-20 21:03:11</td>\n      <td>Hester</td>\n      <td>Lehner</td>\n    </tr>\n    <tr>\n      <th>49</th>\n      <td>Bridger Cormier</td>\n      <td>289 Katlyn Spurs</td>\n      <td>Port Karlee</td>\n      <td>Florida</td>\n      <td>98190-1095</td>\n      <td>(635)032-8847x7451</td>\n      <td>sinda79@yahoo.com</td>\n      <td>Mohr and Sons</td>\n      <td>29420 Ebba Harbor</td>\n      <td>Lake Jeanmarie</td>\n      <td>Louisiana</td>\n      <td>84866-4607</td>\n      <td>(415)754-8547x442</td>\n      <td>eichmann.felicity@corkery.com</td>\n      <td>2007-11-27 18:21:13</td>\n      <td>Bridger</td>\n      <td>Cormier</td>\n    </tr>\n    <tr>\n      <th>50</th>\n      <td>Sylvester Frami</td>\n      <td>85015 Lubowitz Lake Suite 158</td>\n      <td>South Rainahaven</td>\n      <td>Connecticut</td>\n      <td>31969-8294</td>\n      <td>(386)355-4939x668</td>\n      <td>fklocko@hotmail.com</td>\n      <td>Runolfsson LLC</td>\n      <td>9554 Kihn Path Suite 818</td>\n      <td>North Lemonchester</td>\n      <td>Massachusetts</td>\n      <td>31068</td>\n      <td>(058)417-2497x746</td>\n      <td>arodriguez@block.biz</td>\n      <td>1978-04-27 15:58:39</td>\n      <td>Sylvester</td>\n      <td>Frami</td>\n    </tr>\n    <tr>\n      <th>51</th>\n      <td>Celina Jaskolski</td>\n      <td>0423 Batz Causeway Suite 226</td>\n      <td>Hahnton</td>\n      <td>Idaho</td>\n      <td>56178-0335</td>\n      <td>056.639.0919</td>\n      <td>yundt.nikolas@hotmail.com</td>\n      <td>Rice Group</td>\n      <td>930 Bergnaum Parkway</td>\n      <td>Kylerport</td>\n      <td>Ohio</td>\n      <td>77767-6116</td>\n      <td>(017)873-9165</td>\n      <td>feeney.gertha@jakubowski.org</td>\n      <td>10/29/1981</td>\n      <td>Celina</td>\n      <td>Jaskolski</td>\n    </tr>\n    <tr>\n      <th>53</th>\n      <td>Armstead Schulist</td>\n      <td>80460 Kreiger Stravenue</td>\n      <td>East Sanjuanamouth</td>\n      <td>Kansas</td>\n      <td>00103-0491</td>\n      <td>+52(8)6713748523</td>\n      <td>ddare@hotmail.com</td>\n      <td>Schumm-Quigley</td>\n      <td>8323 Wiegand Cliff Apt. 050</td>\n      <td>Rosaleeport</td>\n      <td>North Dakota</td>\n      <td>42529-7516</td>\n      <td>1-526-215-9117x784</td>\n      <td>rogahn.allyssa@cartwrightdare.com</td>\n      <td>1970-05-09</td>\n      <td>Armstead</td>\n      <td>Schulist</td>\n    </tr>\n    <tr>\n      <th>57</th>\n      <td>London Hammes</td>\n      <td>318 Connelly Fords Apt. 361</td>\n      <td>New Franz</td>\n      <td>Connecticut</td>\n      <td>11491-4604</td>\n      <td>07612860813</td>\n      <td>mfeeney@gmail.com</td>\n      <td>Lehner LLC</td>\n      <td>95708 Howe Junctions Apt. 521</td>\n      <td>New Miya</td>\n      <td>Kentucky</td>\n      <td>63063-1267</td>\n      <td>05266401668</td>\n      <td>arnold97@wolff.net</td>\n      <td>1992-07-26 02:19:02</td>\n      <td>London</td>\n      <td>Hammes</td>\n    </tr>\n    <tr>\n      <th>58</th>\n      <td>Osvaldo Wisozk</td>\n      <td>170 Wisoky River</td>\n      <td>Chasitystad</td>\n      <td>Vermont</td>\n      <td>82681</td>\n      <td>1-564-603-5784x366</td>\n      <td>birt.dach@hotmail.com</td>\n      <td>Emmerich PLC</td>\n      <td>124 Anderson Tunnel</td>\n      <td>New Redmondstad</td>\n      <td>Maine</td>\n      <td>60355</td>\n      <td>111-740-3401x434</td>\n      <td>strosin.marco@corwinmraz.com</td>\n      <td>1977-06-28 10:27:21</td>\n      <td>Osvaldo</td>\n      <td>Wisozk</td>\n    </tr>\n    <tr>\n      <th>59</th>\n      <td>Lavelle Homenick</td>\n      <td>11205 Jean Bridge</td>\n      <td>New Elissaberg</td>\n      <td>Idaho</td>\n      <td>88311</td>\n      <td>05267585753</td>\n      <td>ikub@hotmail.com</td>\n      <td>Collier-Corwin</td>\n      <td>38028 Lakin Isle</td>\n      <td>Dooleyport</td>\n      <td>Ohio</td>\n      <td>29109-1265</td>\n      <td>536.537.2854</td>\n      <td>kemmer.dorinda@schmidtleffler.com</td>\n      <td>1986-02-21</td>\n      <td>Lavelle</td>\n      <td>Homenick</td>\n    </tr>\n    <tr>\n      <th>62</th>\n      <td>Kaaren Herman</td>\n      <td>2224 Koelpin Estate</td>\n      <td>Tyrekburgh</td>\n      <td>Wyoming</td>\n      <td>55091-9853</td>\n      <td>(711)975-8232</td>\n      <td>llebsack@hotmail.com</td>\n      <td>Hegmann Group</td>\n      <td>8022 Lynch Shoals Suite 829</td>\n      <td>New Kristynmouth</td>\n      <td>Texas</td>\n      <td>31477-7294</td>\n      <td>+04(8)2591586061</td>\n      <td>nigel.steuber@kemmer.com</td>\n      <td>09/15/2000</td>\n      <td>Kaaren</td>\n      <td>Herman</td>\n    </tr>\n    <tr>\n      <th>63</th>\n      <td>Antony Quigley</td>\n      <td>22181 Stefani Key Apt. 893</td>\n      <td>Lake Shawntechester</td>\n      <td>Wisconsin</td>\n      <td>15040</td>\n      <td>323.403.7401x796</td>\n      <td>zwiza@yahoo.com</td>\n      <td>Gleason-Ondricka</td>\n      <td>7738 Kassie Islands Apt. 154</td>\n      <td>Port Wenzel</td>\n      <td>Tennessee</td>\n      <td>05844-4186</td>\n      <td>(381)160-9911x15514</td>\n      <td>vicente88@satterfield.com</td>\n      <td>07/21/1987</td>\n      <td>Antony</td>\n      <td>Quigley</td>\n    </tr>\n    <tr>\n      <th>64</th>\n      <td>Mozell Fay</td>\n      <td>013 Cailyn Tunnel Apt. 252</td>\n      <td>Franeckiland</td>\n      <td>Virginia</td>\n      <td>11772-7169</td>\n      <td>1-827-058-8398x6544</td>\n      <td>noel12@gmail.com</td>\n      <td>Homenick and Sons</td>\n      <td>735 Kilback Harbor Apt. 206</td>\n      <td>Port Paraleeberg</td>\n      <td>Georgia</td>\n      <td>55295-5840</td>\n      <td>553-201-2350x59565</td>\n      <td>beer.ashlee@okunevaeffertz.info</td>\n      <td>1977-09-26</td>\n      <td>Mozell</td>\n      <td>Fay</td>\n    </tr>\n    <tr>\n      <th>65</th>\n      <td>Heber Weimann</td>\n      <td>6419 Trantow Flats</td>\n      <td>West Anaisstad</td>\n      <td>California</td>\n      <td>11070-9852</td>\n      <td>555.445.8971x163</td>\n      <td>bishop54@hotmail.com</td>\n      <td>Roob and Sons</td>\n      <td>962 Kathrine Pike Apt. 083</td>\n      <td>Port Rivermouth</td>\n      <td>Idaho</td>\n      <td>09076</td>\n      <td>(213)992-4145x37215</td>\n      <td>kfahey@heaneyheidenreich.com</td>\n      <td>1999-11-26</td>\n      <td>Heber</td>\n      <td>Weimann</td>\n    </tr>\n    <tr>\n      <th>66</th>\n      <td>Bobbye Nikolaus</td>\n      <td>798 McKenzie Lodge</td>\n      <td>West Manson</td>\n      <td>Tennessee</td>\n      <td>73860</td>\n      <td>07401671174</td>\n      <td>sade25@hotmail.com</td>\n      <td>Renner Inc</td>\n      <td>05538 Niki Views</td>\n      <td>New Aric</td>\n      <td>Ohio</td>\n      <td>89065-8855</td>\n      <td>1-991-653-5705x95477</td>\n      <td>nayeli.sawayn@jaskolski.com</td>\n      <td>1995-03-04</td>\n      <td>Bobbye</td>\n      <td>Nikolaus</td>\n    </tr>\n    <tr>\n      <th>67</th>\n      <td>Mardell Waelchi</td>\n      <td>01896 Cummerata Street Apt. 989</td>\n      <td>East Logantown</td>\n      <td>New Mexico</td>\n      <td>64097</td>\n      <td>(421)334-3662x76561</td>\n      <td>fadel.stanford@gmail.com</td>\n      <td>Kilback and Sons</td>\n      <td>0542 Etter Walk</td>\n      <td>Dooleytown</td>\n      <td>Georgia</td>\n      <td>62314-6827</td>\n      <td>881.369.1832</td>\n      <td>leannon.jule@upton.info</td>\n      <td>12/01/1996</td>\n      <td>Mardell</td>\n      <td>Waelchi</td>\n    </tr>\n    <tr>\n      <th>68</th>\n      <td>Fremont Watsica</td>\n      <td>0990 Cedrick Place</td>\n      <td>Hosiefurt</td>\n      <td>Maine</td>\n      <td>37947</td>\n      <td>(659)159-0689</td>\n      <td>mcclure.kadence@gmail.com</td>\n      <td>Senger-Wintheiser</td>\n      <td>20772 Walsh Summit Suite 244</td>\n      <td>Ahmadtown</td>\n      <td>Washington</td>\n      <td>69287</td>\n      <td>+84(6)0483052301</td>\n      <td>abshire.moshe@leannon.com</td>\n      <td>1980-04-29</td>\n      <td>Fremont</td>\n      <td>Watsica</td>\n    </tr>\n    <tr>\n      <th>73</th>\n      <td>Bria Padberg</td>\n      <td>67874 Aja Station Suite 502</td>\n      <td>West Blossom</td>\n      <td>Hawaii</td>\n      <td>55372</td>\n      <td>(640)290-0249x974</td>\n      <td>bfranecki@gmail.com</td>\n      <td>Anderson-Kessler</td>\n      <td>030 Oberbrunner Camp</td>\n      <td>North Reece</td>\n      <td>North Carolina</td>\n      <td>04794</td>\n      <td>(978)029-4734x3684</td>\n      <td>ukreiger@dickens.net</td>\n      <td>05/28/1976</td>\n      <td>Bria</td>\n      <td>Padberg</td>\n    </tr>\n    <tr>\n      <th>78</th>\n      <td>Hurley Ward</td>\n      <td>99542 Von Creek</td>\n      <td>Kingstonstad</td>\n      <td>Montana</td>\n      <td>03115</td>\n      <td>+17(3)9233121597</td>\n      <td>emmerich.christy@gmail.com</td>\n      <td>Lakin-Emmerich</td>\n      <td>231 Beahan Manor Suite 196</td>\n      <td>Beaumouth</td>\n      <td>Oklahoma</td>\n      <td>96406</td>\n      <td>1-171-256-2471x2530</td>\n      <td>cremin.melanie@wisozktoy.com</td>\n      <td>09/24/2007</td>\n      <td>Hurley</td>\n      <td>Ward</td>\n    </tr>\n    <tr>\n      <th>79</th>\n      <td>Daphne Harris</td>\n      <td>22683 Phil Skyway</td>\n      <td>South Lelandshire</td>\n      <td>South Dakota</td>\n      <td>68819-7808</td>\n      <td>1-444-871-5539x6311</td>\n      <td>jdare@yahoo.com</td>\n      <td>Hahn-O'Reilly</td>\n      <td>82092 Turner Valley</td>\n      <td>New Elamton</td>\n      <td>Connecticut</td>\n      <td>65705</td>\n      <td>(275)862-4612</td>\n      <td>fbode@ernser.com</td>\n      <td>2009-08-18 19:43:49</td>\n      <td>Daphne</td>\n      <td>Harris</td>\n    </tr>\n    <tr>\n      <th>83</th>\n      <td>Malaki Haag</td>\n      <td>240 Cydney Branch</td>\n      <td>Toybury</td>\n      <td>Connecticut</td>\n      <td>39987</td>\n      <td>862.993.7617x214</td>\n      <td>kirstin02@hotmail.com</td>\n      <td>Jacobson-Turner</td>\n      <td>338 Mikhail Dale</td>\n      <td>Parkerhaven</td>\n      <td>Nevada</td>\n      <td>85874</td>\n      <td>(010)069-5336x384</td>\n      <td>weimann.maida@cormier.com</td>\n      <td>2005-08-23 17:52:57</td>\n      <td>Malaki</td>\n      <td>Haag</td>\n    </tr>\n    <tr>\n      <th>84</th>\n      <td>Veta Grady</td>\n      <td>9783 Jannie Cape Apt. 708</td>\n      <td>Hirtheburgh</td>\n      <td>Maine</td>\n      <td>48084</td>\n      <td>1-649-341-2704x12890</td>\n      <td>henrietta55@gmail.com</td>\n      <td>Schinner-Cummerata</td>\n      <td>81950 Paris Ramp Suite 939</td>\n      <td>New Donell</td>\n      <td>Oklahoma</td>\n      <td>22117</td>\n      <td>676-453-2958</td>\n      <td>odoyle@schultz.net</td>\n      <td>1978-04-02 13:12:28</td>\n      <td>Veta</td>\n      <td>Grady</td>\n    </tr>\n    <tr>\n      <th>86</th>\n      <td>Caryn Wyman</td>\n      <td>0982 Rath Hollow Apt. 894</td>\n      <td>Schummfort</td>\n      <td>South Dakota</td>\n      <td>08458-1545</td>\n      <td>199.935.1826</td>\n      <td>nelly.farrell@gmail.com</td>\n      <td>Boehm-Nolan</td>\n      <td>8507 Garland Prairie Suite 212</td>\n      <td>West Francies</td>\n      <td>Arkansas</td>\n      <td>86640</td>\n      <td>1-502-062-7378x9617</td>\n      <td>arkie.kertzmann@wolf.com</td>\n      <td>2015-02-04 08:13:57</td>\n      <td>Caryn</td>\n      <td>Wyman</td>\n    </tr>\n    <tr>\n      <th>88</th>\n      <td>Lorelei Kiehn</td>\n      <td>047 Marks Island Suite 922</td>\n      <td>Lednerburgh</td>\n      <td>Maine</td>\n      <td>04883</td>\n      <td>1-095-375-5902</td>\n      <td>jaden92@hotmail.com</td>\n      <td>Nitzsche LLC</td>\n      <td>565 Marry Pine Suite 236</td>\n      <td>Leuschkeborough</td>\n      <td>Indiana</td>\n      <td>75023</td>\n      <td>1-195-789-5038</td>\n      <td>juliet83@runolfsson.com</td>\n      <td>11/14/1989</td>\n      <td>Lorelei</td>\n      <td>Kiehn</td>\n    </tr>\n    <tr>\n      <th>89</th>\n      <td>Hildegard Watsica</td>\n      <td>509 Jaskolski Station Suite 213</td>\n      <td>Kassandrafurt</td>\n      <td>Illinois</td>\n      <td>27564-6047</td>\n      <td>01261907757</td>\n      <td>willms.bradley@gmail.com</td>\n      <td>Jacobson Group</td>\n      <td>9566 Bernadette Streets Apt. 246</td>\n      <td>West Johnathanview</td>\n      <td>Wisconsin</td>\n      <td>59435</td>\n      <td>999-449-0625</td>\n      <td>chelsie.emard@marquardtgreenholt.org</td>\n      <td>12/18/1977</td>\n      <td>Hildegard</td>\n      <td>Watsica</td>\n    </tr>\n    <tr>\n      <th>90</th>\n      <td>Spenser Kerluke</td>\n      <td>157 Mann Isle Apt. 875</td>\n      <td>North Alver</td>\n      <td>Colorado</td>\n      <td>35254</td>\n      <td>150.128.5598x5072</td>\n      <td>jkemmer@yahoo.com</td>\n      <td>Gleichner-Jones</td>\n      <td>2825 Klein Harbors</td>\n      <td>Augustineshire</td>\n      <td>Vermont</td>\n      <td>54563</td>\n      <td>577-615-1102</td>\n      <td>ebert.abdul@toy.com</td>\n      <td>1984-02-06</td>\n      <td>Spenser</td>\n      <td>Kerluke</td>\n    </tr>\n  </tbody>\n</table>\n</div>"
     },
     "execution_count": 73,
     "metadata": {},
     "output_type": "execute_result"
    }
   ],
   "source": [
    "pearson_Data[['First Name', 'Last Name']] = pearson_Data.name.str.split(expand=True)\n",
    "pearson_Data.head(50)"
   ],
   "metadata": {
    "collapsed": false,
    "ExecuteTime": {
     "end_time": "2023-10-05T20:28:10.415816Z",
     "start_time": "2023-10-05T20:28:10.234744600Z"
    }
   },
   "id": "17d3795c9c773f8a"
  },
  {
   "cell_type": "code",
   "execution_count": 74,
   "outputs": [
    {
     "name": "stdout",
     "output_type": "stream",
     "text": [
      "(5657, 16)\n"
     ]
    },
    {
     "data": {
      "text/plain": "    First Name   Last Name                          address  \\\n0       Deonte       Stark               278 Mueller Plains   \n1     Faustino       Boyer     70244 Skiles Falls Suite 030   \n3       Mervyn     Kreiger               376 Dorinda Stream   \n5       Daquan     Leffler      43142 Howell Ports Apt. 953   \n6         Jace  Konopelski       963 Senger Points Apt. 992   \n8       Katlin       Robel     6151 Feeney Forest Suite 872   \n11        Irva       Brown      71102 Hallie Hill Suite 295   \n15        Whit    Shanahan                 213 Brown Island   \n16        Vere     Effertz                4948 Hoppe Shores   \n17  Fitzgerald      Bednar      5272 Bosco Shoals Suite 776   \n18       Arvid        Mohr                  644 Jamel Creek   \n19       Arden        Ryan      5913 Gutmann Trail Apt. 393   \n22      Justin   Hermiston       235 Deedee Skyway Apt. 669   \n23      Anitra    Schmeler  32392 Pacocha Overpass Apt. 998   \n24     Rosalyn       Fahey      89545 O'Kon Field Suite 436   \n25    Maverick       Purdy     12722 Deidre Bypass Apt. 900   \n26       Macey  Rutherford    204 Tawanna Viaduct Suite 395   \n27    Marilynn        Wiza               94523 Bode Passage   \n28     Darrick       Lakin  354 Pricilla Motorway Suite 140   \n30     Braiden         Orn              20794 Birdella Cape   \n32      Lucina     Stanton               25687 Glover Track   \n33   Georgeann    Franecki      0427 Lexis Harbor Suite 578   \n37       Jerri       Klein                   861 Lynch Mews   \n38     Danyell      Rogahn       40467 Gaston Park Apt. 590   \n41       Raven       Ebert       5049 Beier Island Apt. 959   \n45        Orra       Blick       1749 Treutel Ways Apt. 400   \n47      Hester      Lehner              200 Henery Motorway   \n49     Bridger     Cormier                 289 Katlyn Spurs   \n50   Sylvester       Frami    85015 Lubowitz Lake Suite 158   \n51      Celina   Jaskolski     0423 Batz Causeway Suite 226   \n53    Armstead    Schulist          80460 Kreiger Stravenue   \n57      London      Hammes      318 Connelly Fords Apt. 361   \n58     Osvaldo      Wisozk                 170 Wisoky River   \n59     Lavelle    Homenick                11205 Jean Bridge   \n62      Kaaren      Herman              2224 Koelpin Estate   \n63      Antony     Quigley       22181 Stefani Key Apt. 893   \n64      Mozell         Fay       013 Cailyn Tunnel Apt. 252   \n65       Heber     Weimann               6419 Trantow Flats   \n66      Bobbye    Nikolaus               798 McKenzie Lodge   \n67     Mardell     Waelchi  01896 Cummerata Street Apt. 989   \n68     Fremont     Watsica               0990 Cedrick Place   \n73        Bria     Padberg      67874 Aja Station Suite 502   \n78      Hurley        Ward                  99542 Von Creek   \n79      Daphne      Harris                22683 Phil Skyway   \n83      Malaki        Haag                240 Cydney Branch   \n84        Veta       Grady        9783 Jannie Cape Apt. 708   \n86       Caryn       Wyman        0982 Rath Hollow Apt. 894   \n88     Lorelei       Kiehn       047 Marks Island Suite 922   \n89   Hildegard     Watsica  509 Jaskolski Station Suite 213   \n90     Spenser     Kerluke           157 Mann Isle Apt. 875   \n\n                   city           state         zip                 phone  \\\n0            North Euna         Alabama  03404-4384    (180)940-9676x4495   \n1       North Altohaven      California  01522-1310   (308)699-6239x81011   \n3          Shaniquafort  South Carolina  39347-4438          869-985-6299   \n5            West Emory     Connecticut  08086-5571          874-576-0739   \n6            Lake Fonda    North Dakota       15581    (083)182-4626x8012   \n8              Langbury        Delaware       46090         (389)982-6324   \n11         McGlynnville         Georgia  23489-3472         (280)962-2286   \n15      Lake Dorianland   Massachusetts       64916          521-889-8920   \n16          Taniyahbury        Maryland       34427    1-047-570-1897x480   \n17          Labadieberg     Mississippi       66799         (835)065-4191   \n18       New Melvynbury        Nebraska       56470         (529)583-2566   \n19         Reinoborough        Colorado       05571          012.486.9436   \n22           Jaidyntown         Wyoming       75649           00629957247   \n23          Murazikfurt      California  59627-7792        1-857-529-8637   \n24   South Brittnyshire      New Mexico  35208-5889        1-255-927-2069   \n25          Joellemouth     Mississippi       77674     335-017-7162x4106   \n26  North Carlosborough           Texas       61741      267.921.6251x044   \n27           Tyquanbury    Rhode Island       39381      292-196-3431x968   \n28           Kittyhaven          Alaska  93601-8076    (365)490-8351x1966   \n30        Guadalupefurt        Virginia       15258   1-184-989-1024x8406   \n32           Jewessland        Missouri       54041     810.396.1483x2571   \n33       Port Tasiafort            Utah       22109     567.721.6920x7127   \n37             Dovetown    North Dakota  62966-2596     129-097-7617x8297   \n38          North Jamey      New Jersey  00345-1411      +01(9)6029374309   \n41         Kilbackshire   West Virginia  27237-2029  1-734-031-7070x39183   \n45        Maritachester   West Virginia       21307        1-961-909-2105   \n47            Bergebury          Kansas  28601-4961    127-873-1321x25586   \n49          Port Karlee         Florida  98190-1095    (635)032-8847x7451   \n50     South Rainahaven     Connecticut  31969-8294     (386)355-4939x668   \n51              Hahnton           Idaho  56178-0335          056.639.0919   \n53   East Sanjuanamouth          Kansas  00103-0491      +52(8)6713748523   \n57            New Franz     Connecticut  11491-4604           07612860813   \n58          Chasitystad         Vermont       82681    1-564-603-5784x366   \n59       New Elissaberg           Idaho       88311           05267585753   \n62           Tyrekburgh         Wyoming  55091-9853         (711)975-8232   \n63  Lake Shawntechester       Wisconsin       15040      323.403.7401x796   \n64         Franeckiland        Virginia  11772-7169   1-827-058-8398x6544   \n65       West Anaisstad      California  11070-9852      555.445.8971x163   \n66          West Manson       Tennessee       73860           07401671174   \n67       East Logantown      New Mexico       64097   (421)334-3662x76561   \n68            Hosiefurt           Maine       37947         (659)159-0689   \n73         West Blossom          Hawaii       55372     (640)290-0249x974   \n78         Kingstonstad         Montana       03115      +17(3)9233121597   \n79    South Lelandshire    South Dakota  68819-7808   1-444-871-5539x6311   \n83              Toybury     Connecticut       39987      862.993.7617x214   \n84          Hirtheburgh           Maine       48084  1-649-341-2704x12890   \n86           Schummfort    South Dakota  08458-1545          199.935.1826   \n88          Lednerburgh           Maine       04883        1-095-375-5902   \n89        Kassandrafurt        Illinois  27564-6047           01261907757   \n90          North Alver        Colorado       35254     150.128.5598x5072   \n\n                            email                work  \\\n0            shanna73@hotmail.com          Hahn-Mayer   \n1             ferrell81@gmail.com       Buckridge Inc   \n3   emmerich.griselda@hotmail.com         Witting PLC   \n5         natosha.kutch@yahoo.com    Christiansen Ltd   \n6    langosh.mathilde@hotmail.com         Glover-Howe   \n8          herman.paris@gmail.com          Murray Inc   \n11      senger.marnie@hotmail.com    Leuschke-Schmitt   \n15             inga79@hotmail.com       Dickinson Inc   \n16        lucindy.kuhic@gmail.com     Bode-Vandervort   \n17       blaise.jenkins@yahoo.com       Prohaska-Roob   \n18     jewess.alfredo@hotmail.com          Heller Ltd   \n19       bartell.collin@yahoo.com      Fisher-Hegmann   \n22          frami.arlyn@yahoo.com     Schaden-Schmidt   \n23   gislason.suzanna@hotmail.com         Douglas Inc   \n24         jeryl.parker@gmail.com           Kiehn LLC   \n25                pkris@yahoo.com  Reichert-Bahringer   \n26          grant.jules@gmail.com      Corwin-Lockman   \n27        johnson.linda@gmail.com   Hodkiewicz-Barton   \n28   trantow.brittnay@hotmail.com         Barrows PLC   \n30       wunsch.zackary@gmail.com      Murazik-Klocko   \n32           cary.huels@yahoo.com        Nienow-Sipes   \n33          dach.juluis@yahoo.com        Stamm-Corwin   \n37              mwillms@yahoo.com           Berge Inc   \n38         hahn.sofia@hotmail.com     Langworth-Hintz   \n41          zachariah17@yahoo.com       Witting-Blick   \n45          von.petra@hotmail.com        Murphy-Berge   \n47       leannon.jazlyn@gmail.com       Schroeder Ltd   \n49              sinda79@yahoo.com       Mohr and Sons   \n50            fklocko@hotmail.com      Runolfsson LLC   \n51      yundt.nikolas@hotmail.com          Rice Group   \n53              ddare@hotmail.com      Schumm-Quigley   \n57              mfeeney@gmail.com          Lehner LLC   \n58          birt.dach@hotmail.com        Emmerich PLC   \n59               ikub@hotmail.com      Collier-Corwin   \n62           llebsack@hotmail.com       Hegmann Group   \n63                zwiza@yahoo.com    Gleason-Ondricka   \n64               noel12@gmail.com   Homenick and Sons   \n65           bishop54@hotmail.com       Roob and Sons   \n66             sade25@hotmail.com          Renner Inc   \n67       fadel.stanford@gmail.com    Kilback and Sons   \n68      mcclure.kadence@gmail.com   Senger-Wintheiser   \n73            bfranecki@gmail.com    Anderson-Kessler   \n78     emmerich.christy@gmail.com      Lakin-Emmerich   \n79                jdare@yahoo.com       Hahn-O'Reilly   \n83          kirstin02@hotmail.com     Jacobson-Turner   \n84          henrietta55@gmail.com  Schinner-Cummerata   \n86        nelly.farrell@gmail.com         Boehm-Nolan   \n88            jaden92@hotmail.com        Nitzsche LLC   \n89       willms.bradley@gmail.com      Jacobson Group   \n90              jkemmer@yahoo.com     Gleichner-Jones   \n\n                        work address           work city      work state  \\\n0     8177 Weber Throughway Apt. 341            Jaronton           Maine   \n1                 236 Kessler Center      New Gavynshire        Missouri   \n3                  521 Kemmer Manors            Nerytown        Kentucky   \n5      3136 Jered Junction Suite 993         West Mallie   New Hampshire   \n6               87986 Harvey Islands       South Zackary        Kentucky   \n8                  8486 Felipa Forks           Jerdetown         Montana   \n11               443 Ephraim Harbors           Haleyland         Alabama   \n15               7129 Salina Station           Lake Lige       Louisiana   \n16                9497 Botsford Isle            Port Nan          Alaska   \n17    8113 Wiegand Harbors Suite 493       Cedricborough        Michigan   \n18               3386 Koelpin Plains      Meghannborough           Texas   \n19               9955 Patrice Shoals         Larkinshire    Rhode Island   \n22          6212 Dusty View Apt. 908        Kandiceville        Oklahoma   \n23              968 McLaughlin Brook   West Hymenborough          Nevada   \n24                  8108 Jaylan Mill         Mullermouth     Mississippi   \n25                74466 Arianna Neck        Laurancebury   New Hampshire   \n26                555 Jacobi Landing         Port Brooks        Arkansas   \n27       8573 Noreen Rapid Suite 339        South Kassie          Nevada   \n28        461 Kirstin Neck Suite 868         Port Nicola      New Jersey   \n30               53588 Feeney Divide   Port Lempiborough    South Dakota   \n32                   740 Borer Vista        Schimmeltown     Mississippi   \n33               548 Lehner Mountain          Lake Stone     Connecticut   \n37           2138 Carmella Mountains     South Eligeside        Missouri   \n38                  13729 Eula Mount     McCulloughshire    North Dakota   \n41                   356 Huels Union          West Amare      Washington   \n45     38763 Iver Junction Suite 576        North Keisha       Louisiana   \n47      354 Pagac Causeway Suite 349         Quigleystad    Pennsylvania   \n49                 29420 Ebba Harbor      Lake Jeanmarie       Louisiana   \n50          9554 Kihn Path Suite 818  North Lemonchester   Massachusetts   \n51              930 Bergnaum Parkway           Kylerport            Ohio   \n53       8323 Wiegand Cliff Apt. 050         Rosaleeport    North Dakota   \n57     95708 Howe Junctions Apt. 521            New Miya        Kentucky   \n58               124 Anderson Tunnel     New Redmondstad           Maine   \n59                  38028 Lakin Isle          Dooleyport            Ohio   \n62       8022 Lynch Shoals Suite 829    New Kristynmouth           Texas   \n63      7738 Kassie Islands Apt. 154         Port Wenzel       Tennessee   \n64       735 Kilback Harbor Apt. 206    Port Paraleeberg         Georgia   \n65        962 Kathrine Pike Apt. 083     Port Rivermouth           Idaho   \n66                  05538 Niki Views            New Aric            Ohio   \n67                   0542 Etter Walk          Dooleytown         Georgia   \n68      20772 Walsh Summit Suite 244           Ahmadtown      Washington   \n73              030 Oberbrunner Camp         North Reece  North Carolina   \n78        231 Beahan Manor Suite 196           Beaumouth        Oklahoma   \n79               82092 Turner Valley         New Elamton     Connecticut   \n83                  338 Mikhail Dale         Parkerhaven          Nevada   \n84        81950 Paris Ramp Suite 939          New Donell        Oklahoma   \n86    8507 Garland Prairie Suite 212       West Francies        Arkansas   \n88          565 Marry Pine Suite 236     Leuschkeborough         Indiana   \n89  9566 Bernadette Streets Apt. 246  West Johnathanview       Wisconsin   \n90                2825 Klein Harbors      Augustineshire         Vermont   \n\n   work zipcode            work phone                            work email  \\\n0    51589-1424           01240240340             heller.kirstin@glover.com   \n1    52234-6972     (486)896-6855x446              esta.dicki@bechtelar.com   \n3         68774         (212)169-8190                   greyson39@purdy.com   \n5    40778-7891      215.605.7824x844            anderson.gifford@nader.com   \n6    75232-9391         (270)125-2639               kassulke.fate@hills.com   \n8         42616    848.167.8691x84803           katherin61@bartellkutch.com   \n11   99964-2124      155-817-9065x251                    jerrad15@upton.com   \n15   99068-5399         (824)000-3146                 vmann@klockobruen.com   \n16   72083-8368     362.712.8612x5533                      salena07@kub.com   \n17        83592      299-038-2068x803            gottlieb.nila@rolfson.info   \n18        14718          286-794-9474                quinton44@eichmann.biz   \n19        65071   (657)623-1115x21681             cathrine.schmitt@funk.com   \n22        25522      +62(7)2640575842           kassandra72@schamberger.com   \n23        85868         (425)065-6143            donnell.monahan@paucek.org   \n24   22134-5680      871.480.3982x412            ohermann@spencercorwin.net   \n25        17564          314.172.2089       schumm.gabriela@jonesledner.net   \n26        69033      009-599-0417x500             leeroy.walter@schaden.com   \n27   54936-4309          059-612-4192              anice.weimann@walter.com   \n28        33017     (868)073-8055x069    connelly.arvid@beattyankunding.com   \n30        99988     (336)869-2766x042  alonzo.dibbert@mayertsatterfield.com   \n32   48537-0013          240.200.7625             rodriguez.effa@abbott.com   \n33        70048      090-313-3081x116                 grant.lara@corwin.com   \n37        54580          810.715.2139                    candy42@sipes.info   \n38   36203-0817      417-385-2823x785                    malia16@hessel.com   \n41        82780          545.113.8412           danna.schiller@turcotte.net   \n45   96948-0751     735-912-8187x7497     waelchi.shelby@cormiertrantow.net   \n47   54112-9867    102.898.5233x92382     botsford.logan@bednarweissnat.biz   \n49   84866-4607     (415)754-8547x442         eichmann.felicity@corkery.com   \n50        31068     (058)417-2497x746                  arodriguez@block.biz   \n51   77767-6116         (017)873-9165          feeney.gertha@jakubowski.org   \n53   42529-7516    1-526-215-9117x784     rogahn.allyssa@cartwrightdare.com   \n57   63063-1267           05266401668                    arnold97@wolff.net   \n58        60355      111-740-3401x434          strosin.marco@corwinmraz.com   \n59   29109-1265          536.537.2854     kemmer.dorinda@schmidtleffler.com   \n62   31477-7294      +04(8)2591586061              nigel.steuber@kemmer.com   \n63   05844-4186   (381)160-9911x15514             vicente88@satterfield.com   \n64   55295-5840    553-201-2350x59565       beer.ashlee@okunevaeffertz.info   \n65        09076   (213)992-4145x37215          kfahey@heaneyheidenreich.com   \n66   89065-8855  1-991-653-5705x95477           nayeli.sawayn@jaskolski.com   \n67   62314-6827          881.369.1832               leannon.jule@upton.info   \n68        69287      +84(6)0483052301             abshire.moshe@leannon.com   \n73        04794    (978)029-4734x3684                  ukreiger@dickens.net   \n78        96406   1-171-256-2471x2530          cremin.melanie@wisozktoy.com   \n79        65705         (275)862-4612                      fbode@ernser.com   \n83        85874     (010)069-5336x384             weimann.maida@cormier.com   \n84        22117          676-453-2958                    odoyle@schultz.net   \n86        86640   1-502-062-7378x9617              arkie.kertzmann@wolf.com   \n88        75023        1-195-789-5038               juliet83@runolfsson.com   \n89        59435          999-449-0625  chelsie.emard@marquardtgreenholt.org   \n90        54563          577-615-1102                   ebert.abdul@toy.com   \n\n     account created on  \n0   2001-09-06 06:15:24  \n1            1983-04-25  \n3   1971-04-27 14:05:06  \n5   2014-01-15 23:15:43  \n6            05/20/2004  \n8            1974-12-19  \n11  1983-04-21 12:41:18  \n15           1973-09-02  \n16           06/23/1970  \n17  2003-10-15 00:05:01  \n18  2013-10-18 11:24:56  \n19  1980-03-28 02:14:22  \n22           2003-12-29  \n23  1970-12-24 18:40:32  \n24           1985-11-12  \n25           06/18/1986  \n26           1974-08-30  \n27           2014-08-13  \n28           2002-08-01  \n30  2013-08-07 08:12:54  \n32           1996-05-03  \n33           07/05/2010  \n37           09/07/2001  \n38           10/04/1970  \n41           10/15/1991  \n45           03/23/1992  \n47  1979-06-20 21:03:11  \n49  2007-11-27 18:21:13  \n50  1978-04-27 15:58:39  \n51           10/29/1981  \n53           1970-05-09  \n57  1992-07-26 02:19:02  \n58  1977-06-28 10:27:21  \n59           1986-02-21  \n62           09/15/2000  \n63           07/21/1987  \n64           1977-09-26  \n65           1999-11-26  \n66           1995-03-04  \n67           12/01/1996  \n68           1980-04-29  \n73           05/28/1976  \n78           09/24/2007  \n79  2009-08-18 19:43:49  \n83  2005-08-23 17:52:57  \n84  1978-04-02 13:12:28  \n86  2015-02-04 08:13:57  \n88           11/14/1989  \n89           12/18/1977  \n90           1984-02-06  ",
      "text/html": "<div>\n<style scoped>\n    .dataframe tbody tr th:only-of-type {\n        vertical-align: middle;\n    }\n\n    .dataframe tbody tr th {\n        vertical-align: top;\n    }\n\n    .dataframe thead th {\n        text-align: right;\n    }\n</style>\n<table border=\"1\" class=\"dataframe\">\n  <thead>\n    <tr style=\"text-align: right;\">\n      <th></th>\n      <th>First Name</th>\n      <th>Last Name</th>\n      <th>address</th>\n      <th>city</th>\n      <th>state</th>\n      <th>zip</th>\n      <th>phone</th>\n      <th>email</th>\n      <th>work</th>\n      <th>work address</th>\n      <th>work city</th>\n      <th>work state</th>\n      <th>work zipcode</th>\n      <th>work phone</th>\n      <th>work email</th>\n      <th>account created on</th>\n    </tr>\n  </thead>\n  <tbody>\n    <tr>\n      <th>0</th>\n      <td>Deonte</td>\n      <td>Stark</td>\n      <td>278 Mueller Plains</td>\n      <td>North Euna</td>\n      <td>Alabama</td>\n      <td>03404-4384</td>\n      <td>(180)940-9676x4495</td>\n      <td>shanna73@hotmail.com</td>\n      <td>Hahn-Mayer</td>\n      <td>8177 Weber Throughway Apt. 341</td>\n      <td>Jaronton</td>\n      <td>Maine</td>\n      <td>51589-1424</td>\n      <td>01240240340</td>\n      <td>heller.kirstin@glover.com</td>\n      <td>2001-09-06 06:15:24</td>\n    </tr>\n    <tr>\n      <th>1</th>\n      <td>Faustino</td>\n      <td>Boyer</td>\n      <td>70244 Skiles Falls Suite 030</td>\n      <td>North Altohaven</td>\n      <td>California</td>\n      <td>01522-1310</td>\n      <td>(308)699-6239x81011</td>\n      <td>ferrell81@gmail.com</td>\n      <td>Buckridge Inc</td>\n      <td>236 Kessler Center</td>\n      <td>New Gavynshire</td>\n      <td>Missouri</td>\n      <td>52234-6972</td>\n      <td>(486)896-6855x446</td>\n      <td>esta.dicki@bechtelar.com</td>\n      <td>1983-04-25</td>\n    </tr>\n    <tr>\n      <th>3</th>\n      <td>Mervyn</td>\n      <td>Kreiger</td>\n      <td>376 Dorinda Stream</td>\n      <td>Shaniquafort</td>\n      <td>South Carolina</td>\n      <td>39347-4438</td>\n      <td>869-985-6299</td>\n      <td>emmerich.griselda@hotmail.com</td>\n      <td>Witting PLC</td>\n      <td>521 Kemmer Manors</td>\n      <td>Nerytown</td>\n      <td>Kentucky</td>\n      <td>68774</td>\n      <td>(212)169-8190</td>\n      <td>greyson39@purdy.com</td>\n      <td>1971-04-27 14:05:06</td>\n    </tr>\n    <tr>\n      <th>5</th>\n      <td>Daquan</td>\n      <td>Leffler</td>\n      <td>43142 Howell Ports Apt. 953</td>\n      <td>West Emory</td>\n      <td>Connecticut</td>\n      <td>08086-5571</td>\n      <td>874-576-0739</td>\n      <td>natosha.kutch@yahoo.com</td>\n      <td>Christiansen Ltd</td>\n      <td>3136 Jered Junction Suite 993</td>\n      <td>West Mallie</td>\n      <td>New Hampshire</td>\n      <td>40778-7891</td>\n      <td>215.605.7824x844</td>\n      <td>anderson.gifford@nader.com</td>\n      <td>2014-01-15 23:15:43</td>\n    </tr>\n    <tr>\n      <th>6</th>\n      <td>Jace</td>\n      <td>Konopelski</td>\n      <td>963 Senger Points Apt. 992</td>\n      <td>Lake Fonda</td>\n      <td>North Dakota</td>\n      <td>15581</td>\n      <td>(083)182-4626x8012</td>\n      <td>langosh.mathilde@hotmail.com</td>\n      <td>Glover-Howe</td>\n      <td>87986 Harvey Islands</td>\n      <td>South Zackary</td>\n      <td>Kentucky</td>\n      <td>75232-9391</td>\n      <td>(270)125-2639</td>\n      <td>kassulke.fate@hills.com</td>\n      <td>05/20/2004</td>\n    </tr>\n    <tr>\n      <th>8</th>\n      <td>Katlin</td>\n      <td>Robel</td>\n      <td>6151 Feeney Forest Suite 872</td>\n      <td>Langbury</td>\n      <td>Delaware</td>\n      <td>46090</td>\n      <td>(389)982-6324</td>\n      <td>herman.paris@gmail.com</td>\n      <td>Murray Inc</td>\n      <td>8486 Felipa Forks</td>\n      <td>Jerdetown</td>\n      <td>Montana</td>\n      <td>42616</td>\n      <td>848.167.8691x84803</td>\n      <td>katherin61@bartellkutch.com</td>\n      <td>1974-12-19</td>\n    </tr>\n    <tr>\n      <th>11</th>\n      <td>Irva</td>\n      <td>Brown</td>\n      <td>71102 Hallie Hill Suite 295</td>\n      <td>McGlynnville</td>\n      <td>Georgia</td>\n      <td>23489-3472</td>\n      <td>(280)962-2286</td>\n      <td>senger.marnie@hotmail.com</td>\n      <td>Leuschke-Schmitt</td>\n      <td>443 Ephraim Harbors</td>\n      <td>Haleyland</td>\n      <td>Alabama</td>\n      <td>99964-2124</td>\n      <td>155-817-9065x251</td>\n      <td>jerrad15@upton.com</td>\n      <td>1983-04-21 12:41:18</td>\n    </tr>\n    <tr>\n      <th>15</th>\n      <td>Whit</td>\n      <td>Shanahan</td>\n      <td>213 Brown Island</td>\n      <td>Lake Dorianland</td>\n      <td>Massachusetts</td>\n      <td>64916</td>\n      <td>521-889-8920</td>\n      <td>inga79@hotmail.com</td>\n      <td>Dickinson Inc</td>\n      <td>7129 Salina Station</td>\n      <td>Lake Lige</td>\n      <td>Louisiana</td>\n      <td>99068-5399</td>\n      <td>(824)000-3146</td>\n      <td>vmann@klockobruen.com</td>\n      <td>1973-09-02</td>\n    </tr>\n    <tr>\n      <th>16</th>\n      <td>Vere</td>\n      <td>Effertz</td>\n      <td>4948 Hoppe Shores</td>\n      <td>Taniyahbury</td>\n      <td>Maryland</td>\n      <td>34427</td>\n      <td>1-047-570-1897x480</td>\n      <td>lucindy.kuhic@gmail.com</td>\n      <td>Bode-Vandervort</td>\n      <td>9497 Botsford Isle</td>\n      <td>Port Nan</td>\n      <td>Alaska</td>\n      <td>72083-8368</td>\n      <td>362.712.8612x5533</td>\n      <td>salena07@kub.com</td>\n      <td>06/23/1970</td>\n    </tr>\n    <tr>\n      <th>17</th>\n      <td>Fitzgerald</td>\n      <td>Bednar</td>\n      <td>5272 Bosco Shoals Suite 776</td>\n      <td>Labadieberg</td>\n      <td>Mississippi</td>\n      <td>66799</td>\n      <td>(835)065-4191</td>\n      <td>blaise.jenkins@yahoo.com</td>\n      <td>Prohaska-Roob</td>\n      <td>8113 Wiegand Harbors Suite 493</td>\n      <td>Cedricborough</td>\n      <td>Michigan</td>\n      <td>83592</td>\n      <td>299-038-2068x803</td>\n      <td>gottlieb.nila@rolfson.info</td>\n      <td>2003-10-15 00:05:01</td>\n    </tr>\n    <tr>\n      <th>18</th>\n      <td>Arvid</td>\n      <td>Mohr</td>\n      <td>644 Jamel Creek</td>\n      <td>New Melvynbury</td>\n      <td>Nebraska</td>\n      <td>56470</td>\n      <td>(529)583-2566</td>\n      <td>jewess.alfredo@hotmail.com</td>\n      <td>Heller Ltd</td>\n      <td>3386 Koelpin Plains</td>\n      <td>Meghannborough</td>\n      <td>Texas</td>\n      <td>14718</td>\n      <td>286-794-9474</td>\n      <td>quinton44@eichmann.biz</td>\n      <td>2013-10-18 11:24:56</td>\n    </tr>\n    <tr>\n      <th>19</th>\n      <td>Arden</td>\n      <td>Ryan</td>\n      <td>5913 Gutmann Trail Apt. 393</td>\n      <td>Reinoborough</td>\n      <td>Colorado</td>\n      <td>05571</td>\n      <td>012.486.9436</td>\n      <td>bartell.collin@yahoo.com</td>\n      <td>Fisher-Hegmann</td>\n      <td>9955 Patrice Shoals</td>\n      <td>Larkinshire</td>\n      <td>Rhode Island</td>\n      <td>65071</td>\n      <td>(657)623-1115x21681</td>\n      <td>cathrine.schmitt@funk.com</td>\n      <td>1980-03-28 02:14:22</td>\n    </tr>\n    <tr>\n      <th>22</th>\n      <td>Justin</td>\n      <td>Hermiston</td>\n      <td>235 Deedee Skyway Apt. 669</td>\n      <td>Jaidyntown</td>\n      <td>Wyoming</td>\n      <td>75649</td>\n      <td>00629957247</td>\n      <td>frami.arlyn@yahoo.com</td>\n      <td>Schaden-Schmidt</td>\n      <td>6212 Dusty View Apt. 908</td>\n      <td>Kandiceville</td>\n      <td>Oklahoma</td>\n      <td>25522</td>\n      <td>+62(7)2640575842</td>\n      <td>kassandra72@schamberger.com</td>\n      <td>2003-12-29</td>\n    </tr>\n    <tr>\n      <th>23</th>\n      <td>Anitra</td>\n      <td>Schmeler</td>\n      <td>32392 Pacocha Overpass Apt. 998</td>\n      <td>Murazikfurt</td>\n      <td>California</td>\n      <td>59627-7792</td>\n      <td>1-857-529-8637</td>\n      <td>gislason.suzanna@hotmail.com</td>\n      <td>Douglas Inc</td>\n      <td>968 McLaughlin Brook</td>\n      <td>West Hymenborough</td>\n      <td>Nevada</td>\n      <td>85868</td>\n      <td>(425)065-6143</td>\n      <td>donnell.monahan@paucek.org</td>\n      <td>1970-12-24 18:40:32</td>\n    </tr>\n    <tr>\n      <th>24</th>\n      <td>Rosalyn</td>\n      <td>Fahey</td>\n      <td>89545 O'Kon Field Suite 436</td>\n      <td>South Brittnyshire</td>\n      <td>New Mexico</td>\n      <td>35208-5889</td>\n      <td>1-255-927-2069</td>\n      <td>jeryl.parker@gmail.com</td>\n      <td>Kiehn LLC</td>\n      <td>8108 Jaylan Mill</td>\n      <td>Mullermouth</td>\n      <td>Mississippi</td>\n      <td>22134-5680</td>\n      <td>871.480.3982x412</td>\n      <td>ohermann@spencercorwin.net</td>\n      <td>1985-11-12</td>\n    </tr>\n    <tr>\n      <th>25</th>\n      <td>Maverick</td>\n      <td>Purdy</td>\n      <td>12722 Deidre Bypass Apt. 900</td>\n      <td>Joellemouth</td>\n      <td>Mississippi</td>\n      <td>77674</td>\n      <td>335-017-7162x4106</td>\n      <td>pkris@yahoo.com</td>\n      <td>Reichert-Bahringer</td>\n      <td>74466 Arianna Neck</td>\n      <td>Laurancebury</td>\n      <td>New Hampshire</td>\n      <td>17564</td>\n      <td>314.172.2089</td>\n      <td>schumm.gabriela@jonesledner.net</td>\n      <td>06/18/1986</td>\n    </tr>\n    <tr>\n      <th>26</th>\n      <td>Macey</td>\n      <td>Rutherford</td>\n      <td>204 Tawanna Viaduct Suite 395</td>\n      <td>North Carlosborough</td>\n      <td>Texas</td>\n      <td>61741</td>\n      <td>267.921.6251x044</td>\n      <td>grant.jules@gmail.com</td>\n      <td>Corwin-Lockman</td>\n      <td>555 Jacobi Landing</td>\n      <td>Port Brooks</td>\n      <td>Arkansas</td>\n      <td>69033</td>\n      <td>009-599-0417x500</td>\n      <td>leeroy.walter@schaden.com</td>\n      <td>1974-08-30</td>\n    </tr>\n    <tr>\n      <th>27</th>\n      <td>Marilynn</td>\n      <td>Wiza</td>\n      <td>94523 Bode Passage</td>\n      <td>Tyquanbury</td>\n      <td>Rhode Island</td>\n      <td>39381</td>\n      <td>292-196-3431x968</td>\n      <td>johnson.linda@gmail.com</td>\n      <td>Hodkiewicz-Barton</td>\n      <td>8573 Noreen Rapid Suite 339</td>\n      <td>South Kassie</td>\n      <td>Nevada</td>\n      <td>54936-4309</td>\n      <td>059-612-4192</td>\n      <td>anice.weimann@walter.com</td>\n      <td>2014-08-13</td>\n    </tr>\n    <tr>\n      <th>28</th>\n      <td>Darrick</td>\n      <td>Lakin</td>\n      <td>354 Pricilla Motorway Suite 140</td>\n      <td>Kittyhaven</td>\n      <td>Alaska</td>\n      <td>93601-8076</td>\n      <td>(365)490-8351x1966</td>\n      <td>trantow.brittnay@hotmail.com</td>\n      <td>Barrows PLC</td>\n      <td>461 Kirstin Neck Suite 868</td>\n      <td>Port Nicola</td>\n      <td>New Jersey</td>\n      <td>33017</td>\n      <td>(868)073-8055x069</td>\n      <td>connelly.arvid@beattyankunding.com</td>\n      <td>2002-08-01</td>\n    </tr>\n    <tr>\n      <th>30</th>\n      <td>Braiden</td>\n      <td>Orn</td>\n      <td>20794 Birdella Cape</td>\n      <td>Guadalupefurt</td>\n      <td>Virginia</td>\n      <td>15258</td>\n      <td>1-184-989-1024x8406</td>\n      <td>wunsch.zackary@gmail.com</td>\n      <td>Murazik-Klocko</td>\n      <td>53588 Feeney Divide</td>\n      <td>Port Lempiborough</td>\n      <td>South Dakota</td>\n      <td>99988</td>\n      <td>(336)869-2766x042</td>\n      <td>alonzo.dibbert@mayertsatterfield.com</td>\n      <td>2013-08-07 08:12:54</td>\n    </tr>\n    <tr>\n      <th>32</th>\n      <td>Lucina</td>\n      <td>Stanton</td>\n      <td>25687 Glover Track</td>\n      <td>Jewessland</td>\n      <td>Missouri</td>\n      <td>54041</td>\n      <td>810.396.1483x2571</td>\n      <td>cary.huels@yahoo.com</td>\n      <td>Nienow-Sipes</td>\n      <td>740 Borer Vista</td>\n      <td>Schimmeltown</td>\n      <td>Mississippi</td>\n      <td>48537-0013</td>\n      <td>240.200.7625</td>\n      <td>rodriguez.effa@abbott.com</td>\n      <td>1996-05-03</td>\n    </tr>\n    <tr>\n      <th>33</th>\n      <td>Georgeann</td>\n      <td>Franecki</td>\n      <td>0427 Lexis Harbor Suite 578</td>\n      <td>Port Tasiafort</td>\n      <td>Utah</td>\n      <td>22109</td>\n      <td>567.721.6920x7127</td>\n      <td>dach.juluis@yahoo.com</td>\n      <td>Stamm-Corwin</td>\n      <td>548 Lehner Mountain</td>\n      <td>Lake Stone</td>\n      <td>Connecticut</td>\n      <td>70048</td>\n      <td>090-313-3081x116</td>\n      <td>grant.lara@corwin.com</td>\n      <td>07/05/2010</td>\n    </tr>\n    <tr>\n      <th>37</th>\n      <td>Jerri</td>\n      <td>Klein</td>\n      <td>861 Lynch Mews</td>\n      <td>Dovetown</td>\n      <td>North Dakota</td>\n      <td>62966-2596</td>\n      <td>129-097-7617x8297</td>\n      <td>mwillms@yahoo.com</td>\n      <td>Berge Inc</td>\n      <td>2138 Carmella Mountains</td>\n      <td>South Eligeside</td>\n      <td>Missouri</td>\n      <td>54580</td>\n      <td>810.715.2139</td>\n      <td>candy42@sipes.info</td>\n      <td>09/07/2001</td>\n    </tr>\n    <tr>\n      <th>38</th>\n      <td>Danyell</td>\n      <td>Rogahn</td>\n      <td>40467 Gaston Park Apt. 590</td>\n      <td>North Jamey</td>\n      <td>New Jersey</td>\n      <td>00345-1411</td>\n      <td>+01(9)6029374309</td>\n      <td>hahn.sofia@hotmail.com</td>\n      <td>Langworth-Hintz</td>\n      <td>13729 Eula Mount</td>\n      <td>McCulloughshire</td>\n      <td>North Dakota</td>\n      <td>36203-0817</td>\n      <td>417-385-2823x785</td>\n      <td>malia16@hessel.com</td>\n      <td>10/04/1970</td>\n    </tr>\n    <tr>\n      <th>41</th>\n      <td>Raven</td>\n      <td>Ebert</td>\n      <td>5049 Beier Island Apt. 959</td>\n      <td>Kilbackshire</td>\n      <td>West Virginia</td>\n      <td>27237-2029</td>\n      <td>1-734-031-7070x39183</td>\n      <td>zachariah17@yahoo.com</td>\n      <td>Witting-Blick</td>\n      <td>356 Huels Union</td>\n      <td>West Amare</td>\n      <td>Washington</td>\n      <td>82780</td>\n      <td>545.113.8412</td>\n      <td>danna.schiller@turcotte.net</td>\n      <td>10/15/1991</td>\n    </tr>\n    <tr>\n      <th>45</th>\n      <td>Orra</td>\n      <td>Blick</td>\n      <td>1749 Treutel Ways Apt. 400</td>\n      <td>Maritachester</td>\n      <td>West Virginia</td>\n      <td>21307</td>\n      <td>1-961-909-2105</td>\n      <td>von.petra@hotmail.com</td>\n      <td>Murphy-Berge</td>\n      <td>38763 Iver Junction Suite 576</td>\n      <td>North Keisha</td>\n      <td>Louisiana</td>\n      <td>96948-0751</td>\n      <td>735-912-8187x7497</td>\n      <td>waelchi.shelby@cormiertrantow.net</td>\n      <td>03/23/1992</td>\n    </tr>\n    <tr>\n      <th>47</th>\n      <td>Hester</td>\n      <td>Lehner</td>\n      <td>200 Henery Motorway</td>\n      <td>Bergebury</td>\n      <td>Kansas</td>\n      <td>28601-4961</td>\n      <td>127-873-1321x25586</td>\n      <td>leannon.jazlyn@gmail.com</td>\n      <td>Schroeder Ltd</td>\n      <td>354 Pagac Causeway Suite 349</td>\n      <td>Quigleystad</td>\n      <td>Pennsylvania</td>\n      <td>54112-9867</td>\n      <td>102.898.5233x92382</td>\n      <td>botsford.logan@bednarweissnat.biz</td>\n      <td>1979-06-20 21:03:11</td>\n    </tr>\n    <tr>\n      <th>49</th>\n      <td>Bridger</td>\n      <td>Cormier</td>\n      <td>289 Katlyn Spurs</td>\n      <td>Port Karlee</td>\n      <td>Florida</td>\n      <td>98190-1095</td>\n      <td>(635)032-8847x7451</td>\n      <td>sinda79@yahoo.com</td>\n      <td>Mohr and Sons</td>\n      <td>29420 Ebba Harbor</td>\n      <td>Lake Jeanmarie</td>\n      <td>Louisiana</td>\n      <td>84866-4607</td>\n      <td>(415)754-8547x442</td>\n      <td>eichmann.felicity@corkery.com</td>\n      <td>2007-11-27 18:21:13</td>\n    </tr>\n    <tr>\n      <th>50</th>\n      <td>Sylvester</td>\n      <td>Frami</td>\n      <td>85015 Lubowitz Lake Suite 158</td>\n      <td>South Rainahaven</td>\n      <td>Connecticut</td>\n      <td>31969-8294</td>\n      <td>(386)355-4939x668</td>\n      <td>fklocko@hotmail.com</td>\n      <td>Runolfsson LLC</td>\n      <td>9554 Kihn Path Suite 818</td>\n      <td>North Lemonchester</td>\n      <td>Massachusetts</td>\n      <td>31068</td>\n      <td>(058)417-2497x746</td>\n      <td>arodriguez@block.biz</td>\n      <td>1978-04-27 15:58:39</td>\n    </tr>\n    <tr>\n      <th>51</th>\n      <td>Celina</td>\n      <td>Jaskolski</td>\n      <td>0423 Batz Causeway Suite 226</td>\n      <td>Hahnton</td>\n      <td>Idaho</td>\n      <td>56178-0335</td>\n      <td>056.639.0919</td>\n      <td>yundt.nikolas@hotmail.com</td>\n      <td>Rice Group</td>\n      <td>930 Bergnaum Parkway</td>\n      <td>Kylerport</td>\n      <td>Ohio</td>\n      <td>77767-6116</td>\n      <td>(017)873-9165</td>\n      <td>feeney.gertha@jakubowski.org</td>\n      <td>10/29/1981</td>\n    </tr>\n    <tr>\n      <th>53</th>\n      <td>Armstead</td>\n      <td>Schulist</td>\n      <td>80460 Kreiger Stravenue</td>\n      <td>East Sanjuanamouth</td>\n      <td>Kansas</td>\n      <td>00103-0491</td>\n      <td>+52(8)6713748523</td>\n      <td>ddare@hotmail.com</td>\n      <td>Schumm-Quigley</td>\n      <td>8323 Wiegand Cliff Apt. 050</td>\n      <td>Rosaleeport</td>\n      <td>North Dakota</td>\n      <td>42529-7516</td>\n      <td>1-526-215-9117x784</td>\n      <td>rogahn.allyssa@cartwrightdare.com</td>\n      <td>1970-05-09</td>\n    </tr>\n    <tr>\n      <th>57</th>\n      <td>London</td>\n      <td>Hammes</td>\n      <td>318 Connelly Fords Apt. 361</td>\n      <td>New Franz</td>\n      <td>Connecticut</td>\n      <td>11491-4604</td>\n      <td>07612860813</td>\n      <td>mfeeney@gmail.com</td>\n      <td>Lehner LLC</td>\n      <td>95708 Howe Junctions Apt. 521</td>\n      <td>New Miya</td>\n      <td>Kentucky</td>\n      <td>63063-1267</td>\n      <td>05266401668</td>\n      <td>arnold97@wolff.net</td>\n      <td>1992-07-26 02:19:02</td>\n    </tr>\n    <tr>\n      <th>58</th>\n      <td>Osvaldo</td>\n      <td>Wisozk</td>\n      <td>170 Wisoky River</td>\n      <td>Chasitystad</td>\n      <td>Vermont</td>\n      <td>82681</td>\n      <td>1-564-603-5784x366</td>\n      <td>birt.dach@hotmail.com</td>\n      <td>Emmerich PLC</td>\n      <td>124 Anderson Tunnel</td>\n      <td>New Redmondstad</td>\n      <td>Maine</td>\n      <td>60355</td>\n      <td>111-740-3401x434</td>\n      <td>strosin.marco@corwinmraz.com</td>\n      <td>1977-06-28 10:27:21</td>\n    </tr>\n    <tr>\n      <th>59</th>\n      <td>Lavelle</td>\n      <td>Homenick</td>\n      <td>11205 Jean Bridge</td>\n      <td>New Elissaberg</td>\n      <td>Idaho</td>\n      <td>88311</td>\n      <td>05267585753</td>\n      <td>ikub@hotmail.com</td>\n      <td>Collier-Corwin</td>\n      <td>38028 Lakin Isle</td>\n      <td>Dooleyport</td>\n      <td>Ohio</td>\n      <td>29109-1265</td>\n      <td>536.537.2854</td>\n      <td>kemmer.dorinda@schmidtleffler.com</td>\n      <td>1986-02-21</td>\n    </tr>\n    <tr>\n      <th>62</th>\n      <td>Kaaren</td>\n      <td>Herman</td>\n      <td>2224 Koelpin Estate</td>\n      <td>Tyrekburgh</td>\n      <td>Wyoming</td>\n      <td>55091-9853</td>\n      <td>(711)975-8232</td>\n      <td>llebsack@hotmail.com</td>\n      <td>Hegmann Group</td>\n      <td>8022 Lynch Shoals Suite 829</td>\n      <td>New Kristynmouth</td>\n      <td>Texas</td>\n      <td>31477-7294</td>\n      <td>+04(8)2591586061</td>\n      <td>nigel.steuber@kemmer.com</td>\n      <td>09/15/2000</td>\n    </tr>\n    <tr>\n      <th>63</th>\n      <td>Antony</td>\n      <td>Quigley</td>\n      <td>22181 Stefani Key Apt. 893</td>\n      <td>Lake Shawntechester</td>\n      <td>Wisconsin</td>\n      <td>15040</td>\n      <td>323.403.7401x796</td>\n      <td>zwiza@yahoo.com</td>\n      <td>Gleason-Ondricka</td>\n      <td>7738 Kassie Islands Apt. 154</td>\n      <td>Port Wenzel</td>\n      <td>Tennessee</td>\n      <td>05844-4186</td>\n      <td>(381)160-9911x15514</td>\n      <td>vicente88@satterfield.com</td>\n      <td>07/21/1987</td>\n    </tr>\n    <tr>\n      <th>64</th>\n      <td>Mozell</td>\n      <td>Fay</td>\n      <td>013 Cailyn Tunnel Apt. 252</td>\n      <td>Franeckiland</td>\n      <td>Virginia</td>\n      <td>11772-7169</td>\n      <td>1-827-058-8398x6544</td>\n      <td>noel12@gmail.com</td>\n      <td>Homenick and Sons</td>\n      <td>735 Kilback Harbor Apt. 206</td>\n      <td>Port Paraleeberg</td>\n      <td>Georgia</td>\n      <td>55295-5840</td>\n      <td>553-201-2350x59565</td>\n      <td>beer.ashlee@okunevaeffertz.info</td>\n      <td>1977-09-26</td>\n    </tr>\n    <tr>\n      <th>65</th>\n      <td>Heber</td>\n      <td>Weimann</td>\n      <td>6419 Trantow Flats</td>\n      <td>West Anaisstad</td>\n      <td>California</td>\n      <td>11070-9852</td>\n      <td>555.445.8971x163</td>\n      <td>bishop54@hotmail.com</td>\n      <td>Roob and Sons</td>\n      <td>962 Kathrine Pike Apt. 083</td>\n      <td>Port Rivermouth</td>\n      <td>Idaho</td>\n      <td>09076</td>\n      <td>(213)992-4145x37215</td>\n      <td>kfahey@heaneyheidenreich.com</td>\n      <td>1999-11-26</td>\n    </tr>\n    <tr>\n      <th>66</th>\n      <td>Bobbye</td>\n      <td>Nikolaus</td>\n      <td>798 McKenzie Lodge</td>\n      <td>West Manson</td>\n      <td>Tennessee</td>\n      <td>73860</td>\n      <td>07401671174</td>\n      <td>sade25@hotmail.com</td>\n      <td>Renner Inc</td>\n      <td>05538 Niki Views</td>\n      <td>New Aric</td>\n      <td>Ohio</td>\n      <td>89065-8855</td>\n      <td>1-991-653-5705x95477</td>\n      <td>nayeli.sawayn@jaskolski.com</td>\n      <td>1995-03-04</td>\n    </tr>\n    <tr>\n      <th>67</th>\n      <td>Mardell</td>\n      <td>Waelchi</td>\n      <td>01896 Cummerata Street Apt. 989</td>\n      <td>East Logantown</td>\n      <td>New Mexico</td>\n      <td>64097</td>\n      <td>(421)334-3662x76561</td>\n      <td>fadel.stanford@gmail.com</td>\n      <td>Kilback and Sons</td>\n      <td>0542 Etter Walk</td>\n      <td>Dooleytown</td>\n      <td>Georgia</td>\n      <td>62314-6827</td>\n      <td>881.369.1832</td>\n      <td>leannon.jule@upton.info</td>\n      <td>12/01/1996</td>\n    </tr>\n    <tr>\n      <th>68</th>\n      <td>Fremont</td>\n      <td>Watsica</td>\n      <td>0990 Cedrick Place</td>\n      <td>Hosiefurt</td>\n      <td>Maine</td>\n      <td>37947</td>\n      <td>(659)159-0689</td>\n      <td>mcclure.kadence@gmail.com</td>\n      <td>Senger-Wintheiser</td>\n      <td>20772 Walsh Summit Suite 244</td>\n      <td>Ahmadtown</td>\n      <td>Washington</td>\n      <td>69287</td>\n      <td>+84(6)0483052301</td>\n      <td>abshire.moshe@leannon.com</td>\n      <td>1980-04-29</td>\n    </tr>\n    <tr>\n      <th>73</th>\n      <td>Bria</td>\n      <td>Padberg</td>\n      <td>67874 Aja Station Suite 502</td>\n      <td>West Blossom</td>\n      <td>Hawaii</td>\n      <td>55372</td>\n      <td>(640)290-0249x974</td>\n      <td>bfranecki@gmail.com</td>\n      <td>Anderson-Kessler</td>\n      <td>030 Oberbrunner Camp</td>\n      <td>North Reece</td>\n      <td>North Carolina</td>\n      <td>04794</td>\n      <td>(978)029-4734x3684</td>\n      <td>ukreiger@dickens.net</td>\n      <td>05/28/1976</td>\n    </tr>\n    <tr>\n      <th>78</th>\n      <td>Hurley</td>\n      <td>Ward</td>\n      <td>99542 Von Creek</td>\n      <td>Kingstonstad</td>\n      <td>Montana</td>\n      <td>03115</td>\n      <td>+17(3)9233121597</td>\n      <td>emmerich.christy@gmail.com</td>\n      <td>Lakin-Emmerich</td>\n      <td>231 Beahan Manor Suite 196</td>\n      <td>Beaumouth</td>\n      <td>Oklahoma</td>\n      <td>96406</td>\n      <td>1-171-256-2471x2530</td>\n      <td>cremin.melanie@wisozktoy.com</td>\n      <td>09/24/2007</td>\n    </tr>\n    <tr>\n      <th>79</th>\n      <td>Daphne</td>\n      <td>Harris</td>\n      <td>22683 Phil Skyway</td>\n      <td>South Lelandshire</td>\n      <td>South Dakota</td>\n      <td>68819-7808</td>\n      <td>1-444-871-5539x6311</td>\n      <td>jdare@yahoo.com</td>\n      <td>Hahn-O'Reilly</td>\n      <td>82092 Turner Valley</td>\n      <td>New Elamton</td>\n      <td>Connecticut</td>\n      <td>65705</td>\n      <td>(275)862-4612</td>\n      <td>fbode@ernser.com</td>\n      <td>2009-08-18 19:43:49</td>\n    </tr>\n    <tr>\n      <th>83</th>\n      <td>Malaki</td>\n      <td>Haag</td>\n      <td>240 Cydney Branch</td>\n      <td>Toybury</td>\n      <td>Connecticut</td>\n      <td>39987</td>\n      <td>862.993.7617x214</td>\n      <td>kirstin02@hotmail.com</td>\n      <td>Jacobson-Turner</td>\n      <td>338 Mikhail Dale</td>\n      <td>Parkerhaven</td>\n      <td>Nevada</td>\n      <td>85874</td>\n      <td>(010)069-5336x384</td>\n      <td>weimann.maida@cormier.com</td>\n      <td>2005-08-23 17:52:57</td>\n    </tr>\n    <tr>\n      <th>84</th>\n      <td>Veta</td>\n      <td>Grady</td>\n      <td>9783 Jannie Cape Apt. 708</td>\n      <td>Hirtheburgh</td>\n      <td>Maine</td>\n      <td>48084</td>\n      <td>1-649-341-2704x12890</td>\n      <td>henrietta55@gmail.com</td>\n      <td>Schinner-Cummerata</td>\n      <td>81950 Paris Ramp Suite 939</td>\n      <td>New Donell</td>\n      <td>Oklahoma</td>\n      <td>22117</td>\n      <td>676-453-2958</td>\n      <td>odoyle@schultz.net</td>\n      <td>1978-04-02 13:12:28</td>\n    </tr>\n    <tr>\n      <th>86</th>\n      <td>Caryn</td>\n      <td>Wyman</td>\n      <td>0982 Rath Hollow Apt. 894</td>\n      <td>Schummfort</td>\n      <td>South Dakota</td>\n      <td>08458-1545</td>\n      <td>199.935.1826</td>\n      <td>nelly.farrell@gmail.com</td>\n      <td>Boehm-Nolan</td>\n      <td>8507 Garland Prairie Suite 212</td>\n      <td>West Francies</td>\n      <td>Arkansas</td>\n      <td>86640</td>\n      <td>1-502-062-7378x9617</td>\n      <td>arkie.kertzmann@wolf.com</td>\n      <td>2015-02-04 08:13:57</td>\n    </tr>\n    <tr>\n      <th>88</th>\n      <td>Lorelei</td>\n      <td>Kiehn</td>\n      <td>047 Marks Island Suite 922</td>\n      <td>Lednerburgh</td>\n      <td>Maine</td>\n      <td>04883</td>\n      <td>1-095-375-5902</td>\n      <td>jaden92@hotmail.com</td>\n      <td>Nitzsche LLC</td>\n      <td>565 Marry Pine Suite 236</td>\n      <td>Leuschkeborough</td>\n      <td>Indiana</td>\n      <td>75023</td>\n      <td>1-195-789-5038</td>\n      <td>juliet83@runolfsson.com</td>\n      <td>11/14/1989</td>\n    </tr>\n    <tr>\n      <th>89</th>\n      <td>Hildegard</td>\n      <td>Watsica</td>\n      <td>509 Jaskolski Station Suite 213</td>\n      <td>Kassandrafurt</td>\n      <td>Illinois</td>\n      <td>27564-6047</td>\n      <td>01261907757</td>\n      <td>willms.bradley@gmail.com</td>\n      <td>Jacobson Group</td>\n      <td>9566 Bernadette Streets Apt. 246</td>\n      <td>West Johnathanview</td>\n      <td>Wisconsin</td>\n      <td>59435</td>\n      <td>999-449-0625</td>\n      <td>chelsie.emard@marquardtgreenholt.org</td>\n      <td>12/18/1977</td>\n    </tr>\n    <tr>\n      <th>90</th>\n      <td>Spenser</td>\n      <td>Kerluke</td>\n      <td>157 Mann Isle Apt. 875</td>\n      <td>North Alver</td>\n      <td>Colorado</td>\n      <td>35254</td>\n      <td>150.128.5598x5072</td>\n      <td>jkemmer@yahoo.com</td>\n      <td>Gleichner-Jones</td>\n      <td>2825 Klein Harbors</td>\n      <td>Augustineshire</td>\n      <td>Vermont</td>\n      <td>54563</td>\n      <td>577-615-1102</td>\n      <td>ebert.abdul@toy.com</td>\n      <td>1984-02-06</td>\n    </tr>\n  </tbody>\n</table>\n</div>"
     },
     "execution_count": 74,
     "metadata": {},
     "output_type": "execute_result"
    }
   ],
   "source": [
    "#pearson_Data = pearson_Data.drop(['name'], axis=1)\n",
    "pearson_Data = pearson_Data[['First Name','Last Name','address','city','state','zip','phone','email','work','work address','work city','work state', 'work zipcode', 'work phone', 'work email','account created on']]\n",
    "print(pearson_Data.shape)\n",
    "pearson_Data.head(50)\n"
   ],
   "metadata": {
    "collapsed": false,
    "ExecuteTime": {
     "end_time": "2023-10-05T20:28:10.422701800Z",
     "start_time": "2023-10-05T20:28:10.264819900Z"
    }
   },
   "id": "55c6ce277e83eba3"
  },
  {
   "cell_type": "code",
   "execution_count": 75,
   "outputs": [
    {
     "name": "stdout",
     "output_type": "stream",
     "text": [
      "(5657, 16)\n"
     ]
    },
    {
     "data": {
      "text/plain": "    First Name   Last Name                          address  \\\n0       Deonte       Stark               278 Mueller Plains   \n1     Faustino       Boyer     70244 Skiles Falls Suite 030   \n3       Mervyn     Kreiger               376 Dorinda Stream   \n5       Daquan     Leffler      43142 Howell Ports Apt. 953   \n6         Jace  Konopelski       963 Senger Points Apt. 992   \n8       Katlin       Robel     6151 Feeney Forest Suite 872   \n11        Irva       Brown      71102 Hallie Hill Suite 295   \n15        Whit    Shanahan                 213 Brown Island   \n16        Vere     Effertz                4948 Hoppe Shores   \n17  Fitzgerald      Bednar      5272 Bosco Shoals Suite 776   \n18       Arvid        Mohr                  644 Jamel Creek   \n19       Arden        Ryan      5913 Gutmann Trail Apt. 393   \n22      Justin   Hermiston       235 Deedee Skyway Apt. 669   \n23      Anitra    Schmeler  32392 Pacocha Overpass Apt. 998   \n24     Rosalyn       Fahey      89545 O'Kon Field Suite 436   \n25    Maverick       Purdy     12722 Deidre Bypass Apt. 900   \n26       Macey  Rutherford    204 Tawanna Viaduct Suite 395   \n27    Marilynn        Wiza               94523 Bode Passage   \n28     Darrick       Lakin  354 Pricilla Motorway Suite 140   \n30     Braiden         Orn              20794 Birdella Cape   \n32      Lucina     Stanton               25687 Glover Track   \n33   Georgeann    Franecki      0427 Lexis Harbor Suite 578   \n37       Jerri       Klein                   861 Lynch Mews   \n38     Danyell      Rogahn       40467 Gaston Park Apt. 590   \n41       Raven       Ebert       5049 Beier Island Apt. 959   \n45        Orra       Blick       1749 Treutel Ways Apt. 400   \n47      Hester      Lehner              200 Henery Motorway   \n49     Bridger     Cormier                 289 Katlyn Spurs   \n50   Sylvester       Frami    85015 Lubowitz Lake Suite 158   \n51      Celina   Jaskolski     0423 Batz Causeway Suite 226   \n53    Armstead    Schulist          80460 Kreiger Stravenue   \n57      London      Hammes      318 Connelly Fords Apt. 361   \n58     Osvaldo      Wisozk                 170 Wisoky River   \n59     Lavelle    Homenick                11205 Jean Bridge   \n62      Kaaren      Herman              2224 Koelpin Estate   \n63      Antony     Quigley       22181 Stefani Key Apt. 893   \n64      Mozell         Fay       013 Cailyn Tunnel Apt. 252   \n65       Heber     Weimann               6419 Trantow Flats   \n66      Bobbye    Nikolaus               798 McKenzie Lodge   \n67     Mardell     Waelchi  01896 Cummerata Street Apt. 989   \n68     Fremont     Watsica               0990 Cedrick Place   \n73        Bria     Padberg      67874 Aja Station Suite 502   \n78      Hurley        Ward                  99542 Von Creek   \n79      Daphne      Harris                22683 Phil Skyway   \n83      Malaki        Haag                240 Cydney Branch   \n84        Veta       Grady        9783 Jannie Cape Apt. 708   \n86       Caryn       Wyman        0982 Rath Hollow Apt. 894   \n88     Lorelei       Kiehn       047 Marks Island Suite 922   \n89   Hildegard     Watsica  509 Jaskolski Station Suite 213   \n90     Spenser     Kerluke           157 Mann Isle Apt. 875   \n\n                   city           state         zip                 phone  \\\n0            North Euna         Alabama  03404-4384    (180)940-9676x4495   \n1       North Altohaven      California  01522-1310   (308)699-6239x81011   \n3          Shaniquafort  South Carolina  39347-4438          869-985-6299   \n5            West Emory     Connecticut  08086-5571          874-576-0739   \n6            Lake Fonda    North Dakota       15581    (083)182-4626x8012   \n8              Langbury        Delaware       46090         (389)982-6324   \n11         McGlynnville         Georgia  23489-3472         (280)962-2286   \n15      Lake Dorianland   Massachusetts       64916          521-889-8920   \n16          Taniyahbury        Maryland       34427    1-047-570-1897x480   \n17          Labadieberg     Mississippi       66799         (835)065-4191   \n18       New Melvynbury        Nebraska       56470         (529)583-2566   \n19         Reinoborough        Colorado       05571          012.486.9436   \n22           Jaidyntown         Wyoming       75649           00629957247   \n23          Murazikfurt      California  59627-7792        1-857-529-8637   \n24   South Brittnyshire      New Mexico  35208-5889        1-255-927-2069   \n25          Joellemouth     Mississippi       77674     335-017-7162x4106   \n26  North Carlosborough           Texas       61741      267.921.6251x044   \n27           Tyquanbury    Rhode Island       39381      292-196-3431x968   \n28           Kittyhaven          Alaska  93601-8076    (365)490-8351x1966   \n30        Guadalupefurt        Virginia       15258   1-184-989-1024x8406   \n32           Jewessland        Missouri       54041     810.396.1483x2571   \n33       Port Tasiafort            Utah       22109     567.721.6920x7127   \n37             Dovetown    North Dakota  62966-2596     129-097-7617x8297   \n38          North Jamey      New Jersey  00345-1411      +01(9)6029374309   \n41         Kilbackshire   West Virginia  27237-2029  1-734-031-7070x39183   \n45        Maritachester   West Virginia       21307        1-961-909-2105   \n47            Bergebury          Kansas  28601-4961    127-873-1321x25586   \n49          Port Karlee         Florida  98190-1095    (635)032-8847x7451   \n50     South Rainahaven     Connecticut  31969-8294     (386)355-4939x668   \n51              Hahnton           Idaho  56178-0335          056.639.0919   \n53   East Sanjuanamouth          Kansas  00103-0491      +52(8)6713748523   \n57            New Franz     Connecticut  11491-4604           07612860813   \n58          Chasitystad         Vermont       82681    1-564-603-5784x366   \n59       New Elissaberg           Idaho       88311           05267585753   \n62           Tyrekburgh         Wyoming  55091-9853         (711)975-8232   \n63  Lake Shawntechester       Wisconsin       15040      323.403.7401x796   \n64         Franeckiland        Virginia  11772-7169   1-827-058-8398x6544   \n65       West Anaisstad      California  11070-9852      555.445.8971x163   \n66          West Manson       Tennessee       73860           07401671174   \n67       East Logantown      New Mexico       64097   (421)334-3662x76561   \n68            Hosiefurt           Maine       37947         (659)159-0689   \n73         West Blossom          Hawaii       55372     (640)290-0249x974   \n78         Kingstonstad         Montana       03115      +17(3)9233121597   \n79    South Lelandshire    South Dakota  68819-7808   1-444-871-5539x6311   \n83              Toybury     Connecticut       39987      862.993.7617x214   \n84          Hirtheburgh           Maine       48084  1-649-341-2704x12890   \n86           Schummfort    South Dakota  08458-1545          199.935.1826   \n88          Lednerburgh           Maine       04883        1-095-375-5902   \n89        Kassandrafurt        Illinois  27564-6047           01261907757   \n90          North Alver        Colorado       35254     150.128.5598x5072   \n\n                            email                work  \\\n0            shanna73@hotmail.com          Hahn-Mayer   \n1             ferrell81@gmail.com       Buckridge Inc   \n3   emmerich.griselda@hotmail.com         Witting PLC   \n5         natosha.kutch@yahoo.com    Christiansen Ltd   \n6    langosh.mathilde@hotmail.com         Glover-Howe   \n8          herman.paris@gmail.com          Murray Inc   \n11      senger.marnie@hotmail.com    Leuschke-Schmitt   \n15             inga79@hotmail.com       Dickinson Inc   \n16        lucindy.kuhic@gmail.com     Bode-Vandervort   \n17       blaise.jenkins@yahoo.com       Prohaska-Roob   \n18     jewess.alfredo@hotmail.com          Heller Ltd   \n19       bartell.collin@yahoo.com      Fisher-Hegmann   \n22          frami.arlyn@yahoo.com     Schaden-Schmidt   \n23   gislason.suzanna@hotmail.com         Douglas Inc   \n24         jeryl.parker@gmail.com           Kiehn LLC   \n25                pkris@yahoo.com  Reichert-Bahringer   \n26          grant.jules@gmail.com      Corwin-Lockman   \n27        johnson.linda@gmail.com   Hodkiewicz-Barton   \n28   trantow.brittnay@hotmail.com         Barrows PLC   \n30       wunsch.zackary@gmail.com      Murazik-Klocko   \n32           cary.huels@yahoo.com        Nienow-Sipes   \n33          dach.juluis@yahoo.com        Stamm-Corwin   \n37              mwillms@yahoo.com           Berge Inc   \n38         hahn.sofia@hotmail.com     Langworth-Hintz   \n41          zachariah17@yahoo.com       Witting-Blick   \n45          von.petra@hotmail.com        Murphy-Berge   \n47       leannon.jazlyn@gmail.com       Schroeder Ltd   \n49              sinda79@yahoo.com       Mohr and Sons   \n50            fklocko@hotmail.com      Runolfsson LLC   \n51      yundt.nikolas@hotmail.com          Rice Group   \n53              ddare@hotmail.com      Schumm-Quigley   \n57              mfeeney@gmail.com          Lehner LLC   \n58          birt.dach@hotmail.com        Emmerich PLC   \n59               ikub@hotmail.com      Collier-Corwin   \n62           llebsack@hotmail.com       Hegmann Group   \n63                zwiza@yahoo.com    Gleason-Ondricka   \n64               noel12@gmail.com   Homenick and Sons   \n65           bishop54@hotmail.com       Roob and Sons   \n66             sade25@hotmail.com          Renner Inc   \n67       fadel.stanford@gmail.com    Kilback and Sons   \n68      mcclure.kadence@gmail.com   Senger-Wintheiser   \n73            bfranecki@gmail.com    Anderson-Kessler   \n78     emmerich.christy@gmail.com      Lakin-Emmerich   \n79                jdare@yahoo.com       Hahn-O'Reilly   \n83          kirstin02@hotmail.com     Jacobson-Turner   \n84          henrietta55@gmail.com  Schinner-Cummerata   \n86        nelly.farrell@gmail.com         Boehm-Nolan   \n88            jaden92@hotmail.com        Nitzsche LLC   \n89       willms.bradley@gmail.com      Jacobson Group   \n90              jkemmer@yahoo.com     Gleichner-Jones   \n\n                        work address           work city      work state  \\\n0     8177 Weber Throughway Apt. 341            Jaronton           Maine   \n1                 236 Kessler Center      New Gavynshire        Missouri   \n3                  521 Kemmer Manors            Nerytown        Kentucky   \n5      3136 Jered Junction Suite 993         West Mallie   New Hampshire   \n6               87986 Harvey Islands       South Zackary        Kentucky   \n8                  8486 Felipa Forks           Jerdetown         Montana   \n11               443 Ephraim Harbors           Haleyland         Alabama   \n15               7129 Salina Station           Lake Lige       Louisiana   \n16                9497 Botsford Isle            Port Nan          Alaska   \n17    8113 Wiegand Harbors Suite 493       Cedricborough        Michigan   \n18               3386 Koelpin Plains      Meghannborough           Texas   \n19               9955 Patrice Shoals         Larkinshire    Rhode Island   \n22          6212 Dusty View Apt. 908        Kandiceville        Oklahoma   \n23              968 McLaughlin Brook   West Hymenborough          Nevada   \n24                  8108 Jaylan Mill         Mullermouth     Mississippi   \n25                74466 Arianna Neck        Laurancebury   New Hampshire   \n26                555 Jacobi Landing         Port Brooks        Arkansas   \n27       8573 Noreen Rapid Suite 339        South Kassie          Nevada   \n28        461 Kirstin Neck Suite 868         Port Nicola      New Jersey   \n30               53588 Feeney Divide   Port Lempiborough    South Dakota   \n32                   740 Borer Vista        Schimmeltown     Mississippi   \n33               548 Lehner Mountain          Lake Stone     Connecticut   \n37           2138 Carmella Mountains     South Eligeside        Missouri   \n38                  13729 Eula Mount     McCulloughshire    North Dakota   \n41                   356 Huels Union          West Amare      Washington   \n45     38763 Iver Junction Suite 576        North Keisha       Louisiana   \n47      354 Pagac Causeway Suite 349         Quigleystad    Pennsylvania   \n49                 29420 Ebba Harbor      Lake Jeanmarie       Louisiana   \n50          9554 Kihn Path Suite 818  North Lemonchester   Massachusetts   \n51              930 Bergnaum Parkway           Kylerport            Ohio   \n53       8323 Wiegand Cliff Apt. 050         Rosaleeport    North Dakota   \n57     95708 Howe Junctions Apt. 521            New Miya        Kentucky   \n58               124 Anderson Tunnel     New Redmondstad           Maine   \n59                  38028 Lakin Isle          Dooleyport            Ohio   \n62       8022 Lynch Shoals Suite 829    New Kristynmouth           Texas   \n63      7738 Kassie Islands Apt. 154         Port Wenzel       Tennessee   \n64       735 Kilback Harbor Apt. 206    Port Paraleeberg         Georgia   \n65        962 Kathrine Pike Apt. 083     Port Rivermouth           Idaho   \n66                  05538 Niki Views            New Aric            Ohio   \n67                   0542 Etter Walk          Dooleytown         Georgia   \n68      20772 Walsh Summit Suite 244           Ahmadtown      Washington   \n73              030 Oberbrunner Camp         North Reece  North Carolina   \n78        231 Beahan Manor Suite 196           Beaumouth        Oklahoma   \n79               82092 Turner Valley         New Elamton     Connecticut   \n83                  338 Mikhail Dale         Parkerhaven          Nevada   \n84        81950 Paris Ramp Suite 939          New Donell        Oklahoma   \n86    8507 Garland Prairie Suite 212       West Francies        Arkansas   \n88          565 Marry Pine Suite 236     Leuschkeborough         Indiana   \n89  9566 Bernadette Streets Apt. 246  West Johnathanview       Wisconsin   \n90                2825 Klein Harbors      Augustineshire         Vermont   \n\n   work zipcode            work phone                            work email  \\\n0    51589-1424           01240240340             heller.kirstin@glover.com   \n1    52234-6972     (486)896-6855x446              esta.dicki@bechtelar.com   \n3         68774         (212)169-8190                   greyson39@purdy.com   \n5    40778-7891      215.605.7824x844            anderson.gifford@nader.com   \n6    75232-9391         (270)125-2639               kassulke.fate@hills.com   \n8         42616    848.167.8691x84803           katherin61@bartellkutch.com   \n11   99964-2124      155-817-9065x251                    jerrad15@upton.com   \n15   99068-5399         (824)000-3146                 vmann@klockobruen.com   \n16   72083-8368     362.712.8612x5533                      salena07@kub.com   \n17        83592      299-038-2068x803            gottlieb.nila@rolfson.info   \n18        14718          286-794-9474                quinton44@eichmann.biz   \n19        65071   (657)623-1115x21681             cathrine.schmitt@funk.com   \n22        25522      +62(7)2640575842           kassandra72@schamberger.com   \n23        85868         (425)065-6143            donnell.monahan@paucek.org   \n24   22134-5680      871.480.3982x412            ohermann@spencercorwin.net   \n25        17564          314.172.2089       schumm.gabriela@jonesledner.net   \n26        69033      009-599-0417x500             leeroy.walter@schaden.com   \n27   54936-4309          059-612-4192              anice.weimann@walter.com   \n28        33017     (868)073-8055x069    connelly.arvid@beattyankunding.com   \n30        99988     (336)869-2766x042  alonzo.dibbert@mayertsatterfield.com   \n32   48537-0013          240.200.7625             rodriguez.effa@abbott.com   \n33        70048      090-313-3081x116                 grant.lara@corwin.com   \n37        54580          810.715.2139                    candy42@sipes.info   \n38   36203-0817      417-385-2823x785                    malia16@hessel.com   \n41        82780          545.113.8412           danna.schiller@turcotte.net   \n45   96948-0751     735-912-8187x7497     waelchi.shelby@cormiertrantow.net   \n47   54112-9867    102.898.5233x92382     botsford.logan@bednarweissnat.biz   \n49   84866-4607     (415)754-8547x442         eichmann.felicity@corkery.com   \n50        31068     (058)417-2497x746                  arodriguez@block.biz   \n51   77767-6116         (017)873-9165          feeney.gertha@jakubowski.org   \n53   42529-7516    1-526-215-9117x784     rogahn.allyssa@cartwrightdare.com   \n57   63063-1267           05266401668                    arnold97@wolff.net   \n58        60355      111-740-3401x434          strosin.marco@corwinmraz.com   \n59   29109-1265          536.537.2854     kemmer.dorinda@schmidtleffler.com   \n62   31477-7294      +04(8)2591586061              nigel.steuber@kemmer.com   \n63   05844-4186   (381)160-9911x15514             vicente88@satterfield.com   \n64   55295-5840    553-201-2350x59565       beer.ashlee@okunevaeffertz.info   \n65        09076   (213)992-4145x37215          kfahey@heaneyheidenreich.com   \n66   89065-8855  1-991-653-5705x95477           nayeli.sawayn@jaskolski.com   \n67   62314-6827          881.369.1832               leannon.jule@upton.info   \n68        69287      +84(6)0483052301             abshire.moshe@leannon.com   \n73        04794    (978)029-4734x3684                  ukreiger@dickens.net   \n78        96406   1-171-256-2471x2530          cremin.melanie@wisozktoy.com   \n79        65705         (275)862-4612                      fbode@ernser.com   \n83        85874     (010)069-5336x384             weimann.maida@cormier.com   \n84        22117          676-453-2958                    odoyle@schultz.net   \n86        86640   1-502-062-7378x9617              arkie.kertzmann@wolf.com   \n88        75023        1-195-789-5038               juliet83@runolfsson.com   \n89        59435          999-449-0625  chelsie.emard@marquardtgreenholt.org   \n90        54563          577-615-1102                   ebert.abdul@toy.com   \n\n     account created on  \n0   2001-09-06 06:15:24  \n1            1983-04-25  \n3   1971-04-27 14:05:06  \n5   2014-01-15 23:15:43  \n6            05/20/2004  \n8            1974-12-19  \n11  1983-04-21 12:41:18  \n15           1973-09-02  \n16           06/23/1970  \n17  2003-10-15 00:05:01  \n18  2013-10-18 11:24:56  \n19  1980-03-28 02:14:22  \n22           2003-12-29  \n23  1970-12-24 18:40:32  \n24           1985-11-12  \n25           06/18/1986  \n26           1974-08-30  \n27           2014-08-13  \n28           2002-08-01  \n30  2013-08-07 08:12:54  \n32           1996-05-03  \n33           07/05/2010  \n37           09/07/2001  \n38           10/04/1970  \n41           10/15/1991  \n45           03/23/1992  \n47  1979-06-20 21:03:11  \n49  2007-11-27 18:21:13  \n50  1978-04-27 15:58:39  \n51           10/29/1981  \n53           1970-05-09  \n57  1992-07-26 02:19:02  \n58  1977-06-28 10:27:21  \n59           1986-02-21  \n62           09/15/2000  \n63           07/21/1987  \n64           1977-09-26  \n65           1999-11-26  \n66           1995-03-04  \n67           12/01/1996  \n68           1980-04-29  \n73           05/28/1976  \n78           09/24/2007  \n79  2009-08-18 19:43:49  \n83  2005-08-23 17:52:57  \n84  1978-04-02 13:12:28  \n86  2015-02-04 08:13:57  \n88           11/14/1989  \n89           12/18/1977  \n90           1984-02-06  ",
      "text/html": "<div>\n<style scoped>\n    .dataframe tbody tr th:only-of-type {\n        vertical-align: middle;\n    }\n\n    .dataframe tbody tr th {\n        vertical-align: top;\n    }\n\n    .dataframe thead th {\n        text-align: right;\n    }\n</style>\n<table border=\"1\" class=\"dataframe\">\n  <thead>\n    <tr style=\"text-align: right;\">\n      <th></th>\n      <th>First Name</th>\n      <th>Last Name</th>\n      <th>address</th>\n      <th>city</th>\n      <th>state</th>\n      <th>zip</th>\n      <th>phone</th>\n      <th>email</th>\n      <th>work</th>\n      <th>work address</th>\n      <th>work city</th>\n      <th>work state</th>\n      <th>work zipcode</th>\n      <th>work phone</th>\n      <th>work email</th>\n      <th>account created on</th>\n    </tr>\n  </thead>\n  <tbody>\n    <tr>\n      <th>0</th>\n      <td>Deonte</td>\n      <td>Stark</td>\n      <td>278 Mueller Plains</td>\n      <td>North Euna</td>\n      <td>Alabama</td>\n      <td>03404-4384</td>\n      <td>(180)940-9676x4495</td>\n      <td>shanna73@hotmail.com</td>\n      <td>Hahn-Mayer</td>\n      <td>8177 Weber Throughway Apt. 341</td>\n      <td>Jaronton</td>\n      <td>Maine</td>\n      <td>51589-1424</td>\n      <td>01240240340</td>\n      <td>heller.kirstin@glover.com</td>\n      <td>2001-09-06 06:15:24</td>\n    </tr>\n    <tr>\n      <th>1</th>\n      <td>Faustino</td>\n      <td>Boyer</td>\n      <td>70244 Skiles Falls Suite 030</td>\n      <td>North Altohaven</td>\n      <td>California</td>\n      <td>01522-1310</td>\n      <td>(308)699-6239x81011</td>\n      <td>ferrell81@gmail.com</td>\n      <td>Buckridge Inc</td>\n      <td>236 Kessler Center</td>\n      <td>New Gavynshire</td>\n      <td>Missouri</td>\n      <td>52234-6972</td>\n      <td>(486)896-6855x446</td>\n      <td>esta.dicki@bechtelar.com</td>\n      <td>1983-04-25</td>\n    </tr>\n    <tr>\n      <th>3</th>\n      <td>Mervyn</td>\n      <td>Kreiger</td>\n      <td>376 Dorinda Stream</td>\n      <td>Shaniquafort</td>\n      <td>South Carolina</td>\n      <td>39347-4438</td>\n      <td>869-985-6299</td>\n      <td>emmerich.griselda@hotmail.com</td>\n      <td>Witting PLC</td>\n      <td>521 Kemmer Manors</td>\n      <td>Nerytown</td>\n      <td>Kentucky</td>\n      <td>68774</td>\n      <td>(212)169-8190</td>\n      <td>greyson39@purdy.com</td>\n      <td>1971-04-27 14:05:06</td>\n    </tr>\n    <tr>\n      <th>5</th>\n      <td>Daquan</td>\n      <td>Leffler</td>\n      <td>43142 Howell Ports Apt. 953</td>\n      <td>West Emory</td>\n      <td>Connecticut</td>\n      <td>08086-5571</td>\n      <td>874-576-0739</td>\n      <td>natosha.kutch@yahoo.com</td>\n      <td>Christiansen Ltd</td>\n      <td>3136 Jered Junction Suite 993</td>\n      <td>West Mallie</td>\n      <td>New Hampshire</td>\n      <td>40778-7891</td>\n      <td>215.605.7824x844</td>\n      <td>anderson.gifford@nader.com</td>\n      <td>2014-01-15 23:15:43</td>\n    </tr>\n    <tr>\n      <th>6</th>\n      <td>Jace</td>\n      <td>Konopelski</td>\n      <td>963 Senger Points Apt. 992</td>\n      <td>Lake Fonda</td>\n      <td>North Dakota</td>\n      <td>15581</td>\n      <td>(083)182-4626x8012</td>\n      <td>langosh.mathilde@hotmail.com</td>\n      <td>Glover-Howe</td>\n      <td>87986 Harvey Islands</td>\n      <td>South Zackary</td>\n      <td>Kentucky</td>\n      <td>75232-9391</td>\n      <td>(270)125-2639</td>\n      <td>kassulke.fate@hills.com</td>\n      <td>05/20/2004</td>\n    </tr>\n    <tr>\n      <th>8</th>\n      <td>Katlin</td>\n      <td>Robel</td>\n      <td>6151 Feeney Forest Suite 872</td>\n      <td>Langbury</td>\n      <td>Delaware</td>\n      <td>46090</td>\n      <td>(389)982-6324</td>\n      <td>herman.paris@gmail.com</td>\n      <td>Murray Inc</td>\n      <td>8486 Felipa Forks</td>\n      <td>Jerdetown</td>\n      <td>Montana</td>\n      <td>42616</td>\n      <td>848.167.8691x84803</td>\n      <td>katherin61@bartellkutch.com</td>\n      <td>1974-12-19</td>\n    </tr>\n    <tr>\n      <th>11</th>\n      <td>Irva</td>\n      <td>Brown</td>\n      <td>71102 Hallie Hill Suite 295</td>\n      <td>McGlynnville</td>\n      <td>Georgia</td>\n      <td>23489-3472</td>\n      <td>(280)962-2286</td>\n      <td>senger.marnie@hotmail.com</td>\n      <td>Leuschke-Schmitt</td>\n      <td>443 Ephraim Harbors</td>\n      <td>Haleyland</td>\n      <td>Alabama</td>\n      <td>99964-2124</td>\n      <td>155-817-9065x251</td>\n      <td>jerrad15@upton.com</td>\n      <td>1983-04-21 12:41:18</td>\n    </tr>\n    <tr>\n      <th>15</th>\n      <td>Whit</td>\n      <td>Shanahan</td>\n      <td>213 Brown Island</td>\n      <td>Lake Dorianland</td>\n      <td>Massachusetts</td>\n      <td>64916</td>\n      <td>521-889-8920</td>\n      <td>inga79@hotmail.com</td>\n      <td>Dickinson Inc</td>\n      <td>7129 Salina Station</td>\n      <td>Lake Lige</td>\n      <td>Louisiana</td>\n      <td>99068-5399</td>\n      <td>(824)000-3146</td>\n      <td>vmann@klockobruen.com</td>\n      <td>1973-09-02</td>\n    </tr>\n    <tr>\n      <th>16</th>\n      <td>Vere</td>\n      <td>Effertz</td>\n      <td>4948 Hoppe Shores</td>\n      <td>Taniyahbury</td>\n      <td>Maryland</td>\n      <td>34427</td>\n      <td>1-047-570-1897x480</td>\n      <td>lucindy.kuhic@gmail.com</td>\n      <td>Bode-Vandervort</td>\n      <td>9497 Botsford Isle</td>\n      <td>Port Nan</td>\n      <td>Alaska</td>\n      <td>72083-8368</td>\n      <td>362.712.8612x5533</td>\n      <td>salena07@kub.com</td>\n      <td>06/23/1970</td>\n    </tr>\n    <tr>\n      <th>17</th>\n      <td>Fitzgerald</td>\n      <td>Bednar</td>\n      <td>5272 Bosco Shoals Suite 776</td>\n      <td>Labadieberg</td>\n      <td>Mississippi</td>\n      <td>66799</td>\n      <td>(835)065-4191</td>\n      <td>blaise.jenkins@yahoo.com</td>\n      <td>Prohaska-Roob</td>\n      <td>8113 Wiegand Harbors Suite 493</td>\n      <td>Cedricborough</td>\n      <td>Michigan</td>\n      <td>83592</td>\n      <td>299-038-2068x803</td>\n      <td>gottlieb.nila@rolfson.info</td>\n      <td>2003-10-15 00:05:01</td>\n    </tr>\n    <tr>\n      <th>18</th>\n      <td>Arvid</td>\n      <td>Mohr</td>\n      <td>644 Jamel Creek</td>\n      <td>New Melvynbury</td>\n      <td>Nebraska</td>\n      <td>56470</td>\n      <td>(529)583-2566</td>\n      <td>jewess.alfredo@hotmail.com</td>\n      <td>Heller Ltd</td>\n      <td>3386 Koelpin Plains</td>\n      <td>Meghannborough</td>\n      <td>Texas</td>\n      <td>14718</td>\n      <td>286-794-9474</td>\n      <td>quinton44@eichmann.biz</td>\n      <td>2013-10-18 11:24:56</td>\n    </tr>\n    <tr>\n      <th>19</th>\n      <td>Arden</td>\n      <td>Ryan</td>\n      <td>5913 Gutmann Trail Apt. 393</td>\n      <td>Reinoborough</td>\n      <td>Colorado</td>\n      <td>05571</td>\n      <td>012.486.9436</td>\n      <td>bartell.collin@yahoo.com</td>\n      <td>Fisher-Hegmann</td>\n      <td>9955 Patrice Shoals</td>\n      <td>Larkinshire</td>\n      <td>Rhode Island</td>\n      <td>65071</td>\n      <td>(657)623-1115x21681</td>\n      <td>cathrine.schmitt@funk.com</td>\n      <td>1980-03-28 02:14:22</td>\n    </tr>\n    <tr>\n      <th>22</th>\n      <td>Justin</td>\n      <td>Hermiston</td>\n      <td>235 Deedee Skyway Apt. 669</td>\n      <td>Jaidyntown</td>\n      <td>Wyoming</td>\n      <td>75649</td>\n      <td>00629957247</td>\n      <td>frami.arlyn@yahoo.com</td>\n      <td>Schaden-Schmidt</td>\n      <td>6212 Dusty View Apt. 908</td>\n      <td>Kandiceville</td>\n      <td>Oklahoma</td>\n      <td>25522</td>\n      <td>+62(7)2640575842</td>\n      <td>kassandra72@schamberger.com</td>\n      <td>2003-12-29</td>\n    </tr>\n    <tr>\n      <th>23</th>\n      <td>Anitra</td>\n      <td>Schmeler</td>\n      <td>32392 Pacocha Overpass Apt. 998</td>\n      <td>Murazikfurt</td>\n      <td>California</td>\n      <td>59627-7792</td>\n      <td>1-857-529-8637</td>\n      <td>gislason.suzanna@hotmail.com</td>\n      <td>Douglas Inc</td>\n      <td>968 McLaughlin Brook</td>\n      <td>West Hymenborough</td>\n      <td>Nevada</td>\n      <td>85868</td>\n      <td>(425)065-6143</td>\n      <td>donnell.monahan@paucek.org</td>\n      <td>1970-12-24 18:40:32</td>\n    </tr>\n    <tr>\n      <th>24</th>\n      <td>Rosalyn</td>\n      <td>Fahey</td>\n      <td>89545 O'Kon Field Suite 436</td>\n      <td>South Brittnyshire</td>\n      <td>New Mexico</td>\n      <td>35208-5889</td>\n      <td>1-255-927-2069</td>\n      <td>jeryl.parker@gmail.com</td>\n      <td>Kiehn LLC</td>\n      <td>8108 Jaylan Mill</td>\n      <td>Mullermouth</td>\n      <td>Mississippi</td>\n      <td>22134-5680</td>\n      <td>871.480.3982x412</td>\n      <td>ohermann@spencercorwin.net</td>\n      <td>1985-11-12</td>\n    </tr>\n    <tr>\n      <th>25</th>\n      <td>Maverick</td>\n      <td>Purdy</td>\n      <td>12722 Deidre Bypass Apt. 900</td>\n      <td>Joellemouth</td>\n      <td>Mississippi</td>\n      <td>77674</td>\n      <td>335-017-7162x4106</td>\n      <td>pkris@yahoo.com</td>\n      <td>Reichert-Bahringer</td>\n      <td>74466 Arianna Neck</td>\n      <td>Laurancebury</td>\n      <td>New Hampshire</td>\n      <td>17564</td>\n      <td>314.172.2089</td>\n      <td>schumm.gabriela@jonesledner.net</td>\n      <td>06/18/1986</td>\n    </tr>\n    <tr>\n      <th>26</th>\n      <td>Macey</td>\n      <td>Rutherford</td>\n      <td>204 Tawanna Viaduct Suite 395</td>\n      <td>North Carlosborough</td>\n      <td>Texas</td>\n      <td>61741</td>\n      <td>267.921.6251x044</td>\n      <td>grant.jules@gmail.com</td>\n      <td>Corwin-Lockman</td>\n      <td>555 Jacobi Landing</td>\n      <td>Port Brooks</td>\n      <td>Arkansas</td>\n      <td>69033</td>\n      <td>009-599-0417x500</td>\n      <td>leeroy.walter@schaden.com</td>\n      <td>1974-08-30</td>\n    </tr>\n    <tr>\n      <th>27</th>\n      <td>Marilynn</td>\n      <td>Wiza</td>\n      <td>94523 Bode Passage</td>\n      <td>Tyquanbury</td>\n      <td>Rhode Island</td>\n      <td>39381</td>\n      <td>292-196-3431x968</td>\n      <td>johnson.linda@gmail.com</td>\n      <td>Hodkiewicz-Barton</td>\n      <td>8573 Noreen Rapid Suite 339</td>\n      <td>South Kassie</td>\n      <td>Nevada</td>\n      <td>54936-4309</td>\n      <td>059-612-4192</td>\n      <td>anice.weimann@walter.com</td>\n      <td>2014-08-13</td>\n    </tr>\n    <tr>\n      <th>28</th>\n      <td>Darrick</td>\n      <td>Lakin</td>\n      <td>354 Pricilla Motorway Suite 140</td>\n      <td>Kittyhaven</td>\n      <td>Alaska</td>\n      <td>93601-8076</td>\n      <td>(365)490-8351x1966</td>\n      <td>trantow.brittnay@hotmail.com</td>\n      <td>Barrows PLC</td>\n      <td>461 Kirstin Neck Suite 868</td>\n      <td>Port Nicola</td>\n      <td>New Jersey</td>\n      <td>33017</td>\n      <td>(868)073-8055x069</td>\n      <td>connelly.arvid@beattyankunding.com</td>\n      <td>2002-08-01</td>\n    </tr>\n    <tr>\n      <th>30</th>\n      <td>Braiden</td>\n      <td>Orn</td>\n      <td>20794 Birdella Cape</td>\n      <td>Guadalupefurt</td>\n      <td>Virginia</td>\n      <td>15258</td>\n      <td>1-184-989-1024x8406</td>\n      <td>wunsch.zackary@gmail.com</td>\n      <td>Murazik-Klocko</td>\n      <td>53588 Feeney Divide</td>\n      <td>Port Lempiborough</td>\n      <td>South Dakota</td>\n      <td>99988</td>\n      <td>(336)869-2766x042</td>\n      <td>alonzo.dibbert@mayertsatterfield.com</td>\n      <td>2013-08-07 08:12:54</td>\n    </tr>\n    <tr>\n      <th>32</th>\n      <td>Lucina</td>\n      <td>Stanton</td>\n      <td>25687 Glover Track</td>\n      <td>Jewessland</td>\n      <td>Missouri</td>\n      <td>54041</td>\n      <td>810.396.1483x2571</td>\n      <td>cary.huels@yahoo.com</td>\n      <td>Nienow-Sipes</td>\n      <td>740 Borer Vista</td>\n      <td>Schimmeltown</td>\n      <td>Mississippi</td>\n      <td>48537-0013</td>\n      <td>240.200.7625</td>\n      <td>rodriguez.effa@abbott.com</td>\n      <td>1996-05-03</td>\n    </tr>\n    <tr>\n      <th>33</th>\n      <td>Georgeann</td>\n      <td>Franecki</td>\n      <td>0427 Lexis Harbor Suite 578</td>\n      <td>Port Tasiafort</td>\n      <td>Utah</td>\n      <td>22109</td>\n      <td>567.721.6920x7127</td>\n      <td>dach.juluis@yahoo.com</td>\n      <td>Stamm-Corwin</td>\n      <td>548 Lehner Mountain</td>\n      <td>Lake Stone</td>\n      <td>Connecticut</td>\n      <td>70048</td>\n      <td>090-313-3081x116</td>\n      <td>grant.lara@corwin.com</td>\n      <td>07/05/2010</td>\n    </tr>\n    <tr>\n      <th>37</th>\n      <td>Jerri</td>\n      <td>Klein</td>\n      <td>861 Lynch Mews</td>\n      <td>Dovetown</td>\n      <td>North Dakota</td>\n      <td>62966-2596</td>\n      <td>129-097-7617x8297</td>\n      <td>mwillms@yahoo.com</td>\n      <td>Berge Inc</td>\n      <td>2138 Carmella Mountains</td>\n      <td>South Eligeside</td>\n      <td>Missouri</td>\n      <td>54580</td>\n      <td>810.715.2139</td>\n      <td>candy42@sipes.info</td>\n      <td>09/07/2001</td>\n    </tr>\n    <tr>\n      <th>38</th>\n      <td>Danyell</td>\n      <td>Rogahn</td>\n      <td>40467 Gaston Park Apt. 590</td>\n      <td>North Jamey</td>\n      <td>New Jersey</td>\n      <td>00345-1411</td>\n      <td>+01(9)6029374309</td>\n      <td>hahn.sofia@hotmail.com</td>\n      <td>Langworth-Hintz</td>\n      <td>13729 Eula Mount</td>\n      <td>McCulloughshire</td>\n      <td>North Dakota</td>\n      <td>36203-0817</td>\n      <td>417-385-2823x785</td>\n      <td>malia16@hessel.com</td>\n      <td>10/04/1970</td>\n    </tr>\n    <tr>\n      <th>41</th>\n      <td>Raven</td>\n      <td>Ebert</td>\n      <td>5049 Beier Island Apt. 959</td>\n      <td>Kilbackshire</td>\n      <td>West Virginia</td>\n      <td>27237-2029</td>\n      <td>1-734-031-7070x39183</td>\n      <td>zachariah17@yahoo.com</td>\n      <td>Witting-Blick</td>\n      <td>356 Huels Union</td>\n      <td>West Amare</td>\n      <td>Washington</td>\n      <td>82780</td>\n      <td>545.113.8412</td>\n      <td>danna.schiller@turcotte.net</td>\n      <td>10/15/1991</td>\n    </tr>\n    <tr>\n      <th>45</th>\n      <td>Orra</td>\n      <td>Blick</td>\n      <td>1749 Treutel Ways Apt. 400</td>\n      <td>Maritachester</td>\n      <td>West Virginia</td>\n      <td>21307</td>\n      <td>1-961-909-2105</td>\n      <td>von.petra@hotmail.com</td>\n      <td>Murphy-Berge</td>\n      <td>38763 Iver Junction Suite 576</td>\n      <td>North Keisha</td>\n      <td>Louisiana</td>\n      <td>96948-0751</td>\n      <td>735-912-8187x7497</td>\n      <td>waelchi.shelby@cormiertrantow.net</td>\n      <td>03/23/1992</td>\n    </tr>\n    <tr>\n      <th>47</th>\n      <td>Hester</td>\n      <td>Lehner</td>\n      <td>200 Henery Motorway</td>\n      <td>Bergebury</td>\n      <td>Kansas</td>\n      <td>28601-4961</td>\n      <td>127-873-1321x25586</td>\n      <td>leannon.jazlyn@gmail.com</td>\n      <td>Schroeder Ltd</td>\n      <td>354 Pagac Causeway Suite 349</td>\n      <td>Quigleystad</td>\n      <td>Pennsylvania</td>\n      <td>54112-9867</td>\n      <td>102.898.5233x92382</td>\n      <td>botsford.logan@bednarweissnat.biz</td>\n      <td>1979-06-20 21:03:11</td>\n    </tr>\n    <tr>\n      <th>49</th>\n      <td>Bridger</td>\n      <td>Cormier</td>\n      <td>289 Katlyn Spurs</td>\n      <td>Port Karlee</td>\n      <td>Florida</td>\n      <td>98190-1095</td>\n      <td>(635)032-8847x7451</td>\n      <td>sinda79@yahoo.com</td>\n      <td>Mohr and Sons</td>\n      <td>29420 Ebba Harbor</td>\n      <td>Lake Jeanmarie</td>\n      <td>Louisiana</td>\n      <td>84866-4607</td>\n      <td>(415)754-8547x442</td>\n      <td>eichmann.felicity@corkery.com</td>\n      <td>2007-11-27 18:21:13</td>\n    </tr>\n    <tr>\n      <th>50</th>\n      <td>Sylvester</td>\n      <td>Frami</td>\n      <td>85015 Lubowitz Lake Suite 158</td>\n      <td>South Rainahaven</td>\n      <td>Connecticut</td>\n      <td>31969-8294</td>\n      <td>(386)355-4939x668</td>\n      <td>fklocko@hotmail.com</td>\n      <td>Runolfsson LLC</td>\n      <td>9554 Kihn Path Suite 818</td>\n      <td>North Lemonchester</td>\n      <td>Massachusetts</td>\n      <td>31068</td>\n      <td>(058)417-2497x746</td>\n      <td>arodriguez@block.biz</td>\n      <td>1978-04-27 15:58:39</td>\n    </tr>\n    <tr>\n      <th>51</th>\n      <td>Celina</td>\n      <td>Jaskolski</td>\n      <td>0423 Batz Causeway Suite 226</td>\n      <td>Hahnton</td>\n      <td>Idaho</td>\n      <td>56178-0335</td>\n      <td>056.639.0919</td>\n      <td>yundt.nikolas@hotmail.com</td>\n      <td>Rice Group</td>\n      <td>930 Bergnaum Parkway</td>\n      <td>Kylerport</td>\n      <td>Ohio</td>\n      <td>77767-6116</td>\n      <td>(017)873-9165</td>\n      <td>feeney.gertha@jakubowski.org</td>\n      <td>10/29/1981</td>\n    </tr>\n    <tr>\n      <th>53</th>\n      <td>Armstead</td>\n      <td>Schulist</td>\n      <td>80460 Kreiger Stravenue</td>\n      <td>East Sanjuanamouth</td>\n      <td>Kansas</td>\n      <td>00103-0491</td>\n      <td>+52(8)6713748523</td>\n      <td>ddare@hotmail.com</td>\n      <td>Schumm-Quigley</td>\n      <td>8323 Wiegand Cliff Apt. 050</td>\n      <td>Rosaleeport</td>\n      <td>North Dakota</td>\n      <td>42529-7516</td>\n      <td>1-526-215-9117x784</td>\n      <td>rogahn.allyssa@cartwrightdare.com</td>\n      <td>1970-05-09</td>\n    </tr>\n    <tr>\n      <th>57</th>\n      <td>London</td>\n      <td>Hammes</td>\n      <td>318 Connelly Fords Apt. 361</td>\n      <td>New Franz</td>\n      <td>Connecticut</td>\n      <td>11491-4604</td>\n      <td>07612860813</td>\n      <td>mfeeney@gmail.com</td>\n      <td>Lehner LLC</td>\n      <td>95708 Howe Junctions Apt. 521</td>\n      <td>New Miya</td>\n      <td>Kentucky</td>\n      <td>63063-1267</td>\n      <td>05266401668</td>\n      <td>arnold97@wolff.net</td>\n      <td>1992-07-26 02:19:02</td>\n    </tr>\n    <tr>\n      <th>58</th>\n      <td>Osvaldo</td>\n      <td>Wisozk</td>\n      <td>170 Wisoky River</td>\n      <td>Chasitystad</td>\n      <td>Vermont</td>\n      <td>82681</td>\n      <td>1-564-603-5784x366</td>\n      <td>birt.dach@hotmail.com</td>\n      <td>Emmerich PLC</td>\n      <td>124 Anderson Tunnel</td>\n      <td>New Redmondstad</td>\n      <td>Maine</td>\n      <td>60355</td>\n      <td>111-740-3401x434</td>\n      <td>strosin.marco@corwinmraz.com</td>\n      <td>1977-06-28 10:27:21</td>\n    </tr>\n    <tr>\n      <th>59</th>\n      <td>Lavelle</td>\n      <td>Homenick</td>\n      <td>11205 Jean Bridge</td>\n      <td>New Elissaberg</td>\n      <td>Idaho</td>\n      <td>88311</td>\n      <td>05267585753</td>\n      <td>ikub@hotmail.com</td>\n      <td>Collier-Corwin</td>\n      <td>38028 Lakin Isle</td>\n      <td>Dooleyport</td>\n      <td>Ohio</td>\n      <td>29109-1265</td>\n      <td>536.537.2854</td>\n      <td>kemmer.dorinda@schmidtleffler.com</td>\n      <td>1986-02-21</td>\n    </tr>\n    <tr>\n      <th>62</th>\n      <td>Kaaren</td>\n      <td>Herman</td>\n      <td>2224 Koelpin Estate</td>\n      <td>Tyrekburgh</td>\n      <td>Wyoming</td>\n      <td>55091-9853</td>\n      <td>(711)975-8232</td>\n      <td>llebsack@hotmail.com</td>\n      <td>Hegmann Group</td>\n      <td>8022 Lynch Shoals Suite 829</td>\n      <td>New Kristynmouth</td>\n      <td>Texas</td>\n      <td>31477-7294</td>\n      <td>+04(8)2591586061</td>\n      <td>nigel.steuber@kemmer.com</td>\n      <td>09/15/2000</td>\n    </tr>\n    <tr>\n      <th>63</th>\n      <td>Antony</td>\n      <td>Quigley</td>\n      <td>22181 Stefani Key Apt. 893</td>\n      <td>Lake Shawntechester</td>\n      <td>Wisconsin</td>\n      <td>15040</td>\n      <td>323.403.7401x796</td>\n      <td>zwiza@yahoo.com</td>\n      <td>Gleason-Ondricka</td>\n      <td>7738 Kassie Islands Apt. 154</td>\n      <td>Port Wenzel</td>\n      <td>Tennessee</td>\n      <td>05844-4186</td>\n      <td>(381)160-9911x15514</td>\n      <td>vicente88@satterfield.com</td>\n      <td>07/21/1987</td>\n    </tr>\n    <tr>\n      <th>64</th>\n      <td>Mozell</td>\n      <td>Fay</td>\n      <td>013 Cailyn Tunnel Apt. 252</td>\n      <td>Franeckiland</td>\n      <td>Virginia</td>\n      <td>11772-7169</td>\n      <td>1-827-058-8398x6544</td>\n      <td>noel12@gmail.com</td>\n      <td>Homenick and Sons</td>\n      <td>735 Kilback Harbor Apt. 206</td>\n      <td>Port Paraleeberg</td>\n      <td>Georgia</td>\n      <td>55295-5840</td>\n      <td>553-201-2350x59565</td>\n      <td>beer.ashlee@okunevaeffertz.info</td>\n      <td>1977-09-26</td>\n    </tr>\n    <tr>\n      <th>65</th>\n      <td>Heber</td>\n      <td>Weimann</td>\n      <td>6419 Trantow Flats</td>\n      <td>West Anaisstad</td>\n      <td>California</td>\n      <td>11070-9852</td>\n      <td>555.445.8971x163</td>\n      <td>bishop54@hotmail.com</td>\n      <td>Roob and Sons</td>\n      <td>962 Kathrine Pike Apt. 083</td>\n      <td>Port Rivermouth</td>\n      <td>Idaho</td>\n      <td>09076</td>\n      <td>(213)992-4145x37215</td>\n      <td>kfahey@heaneyheidenreich.com</td>\n      <td>1999-11-26</td>\n    </tr>\n    <tr>\n      <th>66</th>\n      <td>Bobbye</td>\n      <td>Nikolaus</td>\n      <td>798 McKenzie Lodge</td>\n      <td>West Manson</td>\n      <td>Tennessee</td>\n      <td>73860</td>\n      <td>07401671174</td>\n      <td>sade25@hotmail.com</td>\n      <td>Renner Inc</td>\n      <td>05538 Niki Views</td>\n      <td>New Aric</td>\n      <td>Ohio</td>\n      <td>89065-8855</td>\n      <td>1-991-653-5705x95477</td>\n      <td>nayeli.sawayn@jaskolski.com</td>\n      <td>1995-03-04</td>\n    </tr>\n    <tr>\n      <th>67</th>\n      <td>Mardell</td>\n      <td>Waelchi</td>\n      <td>01896 Cummerata Street Apt. 989</td>\n      <td>East Logantown</td>\n      <td>New Mexico</td>\n      <td>64097</td>\n      <td>(421)334-3662x76561</td>\n      <td>fadel.stanford@gmail.com</td>\n      <td>Kilback and Sons</td>\n      <td>0542 Etter Walk</td>\n      <td>Dooleytown</td>\n      <td>Georgia</td>\n      <td>62314-6827</td>\n      <td>881.369.1832</td>\n      <td>leannon.jule@upton.info</td>\n      <td>12/01/1996</td>\n    </tr>\n    <tr>\n      <th>68</th>\n      <td>Fremont</td>\n      <td>Watsica</td>\n      <td>0990 Cedrick Place</td>\n      <td>Hosiefurt</td>\n      <td>Maine</td>\n      <td>37947</td>\n      <td>(659)159-0689</td>\n      <td>mcclure.kadence@gmail.com</td>\n      <td>Senger-Wintheiser</td>\n      <td>20772 Walsh Summit Suite 244</td>\n      <td>Ahmadtown</td>\n      <td>Washington</td>\n      <td>69287</td>\n      <td>+84(6)0483052301</td>\n      <td>abshire.moshe@leannon.com</td>\n      <td>1980-04-29</td>\n    </tr>\n    <tr>\n      <th>73</th>\n      <td>Bria</td>\n      <td>Padberg</td>\n      <td>67874 Aja Station Suite 502</td>\n      <td>West Blossom</td>\n      <td>Hawaii</td>\n      <td>55372</td>\n      <td>(640)290-0249x974</td>\n      <td>bfranecki@gmail.com</td>\n      <td>Anderson-Kessler</td>\n      <td>030 Oberbrunner Camp</td>\n      <td>North Reece</td>\n      <td>North Carolina</td>\n      <td>04794</td>\n      <td>(978)029-4734x3684</td>\n      <td>ukreiger@dickens.net</td>\n      <td>05/28/1976</td>\n    </tr>\n    <tr>\n      <th>78</th>\n      <td>Hurley</td>\n      <td>Ward</td>\n      <td>99542 Von Creek</td>\n      <td>Kingstonstad</td>\n      <td>Montana</td>\n      <td>03115</td>\n      <td>+17(3)9233121597</td>\n      <td>emmerich.christy@gmail.com</td>\n      <td>Lakin-Emmerich</td>\n      <td>231 Beahan Manor Suite 196</td>\n      <td>Beaumouth</td>\n      <td>Oklahoma</td>\n      <td>96406</td>\n      <td>1-171-256-2471x2530</td>\n      <td>cremin.melanie@wisozktoy.com</td>\n      <td>09/24/2007</td>\n    </tr>\n    <tr>\n      <th>79</th>\n      <td>Daphne</td>\n      <td>Harris</td>\n      <td>22683 Phil Skyway</td>\n      <td>South Lelandshire</td>\n      <td>South Dakota</td>\n      <td>68819-7808</td>\n      <td>1-444-871-5539x6311</td>\n      <td>jdare@yahoo.com</td>\n      <td>Hahn-O'Reilly</td>\n      <td>82092 Turner Valley</td>\n      <td>New Elamton</td>\n      <td>Connecticut</td>\n      <td>65705</td>\n      <td>(275)862-4612</td>\n      <td>fbode@ernser.com</td>\n      <td>2009-08-18 19:43:49</td>\n    </tr>\n    <tr>\n      <th>83</th>\n      <td>Malaki</td>\n      <td>Haag</td>\n      <td>240 Cydney Branch</td>\n      <td>Toybury</td>\n      <td>Connecticut</td>\n      <td>39987</td>\n      <td>862.993.7617x214</td>\n      <td>kirstin02@hotmail.com</td>\n      <td>Jacobson-Turner</td>\n      <td>338 Mikhail Dale</td>\n      <td>Parkerhaven</td>\n      <td>Nevada</td>\n      <td>85874</td>\n      <td>(010)069-5336x384</td>\n      <td>weimann.maida@cormier.com</td>\n      <td>2005-08-23 17:52:57</td>\n    </tr>\n    <tr>\n      <th>84</th>\n      <td>Veta</td>\n      <td>Grady</td>\n      <td>9783 Jannie Cape Apt. 708</td>\n      <td>Hirtheburgh</td>\n      <td>Maine</td>\n      <td>48084</td>\n      <td>1-649-341-2704x12890</td>\n      <td>henrietta55@gmail.com</td>\n      <td>Schinner-Cummerata</td>\n      <td>81950 Paris Ramp Suite 939</td>\n      <td>New Donell</td>\n      <td>Oklahoma</td>\n      <td>22117</td>\n      <td>676-453-2958</td>\n      <td>odoyle@schultz.net</td>\n      <td>1978-04-02 13:12:28</td>\n    </tr>\n    <tr>\n      <th>86</th>\n      <td>Caryn</td>\n      <td>Wyman</td>\n      <td>0982 Rath Hollow Apt. 894</td>\n      <td>Schummfort</td>\n      <td>South Dakota</td>\n      <td>08458-1545</td>\n      <td>199.935.1826</td>\n      <td>nelly.farrell@gmail.com</td>\n      <td>Boehm-Nolan</td>\n      <td>8507 Garland Prairie Suite 212</td>\n      <td>West Francies</td>\n      <td>Arkansas</td>\n      <td>86640</td>\n      <td>1-502-062-7378x9617</td>\n      <td>arkie.kertzmann@wolf.com</td>\n      <td>2015-02-04 08:13:57</td>\n    </tr>\n    <tr>\n      <th>88</th>\n      <td>Lorelei</td>\n      <td>Kiehn</td>\n      <td>047 Marks Island Suite 922</td>\n      <td>Lednerburgh</td>\n      <td>Maine</td>\n      <td>04883</td>\n      <td>1-095-375-5902</td>\n      <td>jaden92@hotmail.com</td>\n      <td>Nitzsche LLC</td>\n      <td>565 Marry Pine Suite 236</td>\n      <td>Leuschkeborough</td>\n      <td>Indiana</td>\n      <td>75023</td>\n      <td>1-195-789-5038</td>\n      <td>juliet83@runolfsson.com</td>\n      <td>11/14/1989</td>\n    </tr>\n    <tr>\n      <th>89</th>\n      <td>Hildegard</td>\n      <td>Watsica</td>\n      <td>509 Jaskolski Station Suite 213</td>\n      <td>Kassandrafurt</td>\n      <td>Illinois</td>\n      <td>27564-6047</td>\n      <td>01261907757</td>\n      <td>willms.bradley@gmail.com</td>\n      <td>Jacobson Group</td>\n      <td>9566 Bernadette Streets Apt. 246</td>\n      <td>West Johnathanview</td>\n      <td>Wisconsin</td>\n      <td>59435</td>\n      <td>999-449-0625</td>\n      <td>chelsie.emard@marquardtgreenholt.org</td>\n      <td>12/18/1977</td>\n    </tr>\n    <tr>\n      <th>90</th>\n      <td>Spenser</td>\n      <td>Kerluke</td>\n      <td>157 Mann Isle Apt. 875</td>\n      <td>North Alver</td>\n      <td>Colorado</td>\n      <td>35254</td>\n      <td>150.128.5598x5072</td>\n      <td>jkemmer@yahoo.com</td>\n      <td>Gleichner-Jones</td>\n      <td>2825 Klein Harbors</td>\n      <td>Augustineshire</td>\n      <td>Vermont</td>\n      <td>54563</td>\n      <td>577-615-1102</td>\n      <td>ebert.abdul@toy.com</td>\n      <td>1984-02-06</td>\n    </tr>\n  </tbody>\n</table>\n</div>"
     },
     "execution_count": 75,
     "metadata": {},
     "output_type": "execute_result"
    }
   ],
   "source": [
    "pearson_Data = pearson_Data.drop(pearson_Data[pearson_Data['Last Name'].str.len() > 16].index)\n",
    "print(pearson_Data.shape)\n",
    "\n",
    "pearson_Data.head(50)"
   ],
   "metadata": {
    "collapsed": false,
    "ExecuteTime": {
     "end_time": "2023-10-05T20:28:10.481911400Z",
     "start_time": "2023-10-05T20:28:10.290097200Z"
    }
   },
   "id": "c5113d2e1a42f0aa"
  },
  {
   "cell_type": "markdown",
   "source": [
    "<h1>Part III: Data repairing with imputation</h1>\n",
    "<h2>Exrcise 6: Do it from scratch at home and upload it on Moodle</h2>\n"
   ],
   "metadata": {
    "collapsed": false
   },
   "id": "a31eb27a87c88f5a"
  },
  {
   "cell_type": "code",
   "execution_count": 75,
   "outputs": [],
   "source": [],
   "metadata": {
    "collapsed": false,
    "ExecuteTime": {
     "end_time": "2023-10-05T20:28:10.481911400Z",
     "start_time": "2023-10-05T20:28:10.319112200Z"
    }
   },
   "id": "2eacfcc7ed40a901"
  },
  {
   "cell_type": "markdown",
   "source": [
    "<h2>Exercise 7: Imputation to handle missing data</h2>"
   ],
   "metadata": {
    "collapsed": false
   },
   "id": "9f76606730c15c54"
  },
  {
   "cell_type": "code",
   "execution_count": 76,
   "outputs": [],
   "source": [
    "initialData = pd.read_csv('Pw2 Datasets/melb_data.csv')"
   ],
   "metadata": {
    "collapsed": false,
    "ExecuteTime": {
     "end_time": "2023-10-05T20:28:10.504971400Z",
     "start_time": "2023-10-05T20:28:10.323119400Z"
    }
   },
   "id": "ab5e972f2db22f9d"
  },
  {
   "cell_type": "code",
   "execution_count": 77,
   "outputs": [
    {
     "name": "stdout",
     "output_type": "stream",
     "text": [
      "<class 'pandas.core.frame.DataFrame'>\n",
      "RangeIndex: 18396 entries, 0 to 18395\n",
      "Data columns (total 22 columns):\n",
      " #   Column         Non-Null Count  Dtype  \n",
      "---  ------         --------------  -----  \n",
      " 0   Unnamed: 0     18396 non-null  int64  \n",
      " 1   Suburb         18396 non-null  object \n",
      " 2   Address        18396 non-null  object \n",
      " 3   Rooms          18396 non-null  int64  \n",
      " 4   Type           18396 non-null  object \n",
      " 5   Price          18396 non-null  float64\n",
      " 6   Method         18396 non-null  object \n",
      " 7   SellerG        18396 non-null  object \n",
      " 8   Date           18396 non-null  object \n",
      " 9   Distance       18395 non-null  float64\n",
      " 10  Postcode       18395 non-null  float64\n",
      " 11  Bedroom2       14927 non-null  float64\n",
      " 12  Bathroom       14925 non-null  float64\n",
      " 13  Car            14820 non-null  float64\n",
      " 14  Landsize       13603 non-null  float64\n",
      " 15  BuildingArea   7762 non-null   float64\n",
      " 16  YearBuilt      8958 non-null   float64\n",
      " 17  CouncilArea    12233 non-null  object \n",
      " 18  Lattitude      15064 non-null  float64\n",
      " 19  Longtitude     15064 non-null  float64\n",
      " 20  Regionname     18395 non-null  object \n",
      " 21  Propertycount  18395 non-null  float64\n",
      "dtypes: float64(12), int64(2), object(8)\n",
      "memory usage: 3.1+ MB\n"
     ]
    },
    {
     "data": {
      "text/plain": "(18396, 22)"
     },
     "execution_count": 77,
     "metadata": {},
     "output_type": "execute_result"
    }
   ],
   "source": [
    "initialData.columns\n",
    "initialData.info()\n",
    "initialData.shape"
   ],
   "metadata": {
    "collapsed": false,
    "ExecuteTime": {
     "end_time": "2023-10-05T20:28:10.505979100Z",
     "start_time": "2023-10-05T20:28:10.390076600Z"
    }
   },
   "id": "2169d11da4cdd92e"
  },
  {
   "cell_type": "code",
   "execution_count": 78,
   "outputs": [
    {
     "data": {
      "text/plain": "Unnamed: 0           0\nSuburb               0\nAddress              0\nRooms                0\nType                 0\nPrice                0\nMethod               0\nSellerG              0\nDate                 0\nDistance             1\nPostcode             1\nBedroom2          3469\nBathroom          3471\nCar               3576\nLandsize          4793\nBuildingArea     10634\nYearBuilt         9438\nCouncilArea       6163\nLattitude         3332\nLongtitude        3332\nRegionname           1\nPropertycount        1\ndtype: int64"
     },
     "execution_count": 78,
     "metadata": {},
     "output_type": "execute_result"
    }
   ],
   "source": [
    "initialData.isnull().sum()"
   ],
   "metadata": {
    "collapsed": false,
    "ExecuteTime": {
     "end_time": "2023-10-05T20:28:10.518332300Z",
     "start_time": "2023-10-05T20:28:10.408800100Z"
    }
   },
   "id": "917bf84b77130c10"
  },
  {
   "cell_type": "code",
   "execution_count": 79,
   "outputs": [
    {
     "data": {
      "text/plain": "0        2\n1        0\n2        0\n3        2\n4        0\n        ..\n18391    2\n18392    1\n18393    4\n18394    1\n18395    2\nLength: 18396, dtype: int64"
     },
     "execution_count": 79,
     "metadata": {},
     "output_type": "execute_result"
    }
   ],
   "source": [
    "initialData.isnull().sum(axis=1)"
   ],
   "metadata": {
    "collapsed": false,
    "ExecuteTime": {
     "end_time": "2023-10-05T20:28:10.565096600Z",
     "start_time": "2023-10-05T20:28:10.421701900Z"
    }
   },
   "id": "cf8b618c1584fd44"
  },
  {
   "cell_type": "code",
   "execution_count": 80,
   "outputs": [],
   "source": [
    "def missing_columns(df):\n",
    "    colsWithMissing = [col for col in df.columns\n",
    "                    if df[col].isnull().any()]\n",
    "    reduced_df = df.drop(colsWithMissing, axis=1)\n",
    "    return colsWithMissing, reduced_df"
   ],
   "metadata": {
    "collapsed": false,
    "ExecuteTime": {
     "end_time": "2023-10-05T20:28:10.565096600Z",
     "start_time": "2023-10-05T20:28:10.436200600Z"
    }
   },
   "id": "96d19bab37c29cfb"
  },
  {
   "cell_type": "code",
   "execution_count": 81,
   "outputs": [
    {
     "name": "stdout",
     "output_type": "stream",
     "text": [
      "['Distance', 'Postcode', 'Bedroom2', 'Bathroom', 'Car', 'Landsize', 'BuildingArea', 'YearBuilt', 'CouncilArea', 'Lattitude', 'Longtitude', 'Regionname', 'Propertycount']\n",
      "(18396, 9)\n"
     ]
    }
   ],
   "source": [
    "cols_with_missing, reduced_df = missing_columns(initialData)\n",
    "print(cols_with_missing)\n",
    "print(reduced_df.shape)# went from 22 to 9 columns"
   ],
   "metadata": {
    "collapsed": false,
    "ExecuteTime": {
     "end_time": "2023-10-05T20:28:10.675053300Z",
     "start_time": "2023-10-05T20:28:10.442297800Z"
    }
   },
   "id": "12db44866ab173c0"
  },
  {
   "cell_type": "code",
   "execution_count": 82,
   "outputs": [
    {
     "data": {
      "text/plain": "Unnamed: 0       0.000000\nSuburb           0.000000\nAddress          0.000000\nRooms            0.000000\nType             0.000000\nPrice            0.000000\nMethod           0.000000\nSellerG          0.000000\nDate             0.000000\nDistance         0.000054\nPostcode         0.000054\nBedroom2         0.188574\nBathroom         0.188682\nCar              0.194390\nLandsize         0.260546\nBuildingArea     0.578060\nYearBuilt        0.513046\nCouncilArea      0.335018\nLattitude        0.181126\nLongtitude       0.181126\nRegionname       0.000054\nPropertycount    0.000054\ndtype: float64"
     },
     "execution_count": 82,
     "metadata": {},
     "output_type": "execute_result"
    }
   ],
   "source": [
    "initialData.isnull().sum()/len(initialData)"
   ],
   "metadata": {
    "collapsed": false,
    "ExecuteTime": {
     "end_time": "2023-10-05T20:28:10.676138200Z",
     "start_time": "2023-10-05T20:28:10.455982900Z"
    }
   },
   "id": "ea03376cb0a51db0"
  },
  {
   "cell_type": "code",
   "execution_count": 83,
   "outputs": [
    {
     "data": {
      "text/plain": "0        0.090909\n1        0.000000\n2        0.000000\n3        0.090909\n4        0.000000\n           ...   \n18391    0.090909\n18392    0.045455\n18393    0.181818\n18394    0.045455\n18395    0.090909\nLength: 18396, dtype: float64"
     },
     "execution_count": 83,
     "metadata": {},
     "output_type": "execute_result"
    }
   ],
   "source": [
    "initialData.isnull().sum(axis=1 )/len(initialData.columns)"
   ],
   "metadata": {
    "collapsed": false,
    "ExecuteTime": {
     "end_time": "2023-10-05T20:28:10.712914600Z",
     "start_time": "2023-10-05T20:28:10.468764Z"
    }
   },
   "id": "a9113090c8ae81be"
  },
  {
   "cell_type": "code",
   "execution_count": 84,
   "outputs": [
    {
     "data": {
      "text/plain": "(8332, 22)"
     },
     "execution_count": 84,
     "metadata": {},
     "output_type": "execute_result"
    }
   ],
   "source": [
    "newData = initialData.drop(initialData[initialData.isnull().sum(axis=1 )/len(initialData.columns) > 0.05].index)\n",
    "newData.shape"
   ],
   "metadata": {
    "collapsed": false,
    "ExecuteTime": {
     "end_time": "2023-10-05T20:28:10.746008800Z",
     "start_time": "2023-10-05T20:28:10.487425100Z"
    }
   },
   "id": "a4cbbc2d66529a3e"
  },
  {
   "cell_type": "code",
   "execution_count": 85,
   "outputs": [
    {
     "name": "stdout",
     "output_type": "stream",
     "text": [
      "['BuildingArea', 'YearBuilt', 'CouncilArea']\n",
      "(8332, 19)\n"
     ]
    }
   ],
   "source": [
    "newcoslWithMissing, newreduced_df = missing_columns(newData)\n",
    "print(newcoslWithMissing)\n",
    "print(newreduced_df.shape)# went from 22 to 19 columns\n",
    "#some of the columns with missing values were not dropped because all the missing values were droped in the previous cell"
   ],
   "metadata": {
    "collapsed": false,
    "ExecuteTime": {
     "end_time": "2023-10-05T20:28:10.755015200Z",
     "start_time": "2023-10-05T20:28:10.509075600Z"
    }
   },
   "id": "6e9855b98cc761a9"
  },
  {
   "cell_type": "code",
   "execution_count": 86,
   "outputs": [
    {
     "data": {
      "text/plain": "Unnamed: 0          0\nSuburb              0\nAddress             0\nRooms               0\nType                0\nPrice               0\nMethod              0\nSellerG             0\nDate                0\nDistance            0\nPostcode            0\nBedroom2            0\nBathroom            0\nCar                 0\nLandsize            0\nBuildingArea     1252\nYearBuilt         250\nCouncilArea       634\nLattitude           0\nLongtitude          0\nRegionname          0\nPropertycount       0\ndtype: int64"
     },
     "execution_count": 86,
     "metadata": {},
     "output_type": "execute_result"
    }
   ],
   "source": [
    "newData.loc[:,'Price'].describe()\n",
    "newData.isnull().sum()\n",
    "newData['Price'].mean()\n",
    "newData.loc[:,'Price'].fillna(newData['Price'].mean(), inplace=True)\n",
    "newData.isnull().sum()\n"
   ],
   "metadata": {
    "collapsed": false,
    "ExecuteTime": {
     "end_time": "2023-10-05T20:28:10.756061500Z",
     "start_time": "2023-10-05T20:28:10.523342800Z"
    }
   },
   "id": "ae03c52e6d37361c"
  },
  {
   "cell_type": "markdown",
   "source": [
    "<h2>Exercise 8: Transformer and Pipeline with scikitlearn for Imputation processing</h2>"
   ],
   "metadata": {
    "collapsed": false
   },
   "id": "8476fce2b74cbf6b"
  },
  {
   "cell_type": "code",
   "execution_count": 92,
   "outputs": [
    {
     "data": {
      "text/plain": "array([ 1.18267871e+04,  2.93504023e+00,  1.05669746e+06,  1.03899864e+01,\n        3.10714015e+03,  2.91304348e+00,  1.53849246e+00,  1.61551957e+00,\n        5.58116371e+02,  1.51220219e+02,  1.96588000e+03, -3.78098491e+01,\n        1.44996338e+02,  7.51797527e+03])"
     },
     "metadata": {},
     "output_type": "display_data"
    },
    {
     "data": {
      "text/plain": "    Unnamed: 0  Rooms      Price  Distance  Postcode  Bedroom2  Bathroom  \\\n0          1.0    2.0  1480000.0       2.5    3067.0  2.000000  1.000000   \n1          2.0    2.0  1035000.0       2.5    3067.0  2.000000  1.000000   \n2          4.0    3.0  1465000.0       2.5    3067.0  3.000000  2.000000   \n3          5.0    3.0   850000.0       2.5    3067.0  3.000000  2.000000   \n4          6.0    4.0  1600000.0       2.5    3067.0  3.000000  1.000000   \n5         10.0    2.0   941000.0       2.5    3067.0  2.000000  1.000000   \n6         11.0    3.0  1876000.0       2.5    3067.0  4.000000  2.000000   \n7         14.0    2.0  1636000.0       2.5    3067.0  2.000000  1.000000   \n8         15.0    3.0  1000000.0       2.5    3067.0  2.913043  1.538492   \n9         16.0    2.0   745000.0       2.5    3067.0  2.913043  1.538492   \n10        17.0    1.0   300000.0       2.5    3067.0  1.000000  1.000000   \n11        18.0    2.0  1097000.0       2.5    3067.0  3.000000  1.000000   \n12        19.0    2.0   542000.0       2.5    3067.0  2.913043  1.538492   \n13        21.0    2.0   760000.0       2.5    3067.0  2.913043  1.538492   \n14        22.0    1.0   481000.0       2.5    3067.0  2.913043  1.538492   \n15        23.0    2.0   700000.0       2.5    3067.0  2.000000  2.000000   \n16        24.0    3.0  1350000.0       2.5    3067.0  3.000000  2.000000   \n17        25.0    2.0   750000.0       2.5    3067.0  2.000000  2.000000   \n18        26.0    4.0  1985000.0       2.5    3067.0  2.913043  1.538492   \n19        27.0    1.0   500000.0       2.5    3067.0  2.913043  1.538492   \n20        28.0    2.0  1172500.0       2.5    3067.0  2.000000  1.000000   \n21        29.0    1.0   441000.0       2.5    3067.0  1.000000  1.000000   \n22        30.0    2.0  1310000.0       2.5    3067.0  2.000000  1.000000   \n23        32.0    3.0  1200000.0       2.5    3067.0  3.000000  2.000000   \n24        33.0    2.0   847000.0       2.5    3067.0  2.913043  1.538492   \n25        35.0    3.0  1176500.0       2.5    3067.0  2.000000  1.000000   \n26        36.0    3.0   955000.0       2.5    3067.0  3.000000  1.000000   \n27        37.0    2.0   890000.0       2.5    3067.0  2.000000  1.000000   \n28        38.0    4.0  1330000.0       2.5    3067.0  4.000000  2.000000   \n29        40.0    3.0   900000.0       2.5    3067.0  3.000000  2.000000   \n\n        Car    Landsize  BuildingArea    YearBuilt  Lattitude  Longtitude  \\\n0   1.00000  202.000000    151.220219  1965.879996 -37.799600  144.998400   \n1   0.00000  156.000000     79.000000  1900.000000 -37.807900  144.993400   \n2   0.00000  134.000000    150.000000  1900.000000 -37.809300  144.994400   \n3   1.00000   94.000000    151.220219  1965.879996 -37.796900  144.996900   \n4   2.00000  120.000000    142.000000  2014.000000 -37.807200  144.994100   \n5   0.00000  181.000000    151.220219  1965.879996 -37.804100  144.995300   \n6   0.00000  245.000000    210.000000  1910.000000 -37.802400  144.999300   \n7   2.00000  256.000000    107.000000  1890.000000 -37.806000  144.995400   \n8   1.61552  558.116371    151.220219  1965.879996 -37.809849  144.996338   \n9   1.61552  558.116371    151.220219  1965.879996 -37.809849  144.996338   \n10  1.00000    0.000000    151.220219  1965.879996 -37.800800  144.997300   \n11  2.00000  220.000000     75.000000  1900.000000 -37.801000  144.998900   \n12  1.61552  558.116371    151.220219  1965.879996 -37.809849  144.996338   \n13  1.61552  558.116371    151.220219  1965.879996 -37.809849  144.996338   \n14  1.61552  558.116371    151.220219  1965.879996 -37.809849  144.996338   \n15  1.00000    0.000000    151.220219  1965.879996 -37.811000  145.006700   \n16  2.00000  214.000000    190.000000  2005.000000 -37.808500  144.996400   \n17  1.00000    0.000000     94.000000  2009.000000 -37.807800  144.996500   \n18  1.61552  558.116371    151.220219  1965.879996 -37.808400  144.994200   \n19  1.61552  558.116371    151.220219  1965.879996 -37.809849  144.996338   \n20  1.00000  195.000000    151.220219  1965.879996 -37.808400  144.997300   \n21  1.00000    0.000000    151.220219  1965.879996 -37.801600  144.998800   \n22  2.00000  238.000000     97.000000  1890.000000 -37.809000  144.997600   \n23  1.00000  113.000000    110.000000  1880.000000 -37.805600  144.993000   \n24  1.61552  558.116371    151.220219  1965.879996 -37.809849  144.996338   \n25  1.00000  138.000000    105.000000  1890.000000 -37.802100  144.996500   \n26  0.00000  183.000000    151.220219  1965.879996 -37.802200  144.997500   \n27  1.00000  150.000000     73.000000  1985.000000 -37.801100  145.000400   \n28  2.00000  780.000000    135.000000  1900.000000 -37.807300  144.995200   \n29  2.00000    0.000000    151.220219  2010.000000 -37.809300  144.995900   \n\n    Propertycount  \n0          4019.0  \n1          4019.0  \n2          4019.0  \n3          4019.0  \n4          4019.0  \n5          4019.0  \n6          4019.0  \n7          4019.0  \n8          4019.0  \n9          4019.0  \n10         4019.0  \n11         4019.0  \n12         4019.0  \n13         4019.0  \n14         4019.0  \n15         4019.0  \n16         4019.0  \n17         4019.0  \n18         4019.0  \n19         4019.0  \n20         4019.0  \n21         4019.0  \n22         4019.0  \n23         4019.0  \n24         4019.0  \n25         4019.0  \n26         4019.0  \n27         4019.0  \n28         4019.0  \n29         4019.0  ",
      "text/html": "<div>\n<style scoped>\n    .dataframe tbody tr th:only-of-type {\n        vertical-align: middle;\n    }\n\n    .dataframe tbody tr th {\n        vertical-align: top;\n    }\n\n    .dataframe thead th {\n        text-align: right;\n    }\n</style>\n<table border=\"1\" class=\"dataframe\">\n  <thead>\n    <tr style=\"text-align: right;\">\n      <th></th>\n      <th>Unnamed: 0</th>\n      <th>Rooms</th>\n      <th>Price</th>\n      <th>Distance</th>\n      <th>Postcode</th>\n      <th>Bedroom2</th>\n      <th>Bathroom</th>\n      <th>Car</th>\n      <th>Landsize</th>\n      <th>BuildingArea</th>\n      <th>YearBuilt</th>\n      <th>Lattitude</th>\n      <th>Longtitude</th>\n      <th>Propertycount</th>\n    </tr>\n  </thead>\n  <tbody>\n    <tr>\n      <th>0</th>\n      <td>1.0</td>\n      <td>2.0</td>\n      <td>1480000.0</td>\n      <td>2.5</td>\n      <td>3067.0</td>\n      <td>2.000000</td>\n      <td>1.000000</td>\n      <td>1.00000</td>\n      <td>202.000000</td>\n      <td>151.220219</td>\n      <td>1965.879996</td>\n      <td>-37.799600</td>\n      <td>144.998400</td>\n      <td>4019.0</td>\n    </tr>\n    <tr>\n      <th>1</th>\n      <td>2.0</td>\n      <td>2.0</td>\n      <td>1035000.0</td>\n      <td>2.5</td>\n      <td>3067.0</td>\n      <td>2.000000</td>\n      <td>1.000000</td>\n      <td>0.00000</td>\n      <td>156.000000</td>\n      <td>79.000000</td>\n      <td>1900.000000</td>\n      <td>-37.807900</td>\n      <td>144.993400</td>\n      <td>4019.0</td>\n    </tr>\n    <tr>\n      <th>2</th>\n      <td>4.0</td>\n      <td>3.0</td>\n      <td>1465000.0</td>\n      <td>2.5</td>\n      <td>3067.0</td>\n      <td>3.000000</td>\n      <td>2.000000</td>\n      <td>0.00000</td>\n      <td>134.000000</td>\n      <td>150.000000</td>\n      <td>1900.000000</td>\n      <td>-37.809300</td>\n      <td>144.994400</td>\n      <td>4019.0</td>\n    </tr>\n    <tr>\n      <th>3</th>\n      <td>5.0</td>\n      <td>3.0</td>\n      <td>850000.0</td>\n      <td>2.5</td>\n      <td>3067.0</td>\n      <td>3.000000</td>\n      <td>2.000000</td>\n      <td>1.00000</td>\n      <td>94.000000</td>\n      <td>151.220219</td>\n      <td>1965.879996</td>\n      <td>-37.796900</td>\n      <td>144.996900</td>\n      <td>4019.0</td>\n    </tr>\n    <tr>\n      <th>4</th>\n      <td>6.0</td>\n      <td>4.0</td>\n      <td>1600000.0</td>\n      <td>2.5</td>\n      <td>3067.0</td>\n      <td>3.000000</td>\n      <td>1.000000</td>\n      <td>2.00000</td>\n      <td>120.000000</td>\n      <td>142.000000</td>\n      <td>2014.000000</td>\n      <td>-37.807200</td>\n      <td>144.994100</td>\n      <td>4019.0</td>\n    </tr>\n    <tr>\n      <th>5</th>\n      <td>10.0</td>\n      <td>2.0</td>\n      <td>941000.0</td>\n      <td>2.5</td>\n      <td>3067.0</td>\n      <td>2.000000</td>\n      <td>1.000000</td>\n      <td>0.00000</td>\n      <td>181.000000</td>\n      <td>151.220219</td>\n      <td>1965.879996</td>\n      <td>-37.804100</td>\n      <td>144.995300</td>\n      <td>4019.0</td>\n    </tr>\n    <tr>\n      <th>6</th>\n      <td>11.0</td>\n      <td>3.0</td>\n      <td>1876000.0</td>\n      <td>2.5</td>\n      <td>3067.0</td>\n      <td>4.000000</td>\n      <td>2.000000</td>\n      <td>0.00000</td>\n      <td>245.000000</td>\n      <td>210.000000</td>\n      <td>1910.000000</td>\n      <td>-37.802400</td>\n      <td>144.999300</td>\n      <td>4019.0</td>\n    </tr>\n    <tr>\n      <th>7</th>\n      <td>14.0</td>\n      <td>2.0</td>\n      <td>1636000.0</td>\n      <td>2.5</td>\n      <td>3067.0</td>\n      <td>2.000000</td>\n      <td>1.000000</td>\n      <td>2.00000</td>\n      <td>256.000000</td>\n      <td>107.000000</td>\n      <td>1890.000000</td>\n      <td>-37.806000</td>\n      <td>144.995400</td>\n      <td>4019.0</td>\n    </tr>\n    <tr>\n      <th>8</th>\n      <td>15.0</td>\n      <td>3.0</td>\n      <td>1000000.0</td>\n      <td>2.5</td>\n      <td>3067.0</td>\n      <td>2.913043</td>\n      <td>1.538492</td>\n      <td>1.61552</td>\n      <td>558.116371</td>\n      <td>151.220219</td>\n      <td>1965.879996</td>\n      <td>-37.809849</td>\n      <td>144.996338</td>\n      <td>4019.0</td>\n    </tr>\n    <tr>\n      <th>9</th>\n      <td>16.0</td>\n      <td>2.0</td>\n      <td>745000.0</td>\n      <td>2.5</td>\n      <td>3067.0</td>\n      <td>2.913043</td>\n      <td>1.538492</td>\n      <td>1.61552</td>\n      <td>558.116371</td>\n      <td>151.220219</td>\n      <td>1965.879996</td>\n      <td>-37.809849</td>\n      <td>144.996338</td>\n      <td>4019.0</td>\n    </tr>\n    <tr>\n      <th>10</th>\n      <td>17.0</td>\n      <td>1.0</td>\n      <td>300000.0</td>\n      <td>2.5</td>\n      <td>3067.0</td>\n      <td>1.000000</td>\n      <td>1.000000</td>\n      <td>1.00000</td>\n      <td>0.000000</td>\n      <td>151.220219</td>\n      <td>1965.879996</td>\n      <td>-37.800800</td>\n      <td>144.997300</td>\n      <td>4019.0</td>\n    </tr>\n    <tr>\n      <th>11</th>\n      <td>18.0</td>\n      <td>2.0</td>\n      <td>1097000.0</td>\n      <td>2.5</td>\n      <td>3067.0</td>\n      <td>3.000000</td>\n      <td>1.000000</td>\n      <td>2.00000</td>\n      <td>220.000000</td>\n      <td>75.000000</td>\n      <td>1900.000000</td>\n      <td>-37.801000</td>\n      <td>144.998900</td>\n      <td>4019.0</td>\n    </tr>\n    <tr>\n      <th>12</th>\n      <td>19.0</td>\n      <td>2.0</td>\n      <td>542000.0</td>\n      <td>2.5</td>\n      <td>3067.0</td>\n      <td>2.913043</td>\n      <td>1.538492</td>\n      <td>1.61552</td>\n      <td>558.116371</td>\n      <td>151.220219</td>\n      <td>1965.879996</td>\n      <td>-37.809849</td>\n      <td>144.996338</td>\n      <td>4019.0</td>\n    </tr>\n    <tr>\n      <th>13</th>\n      <td>21.0</td>\n      <td>2.0</td>\n      <td>760000.0</td>\n      <td>2.5</td>\n      <td>3067.0</td>\n      <td>2.913043</td>\n      <td>1.538492</td>\n      <td>1.61552</td>\n      <td>558.116371</td>\n      <td>151.220219</td>\n      <td>1965.879996</td>\n      <td>-37.809849</td>\n      <td>144.996338</td>\n      <td>4019.0</td>\n    </tr>\n    <tr>\n      <th>14</th>\n      <td>22.0</td>\n      <td>1.0</td>\n      <td>481000.0</td>\n      <td>2.5</td>\n      <td>3067.0</td>\n      <td>2.913043</td>\n      <td>1.538492</td>\n      <td>1.61552</td>\n      <td>558.116371</td>\n      <td>151.220219</td>\n      <td>1965.879996</td>\n      <td>-37.809849</td>\n      <td>144.996338</td>\n      <td>4019.0</td>\n    </tr>\n    <tr>\n      <th>15</th>\n      <td>23.0</td>\n      <td>2.0</td>\n      <td>700000.0</td>\n      <td>2.5</td>\n      <td>3067.0</td>\n      <td>2.000000</td>\n      <td>2.000000</td>\n      <td>1.00000</td>\n      <td>0.000000</td>\n      <td>151.220219</td>\n      <td>1965.879996</td>\n      <td>-37.811000</td>\n      <td>145.006700</td>\n      <td>4019.0</td>\n    </tr>\n    <tr>\n      <th>16</th>\n      <td>24.0</td>\n      <td>3.0</td>\n      <td>1350000.0</td>\n      <td>2.5</td>\n      <td>3067.0</td>\n      <td>3.000000</td>\n      <td>2.000000</td>\n      <td>2.00000</td>\n      <td>214.000000</td>\n      <td>190.000000</td>\n      <td>2005.000000</td>\n      <td>-37.808500</td>\n      <td>144.996400</td>\n      <td>4019.0</td>\n    </tr>\n    <tr>\n      <th>17</th>\n      <td>25.0</td>\n      <td>2.0</td>\n      <td>750000.0</td>\n      <td>2.5</td>\n      <td>3067.0</td>\n      <td>2.000000</td>\n      <td>2.000000</td>\n      <td>1.00000</td>\n      <td>0.000000</td>\n      <td>94.000000</td>\n      <td>2009.000000</td>\n      <td>-37.807800</td>\n      <td>144.996500</td>\n      <td>4019.0</td>\n    </tr>\n    <tr>\n      <th>18</th>\n      <td>26.0</td>\n      <td>4.0</td>\n      <td>1985000.0</td>\n      <td>2.5</td>\n      <td>3067.0</td>\n      <td>2.913043</td>\n      <td>1.538492</td>\n      <td>1.61552</td>\n      <td>558.116371</td>\n      <td>151.220219</td>\n      <td>1965.879996</td>\n      <td>-37.808400</td>\n      <td>144.994200</td>\n      <td>4019.0</td>\n    </tr>\n    <tr>\n      <th>19</th>\n      <td>27.0</td>\n      <td>1.0</td>\n      <td>500000.0</td>\n      <td>2.5</td>\n      <td>3067.0</td>\n      <td>2.913043</td>\n      <td>1.538492</td>\n      <td>1.61552</td>\n      <td>558.116371</td>\n      <td>151.220219</td>\n      <td>1965.879996</td>\n      <td>-37.809849</td>\n      <td>144.996338</td>\n      <td>4019.0</td>\n    </tr>\n    <tr>\n      <th>20</th>\n      <td>28.0</td>\n      <td>2.0</td>\n      <td>1172500.0</td>\n      <td>2.5</td>\n      <td>3067.0</td>\n      <td>2.000000</td>\n      <td>1.000000</td>\n      <td>1.00000</td>\n      <td>195.000000</td>\n      <td>151.220219</td>\n      <td>1965.879996</td>\n      <td>-37.808400</td>\n      <td>144.997300</td>\n      <td>4019.0</td>\n    </tr>\n    <tr>\n      <th>21</th>\n      <td>29.0</td>\n      <td>1.0</td>\n      <td>441000.0</td>\n      <td>2.5</td>\n      <td>3067.0</td>\n      <td>1.000000</td>\n      <td>1.000000</td>\n      <td>1.00000</td>\n      <td>0.000000</td>\n      <td>151.220219</td>\n      <td>1965.879996</td>\n      <td>-37.801600</td>\n      <td>144.998800</td>\n      <td>4019.0</td>\n    </tr>\n    <tr>\n      <th>22</th>\n      <td>30.0</td>\n      <td>2.0</td>\n      <td>1310000.0</td>\n      <td>2.5</td>\n      <td>3067.0</td>\n      <td>2.000000</td>\n      <td>1.000000</td>\n      <td>2.00000</td>\n      <td>238.000000</td>\n      <td>97.000000</td>\n      <td>1890.000000</td>\n      <td>-37.809000</td>\n      <td>144.997600</td>\n      <td>4019.0</td>\n    </tr>\n    <tr>\n      <th>23</th>\n      <td>32.0</td>\n      <td>3.0</td>\n      <td>1200000.0</td>\n      <td>2.5</td>\n      <td>3067.0</td>\n      <td>3.000000</td>\n      <td>2.000000</td>\n      <td>1.00000</td>\n      <td>113.000000</td>\n      <td>110.000000</td>\n      <td>1880.000000</td>\n      <td>-37.805600</td>\n      <td>144.993000</td>\n      <td>4019.0</td>\n    </tr>\n    <tr>\n      <th>24</th>\n      <td>33.0</td>\n      <td>2.0</td>\n      <td>847000.0</td>\n      <td>2.5</td>\n      <td>3067.0</td>\n      <td>2.913043</td>\n      <td>1.538492</td>\n      <td>1.61552</td>\n      <td>558.116371</td>\n      <td>151.220219</td>\n      <td>1965.879996</td>\n      <td>-37.809849</td>\n      <td>144.996338</td>\n      <td>4019.0</td>\n    </tr>\n    <tr>\n      <th>25</th>\n      <td>35.0</td>\n      <td>3.0</td>\n      <td>1176500.0</td>\n      <td>2.5</td>\n      <td>3067.0</td>\n      <td>2.000000</td>\n      <td>1.000000</td>\n      <td>1.00000</td>\n      <td>138.000000</td>\n      <td>105.000000</td>\n      <td>1890.000000</td>\n      <td>-37.802100</td>\n      <td>144.996500</td>\n      <td>4019.0</td>\n    </tr>\n    <tr>\n      <th>26</th>\n      <td>36.0</td>\n      <td>3.0</td>\n      <td>955000.0</td>\n      <td>2.5</td>\n      <td>3067.0</td>\n      <td>3.000000</td>\n      <td>1.000000</td>\n      <td>0.00000</td>\n      <td>183.000000</td>\n      <td>151.220219</td>\n      <td>1965.879996</td>\n      <td>-37.802200</td>\n      <td>144.997500</td>\n      <td>4019.0</td>\n    </tr>\n    <tr>\n      <th>27</th>\n      <td>37.0</td>\n      <td>2.0</td>\n      <td>890000.0</td>\n      <td>2.5</td>\n      <td>3067.0</td>\n      <td>2.000000</td>\n      <td>1.000000</td>\n      <td>1.00000</td>\n      <td>150.000000</td>\n      <td>73.000000</td>\n      <td>1985.000000</td>\n      <td>-37.801100</td>\n      <td>145.000400</td>\n      <td>4019.0</td>\n    </tr>\n    <tr>\n      <th>28</th>\n      <td>38.0</td>\n      <td>4.0</td>\n      <td>1330000.0</td>\n      <td>2.5</td>\n      <td>3067.0</td>\n      <td>4.000000</td>\n      <td>2.000000</td>\n      <td>2.00000</td>\n      <td>780.000000</td>\n      <td>135.000000</td>\n      <td>1900.000000</td>\n      <td>-37.807300</td>\n      <td>144.995200</td>\n      <td>4019.0</td>\n    </tr>\n    <tr>\n      <th>29</th>\n      <td>40.0</td>\n      <td>3.0</td>\n      <td>900000.0</td>\n      <td>2.5</td>\n      <td>3067.0</td>\n      <td>3.000000</td>\n      <td>2.000000</td>\n      <td>2.00000</td>\n      <td>0.000000</td>\n      <td>151.220219</td>\n      <td>2010.000000</td>\n      <td>-37.809300</td>\n      <td>144.995900</td>\n      <td>4019.0</td>\n    </tr>\n  </tbody>\n</table>\n</div>"
     },
     "execution_count": 92,
     "metadata": {},
     "output_type": "execute_result"
    }
   ],
   "source": [
    "from sklearn.impute import SimpleImputer\n",
    "my_imputer = SimpleImputer(strategy='mean')\n",
    "OriginalDataNumeric = initialData.select_dtypes(exclude=['object'])\n",
    "OriginalDataNumeric.head(30)\n",
    "my_imputer.fit(OriginalDataNumeric)\n",
    "display(my_imputer.statistics_)\n",
    "TransformData = my_imputer.transform(OriginalDataNumeric)\n",
    "dftransformed = pd.DataFrame(TransformData, columns=OriginalDataNumeric.columns,index=OriginalDataNumeric.index)\n",
    "dftransformed.head(30)"
   ],
   "metadata": {
    "collapsed": false,
    "ExecuteTime": {
     "end_time": "2023-10-05T20:32:02.405909200Z",
     "start_time": "2023-10-05T20:32:02.360222800Z"
    }
   },
   "id": "3b2e7f0aa0178b77"
  }
 ],
 "metadata": {
  "kernelspec": {
   "display_name": "Python 3",
   "language": "python",
   "name": "python3"
  },
  "language_info": {
   "codemirror_mode": {
    "name": "ipython",
    "version": 2
   },
   "file_extension": ".py",
   "mimetype": "text/x-python",
   "name": "python",
   "nbconvert_exporter": "python",
   "pygments_lexer": "ipython2",
   "version": "2.7.6"
  }
 },
 "nbformat": 4,
 "nbformat_minor": 5
}
