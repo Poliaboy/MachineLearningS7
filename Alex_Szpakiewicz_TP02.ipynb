{
 "cells": [
  {
   "cell_type": "code",
   "execution_count": 14,
   "id": "initial_id",
   "metadata": {
    "collapsed": true,
    "ExecuteTime": {
     "end_time": "2023-09-25T15:31:01.868661900Z",
     "start_time": "2023-09-25T15:31:01.786219200Z"
    }
   },
   "outputs": [],
   "source": [
    "import pandas as pd\n",
    "import numpy as np"
   ]
  },
  {
   "cell_type": "markdown",
   "source": [
    "<h1>Part I: Data management with Pandas</h1>\n",
    "\n",
    "<h2>Exercise 1: Pandss Series data structure</h2>"
   ],
   "metadata": {
    "collapsed": false
   },
   "id": "141f7d8272eff9a8"
  },
  {
   "cell_type": "code",
   "execution_count": 23,
   "outputs": [
    {
     "data": {
      "text/plain": "0     Football\n1     Handball\n2    SnowSport\ndtype: object"
     },
     "metadata": {},
     "output_type": "display_data"
    }
   ],
   "source": [
    "sports = pd.Series(['Football', 'Handball', 'SnowSport'])\n",
    "display(sports)"
   ],
   "metadata": {
    "collapsed": false,
    "ExecuteTime": {
     "end_time": "2023-09-25T15:44:13.423854100Z",
     "start_time": "2023-09-25T15:44:13.400997300Z"
    }
   },
   "id": "6bbaf528dc73ef39"
  },
  {
   "cell_type": "markdown",
   "source": [
    "Each element of the list is an object."
   ],
   "metadata": {
    "collapsed": false
   },
   "id": "77fe73ff4ed3e4a6"
  },
  {
   "cell_type": "code",
   "execution_count": 24,
   "outputs": [
    {
     "data": {
      "text/plain": "0    1\n1    2\n2    3\n3    4\n4    5\ndtype: int64"
     },
     "metadata": {},
     "output_type": "display_data"
    }
   ],
   "source": [
    "numeric = pd.Series([1, 2, 3, 4, 5])\n",
    "display(numeric)"
   ],
   "metadata": {
    "collapsed": false,
    "ExecuteTime": {
     "end_time": "2023-09-25T15:44:15.695901300Z",
     "start_time": "2023-09-25T15:44:15.688892600Z"
    }
   },
   "id": "57e28a602b7d460d"
  },
  {
   "cell_type": "markdown",
   "source": [
    "The elements of the list are integers. "
   ],
   "metadata": {
    "collapsed": false
   },
   "id": "29d270f9a022ddf7"
  },
  {
   "cell_type": "code",
   "execution_count": 25,
   "outputs": [
    {
     "data": {
      "text/plain": "0     Football\n1     Handball\n2    SnowSport\n3         None\ndtype: object"
     },
     "metadata": {},
     "output_type": "display_data"
    },
    {
     "data": {
      "text/plain": "0    1.0\n1    2.0\n2    3.0\n3    4.0\n4    5.0\n5    NaN\ndtype: float64"
     },
     "metadata": {},
     "output_type": "display_data"
    }
   ],
   "source": [
    "sports = pd.Series(['Football', 'Handball', 'SnowSport',None])\n",
    "display(sports)\n",
    "numeric = pd.Series([1, 2, 3, 4, 5, None])\n",
    "display(numeric)"
   ],
   "metadata": {
    "collapsed": false,
    "ExecuteTime": {
     "end_time": "2023-09-25T15:44:17.468912Z",
     "start_time": "2023-09-25T15:44:17.430359100Z"
    }
   },
   "id": "dd19df2d7c71319a"
  },
  {
   "cell_type": "markdown",
   "source": [
    "The elements of the list sports didn't change, but the elements of the list numeric changed to floats."
   ],
   "metadata": {
    "collapsed": false
   },
   "id": "5df0e71fb2bb6efa"
  },
  {
   "cell_type": "code",
   "execution_count": 26,
   "outputs": [
    {
     "data": {
      "text/plain": "0     Football\n1     Handball\n2    SnowSport\n3          NaN\ndtype: object"
     },
     "metadata": {},
     "output_type": "display_data"
    },
    {
     "data": {
      "text/plain": "0    1.0\n1    2.0\n2    3.0\n3    4.0\n4    5.0\n5    NaN\ndtype: float64"
     },
     "metadata": {},
     "output_type": "display_data"
    }
   ],
   "source": [
    "np.isnan(np.nan)\n",
    "sports = pd.Series(['Football', 'Handball', 'SnowSport', np.nan])\n",
    "display(sports)\n",
    "numeric = pd.Series([1, 2, 3, 4, 5, np.nan])\n",
    "display(numeric)"
   ],
   "metadata": {
    "collapsed": false,
    "ExecuteTime": {
     "end_time": "2023-09-25T15:44:24.278094600Z",
     "start_time": "2023-09-25T15:44:24.236147400Z"
    }
   },
   "id": "ede4aa13bd9b29f2"
  },
  {
   "cell_type": "code",
   "execution_count": 27,
   "outputs": [
    {
     "data": {
      "text/plain": "1    BasketBall\n2      HandBall\n3     Snowsport\n4      baseBall\n5      Swimming\ndtype: object"
     },
     "metadata": {},
     "output_type": "display_data"
    },
    {
     "data": {
      "text/plain": "Index([1, 2, 3, 4, 5], dtype='int64')"
     },
     "execution_count": 27,
     "metadata": {},
     "output_type": "execute_result"
    }
   ],
   "source": [
    "sIndex = pd.Series({1:'BasketBall',  2:'HandBall',  3:'Snowsport',4:'baseBall', 5:'Swimming'})\n",
    "display(sIndex)\n",
    "sIndex.index"
   ],
   "metadata": {
    "collapsed": false,
    "ExecuteTime": {
     "end_time": "2023-09-25T15:44:37.631933300Z",
     "start_time": "2023-09-25T15:44:37.608859Z"
    }
   },
   "id": "603b79051c87e4e3"
  },
  {
   "cell_type": "markdown",
   "source": [
    "<h2>Exercise 2: Series Querying</h2>"
   ],
   "metadata": {
    "collapsed": false
   },
   "id": "31ec5b8624e4833b"
  },
  {
   "cell_type": "code",
   "execution_count": 30,
   "outputs": [
    {
     "data": {
      "text/plain": "bask    BasketBall\nhand      HandBall\nsnow     Snowsport\nbase      baseBall\nswim      Swimming\ndtype: object"
     },
     "metadata": {},
     "output_type": "display_data"
    },
    {
     "data": {
      "text/plain": "Index(['bask', 'hand', 'snow', 'base', 'swim'], dtype='object')"
     },
     "execution_count": 30,
     "metadata": {},
     "output_type": "execute_result"
    }
   ],
   "source": [
    "np.isnan(np.nan)\n",
    "sports={'bask': 'BasketBall', 'hand': 'HandBall', 'snow': 'Snowsport', 'base': 'baseBall','swim': 'Swimming'}\n",
    "#cast the list on a serie\n",
    "sIndex=pd.Series(sports)\n",
    "#display the serie\n",
    "display(sIndex)\n",
    "sIndex.index"
   ],
   "metadata": {
    "collapsed": false,
    "ExecuteTime": {
     "end_time": "2023-09-25T15:45:49.816027Z",
     "start_time": "2023-09-25T15:45:49.803407300Z"
    }
   },
   "id": "283f2f7d74157c93"
  },
  {
   "cell_type": "code",
   "execution_count": 31,
   "outputs": [
    {
     "data": {
      "text/plain": "'HandBall'"
     },
     "metadata": {},
     "output_type": "display_data"
    },
    {
     "data": {
      "text/plain": "'Snowsport'"
     },
     "metadata": {},
     "output_type": "display_data"
    }
   ],
   "source": [
    "display(sIndex.iloc[1])\n",
    "display(sIndex.loc['snow'])"
   ],
   "metadata": {
    "collapsed": false,
    "ExecuteTime": {
     "end_time": "2023-09-25T15:46:34.629621900Z",
     "start_time": "2023-09-25T15:46:34.607780900Z"
    }
   },
   "id": "7a8eb91833a4da14"
  },
  {
   "cell_type": "code",
   "execution_count": 47,
   "outputs": [
    {
     "name": "stdout",
     "output_type": "stream",
     "text": [
      "75.2 µs ± 4.06 µs per loop (mean ± std. dev. of 7 runs, 10,000 loops each)\n"
     ]
    }
   ],
   "source": [
    "sIndex.str.upper()\n",
    "%timeit sIndex.str.upper()"
   ],
   "metadata": {
    "collapsed": false,
    "ExecuteTime": {
     "end_time": "2023-09-25T15:54:45.322322Z",
     "start_time": "2023-09-25T15:54:39.085249100Z"
    }
   },
   "id": "d16a76cb88ca5260"
  },
  {
   "cell_type": "code",
   "execution_count": 46,
   "outputs": [
    {
     "name": "stdout",
     "output_type": "stream",
     "text": [
      "BASKETBALL\n",
      "HANDBALL\n",
      "SNOWSPORT\n",
      "BASEBALL\n",
      "SWIMMING\n",
      "351 ns ± 13.6 ns per loop (mean ± std. dev. of 7 runs, 1,000,000 loops each)\n"
     ]
    }
   ],
   "source": [
    "for i in sports.values():\n",
    "    i = i.upper()\n",
    "    print(i)\n",
    "%timeit for i in sports.values(): i = i.upper()"
   ],
   "metadata": {
    "collapsed": false,
    "ExecuteTime": {
     "end_time": "2023-09-25T15:54:34.072431200Z",
     "start_time": "2023-09-25T15:54:31.177325400Z"
    }
   },
   "id": "e75f4177eaff59cd"
  },
  {
   "cell_type": "code",
   "execution_count": 54,
   "outputs": [
    {
     "name": "stdout",
     "output_type": "stream",
     "text": [
      "57.5\n",
      "28.6 µs ± 7.75 µs per loop (mean ± std. dev. of 7 runs, 10,000 loops each)\n",
      "57.5\n",
      "14 ns ± 0.0812 ns per loop (mean ± std. dev. of 7 runs, 100,000,000 loops each)\n"
     ]
    }
   ],
   "source": [
    "#Solution 1 with vectorisation using np.mean ( )\n",
    "numeric=(None, 15, 100)\n",
    " # cast list as a Series\n",
    "num=pd.Series(numeric)\n",
    "meanValue=np.mean(num)\n",
    "print (meanValue)\n",
    "%timeit np.mean(num)\n",
    "#Solution 2 using a loop\n",
    "meanValue = 0\n",
    "sum=0\n",
    "length =0\n",
    "for item in num:\n",
    "    if not np.isnan(item):\n",
    "        sum=sum+item\n",
    "        length=length+1\n",
    "meanValue=sum/length\n",
    "print (meanValue)\n",
    "testcode = '''\n",
    "meanValue = 0\n",
    "sum=0\n",
    "length =0\n",
    "for item in num:\n",
    "    if not np.isnan(item):\n",
    "        sum=sum+item\n",
    "        length=length+1\n",
    "meanValue=sum/length\n",
    "'''\n",
    "%timeit testcode"
   ],
   "metadata": {
    "collapsed": false,
    "ExecuteTime": {
     "end_time": "2023-09-25T16:08:59.083930500Z",
     "start_time": "2023-09-25T16:08:45.348517600Z"
    }
   },
   "id": "9beaa912101dad51"
  },
  {
   "cell_type": "markdown",
   "source": [
    "It is faster to use vectorisation than a loop because the loop is executed for each element of the list, thus taking more iterations than the vectorisation."
   ],
   "metadata": {
    "collapsed": false
   },
   "id": "a3e8bb53dfd5652e"
  },
  {
   "cell_type": "markdown",
   "source": [
    "<h1>Part II: data checking</h1>"
   ],
   "metadata": {
    "collapsed": false
   },
   "id": "5c5e1a4b6f8f65ee"
  },
  {
   "cell_type": "markdown",
   "source": [
    "<h2>Exercise 3: From CSV to DataFrame data structure</h2>"
   ],
   "metadata": {
    "collapsed": false
   },
   "id": "33adfb2ba0b28f7f"
  },
  {
   "cell_type": "code",
   "execution_count": null,
   "outputs": [],
   "source": [],
   "metadata": {
    "collapsed": false
   },
   "id": "6fb9fa1b50f9fea6"
  }
 ],
 "metadata": {
  "kernelspec": {
   "display_name": "Python 3",
   "language": "python",
   "name": "python3"
  },
  "language_info": {
   "codemirror_mode": {
    "name": "ipython",
    "version": 2
   },
   "file_extension": ".py",
   "mimetype": "text/x-python",
   "name": "python",
   "nbconvert_exporter": "python",
   "pygments_lexer": "ipython2",
   "version": "2.7.6"
  }
 },
 "nbformat": 4,
 "nbformat_minor": 5
}
